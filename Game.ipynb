{
 "cells": [
  {
   "cell_type": "markdown",
   "id": "e06910dd",
   "metadata": {
    "id": "e06910dd"
   },
   "source": [
    "# Анализ развития игровой индустрии в начале XXI века с акцентом на игры RPG\n",
    "\n",
    "- Автор: Матвеева Анна\n",
    "- Дата: Февраль 2025"
   ]
  },
  {
   "cell_type": "markdown",
   "id": "4149134c",
   "metadata": {
    "id": "4149134c"
   },
   "source": [
    "# Цели и задачи проекта\n",
    "\n",
    "Подготовка исходных данных для написания статьи о развитии индустрии игр в начале XXI века. Проведение исследовательской работы игровых платформ и объёмов продаж игр разных жанров, региональные предпочтения игроков (с акцентом на играх жанра RPG)."
   ]
  },
  {
   "cell_type": "markdown",
   "id": "728986ea",
   "metadata": {
    "id": "728986ea"
   },
   "source": [
    "## Описание данных\n",
    "\n",
    "Данные `/datasets/new_games.csv` содержат информацию о продажах игр разных жанров и платформ, а также пользовательские и экспертные оценки игр:  \n",
    "- `Name` — название игры.  \n",
    "- `Platform` — название платформы.  \n",
    "- `Year of Release` — год выпуска игры.  \n",
    "- `Genre` — жанр игры.  \n",
    "- `NA sales` — продажи в Северной Америке (в миллионах проданных копий).  \n",
    "- `EU sales` — продажи в Европе (в миллионах проданных копий).  \n",
    "- `JP sales` — продажи в Японии (в миллионах проданных копий).  \n",
    "- `Other sales` — продажи в других странах (в миллионах проданных копий).  \n",
    "- `Critic Score` — оценка критиков (от 0 до 100).  \n",
    "- `User Score` — оценка пользователей (от 0 до 10).  \n",
    "- `Rating` — рейтинг организации ESRB (англ. Entertainment Software Rating Board)."
   ]
  },
  {
   "cell_type": "markdown",
   "id": "4fecaf95",
   "metadata": {
    "id": "4fecaf95"
   },
   "source": [
    "## Содержимое проекта\n",
    "\n",
    "---\n",
    "1. Знакомство с данными.   \n",
    "2. Проверка ошибок в данных и их предобработка. \n",
    "    - Названия, или метки, столбцов датафрейма.\n",
    "    - Типы данных.\n",
    "    - Наличие пропусков в данных.\n",
    "    - Явные и неявные дубликаты в данных.\n",
    "3. Фильтрация данных.  \n",
    "4. Категоризация данных."
   ]
  },
  {
   "cell_type": "markdown",
   "id": "42b8fc53",
   "metadata": {},
   "source": [
    "В ходе данного проекта планируется выполнить следующее:\n",
    "- Проверить корректность данных и провести их предобработку.\n",
    "- Отобрать данные по времени выхода игры за период с 2000 по 2013 год включительно.\n",
    "- Категоризовать игры по оценкам пользователей и экспертов, выделив три категории:  \n",
    "    - высокая оценка — с оценкой от 8 до 10 и от 80 до 100, включая правые границы интервалов.\n",
    "    - средняя оценка — с оценкой от 3 до 8 и от 30 до 80, не включая правые границы интервалов.\n",
    "    - низкая оценка — с оценкой от 0 до 3 и от 0 до 30, не включая правые границы интервалов.\n",
    "- Выделить топ-7 платформ по количеству игр, выпущенных за весь требуемый период.  \n",
    "\n",
    "Вышеперечисленные шаги позволят получить экспертам необходимый для написания статьи срез данных."
   ]
  },
  {
   "cell_type": "markdown",
   "id": "6f7d21d6",
   "metadata": {
    "id": "6f7d21d6"
   },
   "source": [
    "## 1. Загрузка данных и знакомство с ними"
   ]
  },
  {
   "cell_type": "code",
   "execution_count": 1,
   "id": "ebb66dc5",
   "metadata": {
    "id": "ebb66dc5"
   },
   "outputs": [],
   "source": [
    "# Импортируем библиотеку pandas\n",
    "import pandas as pd\n",
    "import matplotlib.pyplot as plt"
   ]
  },
  {
   "cell_type": "code",
   "execution_count": 2,
   "id": "ce87c1db",
   "metadata": {
    "id": "ce87c1db"
   },
   "outputs": [],
   "source": [
    "# Выгружаем данные из датасета new_games.csv в датафрейм games\n",
    "games = pd.read_csv('https://code.s3.yandex.net/datasets/new_games.csv')"
   ]
  },
  {
   "cell_type": "code",
   "execution_count": 3,
   "id": "90fee493",
   "metadata": {
    "id": "90fee493"
   },
   "outputs": [
    {
     "name": "stdout",
     "output_type": "stream",
     "text": [
      "<class 'pandas.core.frame.DataFrame'>\n",
      "RangeIndex: 16956 entries, 0 to 16955\n",
      "Data columns (total 11 columns):\n",
      " #   Column           Non-Null Count  Dtype  \n",
      "---  ------           --------------  -----  \n",
      " 0   Name             16954 non-null  object \n",
      " 1   Platform         16956 non-null  object \n",
      " 2   Year of Release  16681 non-null  float64\n",
      " 3   Genre            16954 non-null  object \n",
      " 4   NA sales         16956 non-null  float64\n",
      " 5   EU sales         16956 non-null  object \n",
      " 6   JP sales         16956 non-null  object \n",
      " 7   Other sales      16956 non-null  float64\n",
      " 8   Critic Score     8242 non-null   float64\n",
      " 9   User Score       10152 non-null  object \n",
      " 10  Rating           10085 non-null  object \n",
      "dtypes: float64(4), object(7)\n",
      "memory usage: 1.4+ MB\n"
     ]
    }
   ],
   "source": [
    "# Выводим информацию о датафрейме\n",
    "games.info()"
   ]
  },
  {
   "cell_type": "code",
   "execution_count": 4,
   "id": "3937acf7",
   "metadata": {
    "id": "3937acf7"
   },
   "outputs": [
    {
     "data": {
      "text/html": [
       "<div>\n",
       "<style scoped>\n",
       "    .dataframe tbody tr th:only-of-type {\n",
       "        vertical-align: middle;\n",
       "    }\n",
       "\n",
       "    .dataframe tbody tr th {\n",
       "        vertical-align: top;\n",
       "    }\n",
       "\n",
       "    .dataframe thead th {\n",
       "        text-align: right;\n",
       "    }\n",
       "</style>\n",
       "<table border=\"1\" class=\"dataframe\">\n",
       "  <thead>\n",
       "    <tr style=\"text-align: right;\">\n",
       "      <th></th>\n",
       "      <th>Name</th>\n",
       "      <th>Platform</th>\n",
       "      <th>Year of Release</th>\n",
       "      <th>Genre</th>\n",
       "      <th>NA sales</th>\n",
       "      <th>EU sales</th>\n",
       "      <th>JP sales</th>\n",
       "      <th>Other sales</th>\n",
       "      <th>Critic Score</th>\n",
       "      <th>User Score</th>\n",
       "      <th>Rating</th>\n",
       "    </tr>\n",
       "  </thead>\n",
       "  <tbody>\n",
       "    <tr>\n",
       "      <th>0</th>\n",
       "      <td>Wii Sports</td>\n",
       "      <td>Wii</td>\n",
       "      <td>2006.0</td>\n",
       "      <td>Sports</td>\n",
       "      <td>41.36</td>\n",
       "      <td>28.96</td>\n",
       "      <td>3.77</td>\n",
       "      <td>8.45</td>\n",
       "      <td>76.0</td>\n",
       "      <td>8</td>\n",
       "      <td>E</td>\n",
       "    </tr>\n",
       "    <tr>\n",
       "      <th>1</th>\n",
       "      <td>Super Mario Bros.</td>\n",
       "      <td>NES</td>\n",
       "      <td>1985.0</td>\n",
       "      <td>Platform</td>\n",
       "      <td>29.08</td>\n",
       "      <td>3.58</td>\n",
       "      <td>6.81</td>\n",
       "      <td>0.77</td>\n",
       "      <td>NaN</td>\n",
       "      <td>NaN</td>\n",
       "      <td>NaN</td>\n",
       "    </tr>\n",
       "    <tr>\n",
       "      <th>2</th>\n",
       "      <td>Mario Kart Wii</td>\n",
       "      <td>Wii</td>\n",
       "      <td>2008.0</td>\n",
       "      <td>Racing</td>\n",
       "      <td>15.68</td>\n",
       "      <td>12.76</td>\n",
       "      <td>3.79</td>\n",
       "      <td>3.29</td>\n",
       "      <td>82.0</td>\n",
       "      <td>8.3</td>\n",
       "      <td>E</td>\n",
       "    </tr>\n",
       "    <tr>\n",
       "      <th>3</th>\n",
       "      <td>Wii Sports Resort</td>\n",
       "      <td>Wii</td>\n",
       "      <td>2009.0</td>\n",
       "      <td>Sports</td>\n",
       "      <td>15.61</td>\n",
       "      <td>10.93</td>\n",
       "      <td>3.28</td>\n",
       "      <td>2.95</td>\n",
       "      <td>80.0</td>\n",
       "      <td>8</td>\n",
       "      <td>E</td>\n",
       "    </tr>\n",
       "    <tr>\n",
       "      <th>4</th>\n",
       "      <td>Pokemon Red/Pokemon Blue</td>\n",
       "      <td>GB</td>\n",
       "      <td>1996.0</td>\n",
       "      <td>Role-Playing</td>\n",
       "      <td>11.27</td>\n",
       "      <td>8.89</td>\n",
       "      <td>10.22</td>\n",
       "      <td>1.00</td>\n",
       "      <td>NaN</td>\n",
       "      <td>NaN</td>\n",
       "      <td>NaN</td>\n",
       "    </tr>\n",
       "    <tr>\n",
       "      <th>5</th>\n",
       "      <td>Tetris</td>\n",
       "      <td>GB</td>\n",
       "      <td>1989.0</td>\n",
       "      <td>Puzzle</td>\n",
       "      <td>23.20</td>\n",
       "      <td>2.26</td>\n",
       "      <td>4.22</td>\n",
       "      <td>0.58</td>\n",
       "      <td>NaN</td>\n",
       "      <td>NaN</td>\n",
       "      <td>NaN</td>\n",
       "    </tr>\n",
       "    <tr>\n",
       "      <th>6</th>\n",
       "      <td>New Super Mario Bros.</td>\n",
       "      <td>DS</td>\n",
       "      <td>2006.0</td>\n",
       "      <td>Platform</td>\n",
       "      <td>11.28</td>\n",
       "      <td>9.14</td>\n",
       "      <td>6.5</td>\n",
       "      <td>2.88</td>\n",
       "      <td>89.0</td>\n",
       "      <td>8.5</td>\n",
       "      <td>E</td>\n",
       "    </tr>\n",
       "    <tr>\n",
       "      <th>7</th>\n",
       "      <td>Wii Play</td>\n",
       "      <td>Wii</td>\n",
       "      <td>2006.0</td>\n",
       "      <td>Misc</td>\n",
       "      <td>13.96</td>\n",
       "      <td>9.18</td>\n",
       "      <td>2.93</td>\n",
       "      <td>2.84</td>\n",
       "      <td>58.0</td>\n",
       "      <td>6.6</td>\n",
       "      <td>E</td>\n",
       "    </tr>\n",
       "    <tr>\n",
       "      <th>8</th>\n",
       "      <td>New Super Mario Bros. Wii</td>\n",
       "      <td>Wii</td>\n",
       "      <td>2009.0</td>\n",
       "      <td>Platform</td>\n",
       "      <td>14.44</td>\n",
       "      <td>6.94</td>\n",
       "      <td>4.7</td>\n",
       "      <td>2.24</td>\n",
       "      <td>87.0</td>\n",
       "      <td>8.4</td>\n",
       "      <td>E</td>\n",
       "    </tr>\n",
       "    <tr>\n",
       "      <th>9</th>\n",
       "      <td>Duck Hunt</td>\n",
       "      <td>NES</td>\n",
       "      <td>1984.0</td>\n",
       "      <td>Shooter</td>\n",
       "      <td>26.93</td>\n",
       "      <td>0.63</td>\n",
       "      <td>0.28</td>\n",
       "      <td>0.47</td>\n",
       "      <td>NaN</td>\n",
       "      <td>NaN</td>\n",
       "      <td>NaN</td>\n",
       "    </tr>\n",
       "  </tbody>\n",
       "</table>\n",
       "</div>"
      ],
      "text/plain": [
       "                        Name Platform  Year of Release         Genre  \\\n",
       "0                 Wii Sports      Wii           2006.0        Sports   \n",
       "1          Super Mario Bros.      NES           1985.0      Platform   \n",
       "2             Mario Kart Wii      Wii           2008.0        Racing   \n",
       "3          Wii Sports Resort      Wii           2009.0        Sports   \n",
       "4   Pokemon Red/Pokemon Blue       GB           1996.0  Role-Playing   \n",
       "5                     Tetris       GB           1989.0        Puzzle   \n",
       "6      New Super Mario Bros.       DS           2006.0      Platform   \n",
       "7                   Wii Play      Wii           2006.0          Misc   \n",
       "8  New Super Mario Bros. Wii      Wii           2009.0      Platform   \n",
       "9                  Duck Hunt      NES           1984.0       Shooter   \n",
       "\n",
       "   NA sales EU sales JP sales  Other sales  Critic Score User Score Rating  \n",
       "0     41.36    28.96     3.77         8.45          76.0          8      E  \n",
       "1     29.08     3.58     6.81         0.77           NaN        NaN    NaN  \n",
       "2     15.68    12.76     3.79         3.29          82.0        8.3      E  \n",
       "3     15.61    10.93     3.28         2.95          80.0          8      E  \n",
       "4     11.27     8.89    10.22         1.00           NaN        NaN    NaN  \n",
       "5     23.20     2.26     4.22         0.58           NaN        NaN    NaN  \n",
       "6     11.28     9.14      6.5         2.88          89.0        8.5      E  \n",
       "7     13.96     9.18     2.93         2.84          58.0        6.6      E  \n",
       "8     14.44     6.94      4.7         2.24          87.0        8.4      E  \n",
       "9     26.93     0.63     0.28         0.47           NaN        NaN    NaN  "
      ]
     },
     "execution_count": 4,
     "metadata": {},
     "output_type": "execute_result"
    }
   ],
   "source": [
    "# Выводим первые строки датафрейма на экран\n",
    "games.head(10)"
   ]
  },
  {
   "cell_type": "code",
   "execution_count": 5,
   "id": "d7c8eb4b",
   "metadata": {
    "id": "d7c8eb4b"
   },
   "outputs": [
    {
     "data": {
      "text/plain": [
       "Name                  2\n",
       "Platform              0\n",
       "Year of Release     275\n",
       "Genre                 2\n",
       "NA sales              0\n",
       "EU sales              0\n",
       "JP sales              0\n",
       "Other sales           0\n",
       "Critic Score       8714\n",
       "User Score         6804\n",
       "Rating             6871\n",
       "dtype: int64"
      ]
     },
     "execution_count": 5,
     "metadata": {},
     "output_type": "execute_result"
    }
   ],
   "source": [
    "# Считаем пропуски в датафрейме\n",
    "games.isna().sum()"
   ]
  },
  {
   "cell_type": "code",
   "execution_count": 6,
   "id": "e8570890",
   "metadata": {},
   "outputs": [
    {
     "data": {
      "text/plain": [
       "Name                0.01\n",
       "Platform            0.00\n",
       "Year of Release     1.62\n",
       "Genre               0.01\n",
       "NA sales            0.00\n",
       "EU sales            0.00\n",
       "JP sales            0.00\n",
       "Other sales         0.00\n",
       "Critic Score       51.39\n",
       "User Score         40.13\n",
       "Rating             40.52\n",
       "dtype: float64"
      ]
     },
     "execution_count": 6,
     "metadata": {},
     "output_type": "execute_result"
    }
   ],
   "source": [
    "# Считаем % пропусков в датафрейме\n",
    "round(games.isna().sum() / len(games)*100, 2)"
   ]
  },
  {
   "cell_type": "code",
   "execution_count": 7,
   "id": "fc561cac",
   "metadata": {
    "id": "fc561cac",
    "scrolled": true
   },
   "outputs": [
    {
     "data": {
      "text/plain": [
       "Name                  2\n",
       "Year of Release     275\n",
       "Genre                 2\n",
       "Critic Score       8714\n",
       "User Score         6804\n",
       "Rating             6871\n",
       "dtype: int64"
      ]
     },
     "execution_count": 7,
     "metadata": {},
     "output_type": "execute_result"
    }
   ],
   "source": [
    "# Выводим строки с пропусками\n",
    "games[['Name','Year of Release','Genre','Critic Score','User Score','Rating']].isna().sum()"
   ]
  },
  {
   "cell_type": "markdown",
   "id": "8ed5235a",
   "metadata": {
    "id": "81651b8d"
   },
   "source": [
    "**Первичные выводы.**  \n",
    "Для анализа представлен датасет `new_games.csv`, который содержит 11 столбцов и 16956 строк. В нем представлена информация о продажах игр разных жанров и платформ, а также пользовательские и экспертные оценки игр.   \n",
    "1. Проведен анализ типов данных и их корректность:  \n",
    "    -\t**Числовые значения с плавающей запятой (`float64`)**. \n",
    "    Четыре столбца представлены типом float64 (`Year of Release, NA sales, Other sales, Critic Score`).  \n",
    "    Для трех столбцов  (`NA sales, Other sales, Critic Score`) это верное решение, так как сумма продаж в миллионах шт. включает дробные значения.  \n",
    "    Для столбца `Year of Release` более уместен тип `int16`, т.к. год выпуска игры укладывается в ограничения данного типа данных.   \n",
    "    •\t**Строковые данные (`object`)**. Семь столбцов имеют данный тип данных:  \n",
    "        `Name, Platform, Genre, Rating` содержат строковую информацию, что логично для текстовых данных. Здесь тип данных `object` подходит.  \n",
    "        `EU sales, JP sales, User Score`  хранят информацию о суммах продаж и рейтингах игр, а значит существует возможность оптимизации путем корректировки типа на `float64` (Числовые значения с плавающей запятой).  \n",
    "    •\t**Булевые значения (`bool`)** в представленном датасете не требуются, т.к. отсутствуют столбцы, содержащие логическую информацию: `True` и `False`.  \n",
    "\n",
    "После анализа типов данных видно, что половина столбцов корректно представлены. Для оптимизации можно использовать целочисленные типы с уменьшенной разрядностью и преобразовать строковые данные, содержащие числовые значения с запятой, в тип `float64`.\n"
   ]
  },
  {
   "cell_type": "markdown",
   "id": "65197ce0",
   "metadata": {},
   "source": [
    "2. Наименования столбцов не соответствуют общепринятым стандартам **snake_case**. Необходима корректировка, поэтому заменим нижним подчеркиванием пробелы, используемые для разделения слов в названиях столбцов. Так же все буквы сделаем строчными с целью недопущения наличия дубликатов."
   ]
  },
  {
   "cell_type": "markdown",
   "id": "b273dbfb",
   "metadata": {},
   "source": [
    "3. Датасет **содержит пропуски**, которые можно поделить на 2 категории:  \n",
    "•\tMCAR — пропуски совершенно случайны (`Name, Year of Release, Genre`);  \n",
    "•\tMAR — пропуски случайны, но объясняются наблюдаемыми данными (`Critic Score, User Score, Rating`);  \n",
    "Первую категорию можно удалить, т.к. количество строк незначительное и не повлияет на итоговые результаты.\n",
    "Вторую категорию удалять нельзя, при дальнейшем анализе можно будет выяснить причины. В данных ячейках будет установлен индикатор-\"заглушка\" для оперативного отфильтровывания данных строк."
   ]
  },
  {
   "cell_type": "markdown",
   "id": "774bf76e",
   "metadata": {
    "id": "774bf76e"
   },
   "source": [
    "## 2.  Проверка ошибок в данных и их предобработка\n",
    "\n",
    "\n",
    "### 2.1. Названия, или метки, столбцов датафрейма\n",
    "\n",
    "<font color='#777778'>- Выведите на экран названия всех столбцов датафрейма и проверьте их стиль написания.</font>  \n",
    "<font color='#777778'>- Приведите все столбцы к стилю snake case. Названия должны быть в нижнем регистре, а вместо пробелов — подчёркивания.</font>"
   ]
  },
  {
   "cell_type": "code",
   "execution_count": 8,
   "id": "b9276a2b",
   "metadata": {
    "id": "b9276a2b"
   },
   "outputs": [
    {
     "name": "stdout",
     "output_type": "stream",
     "text": [
      "Наименования столбцов:\n"
     ]
    },
    {
     "data": {
      "text/plain": [
       "['Name',\n",
       " 'Platform',\n",
       " 'Year of Release',\n",
       " 'Genre',\n",
       " 'NA sales',\n",
       " 'EU sales',\n",
       " 'JP sales',\n",
       " 'Other sales',\n",
       " 'Critic Score',\n",
       " 'User Score',\n",
       " 'Rating']"
      ]
     },
     "execution_count": 8,
     "metadata": {},
     "output_type": "execute_result"
    }
   ],
   "source": [
    "print('Наименования столбцов:')\n",
    "games.columns.tolist()"
   ]
  },
  {
   "cell_type": "code",
   "execution_count": 9,
   "id": "d554563c",
   "metadata": {
    "id": "d554563c"
   },
   "outputs": [
    {
     "name": "stdout",
     "output_type": "stream",
     "text": [
      "Наименования snake_case:\n"
     ]
    },
    {
     "data": {
      "text/plain": [
       "['name',\n",
       " 'platform',\n",
       " 'year_of_release',\n",
       " 'genre',\n",
       " 'na_sales',\n",
       " 'eu_sales',\n",
       " 'jp_sales',\n",
       " 'other_sales',\n",
       " 'critic_score',\n",
       " 'user_score',\n",
       " 'rating']"
      ]
     },
     "execution_count": 9,
     "metadata": {},
     "output_type": "execute_result"
    }
   ],
   "source": [
    "#Заменяем названия столбцов на более корректные snake_case\n",
    "gm = games.copy()\n",
    "gm.columns = gm.columns.str.replace(' ', '_').str.lower()\n",
    "print('Наименования snake_case:')\n",
    "gm.columns.tolist()"
   ]
  },
  {
   "cell_type": "markdown",
   "id": "41bc6bf8",
   "metadata": {
    "id": "41bc6bf8"
   },
   "source": [
    "### 2.2. Типы данных"
   ]
  },
  {
   "cell_type": "markdown",
   "id": "20136f71",
   "metadata": {},
   "source": [
    "Как было сказано выше, типы данных не оптимальны по ряду столбцов, поэтому необходимо провести обработку пропусков, прежде, чем преобразовывать данные."
   ]
  },
  {
   "cell_type": "code",
   "execution_count": 10,
   "id": "87b573dd",
   "metadata": {
    "id": "87b573dd"
   },
   "outputs": [
    {
     "name": "stdout",
     "output_type": "stream",
     "text": [
      "1980.0\n",
      "2016.0\n"
     ]
    }
   ],
   "source": [
    "# Устанавливаем на пропущенные 275 позиций года выпуска нулевой год и меняем тип\n",
    "print(gm['year_of_release'].min())\n",
    "print(gm['year_of_release'].max())\n",
    "gm['year_of_release'] = gm['year_of_release'].fillna(0).astype('int16')"
   ]
  },
  {
   "cell_type": "code",
   "execution_count": 11,
   "id": "e8412c01",
   "metadata": {
    "id": "e8412c01"
   },
   "outputs": [
    {
     "data": {
      "text/plain": [
       "name                  0\n",
       "platform              0\n",
       "year_of_release       0\n",
       "genre                 0\n",
       "na_sales              0\n",
       "eu_sales              0\n",
       "jp_sales              0\n",
       "other_sales           0\n",
       "critic_score       8712\n",
       "user_score         6802\n",
       "rating             6869\n",
       "dtype: int64"
      ]
     },
     "execution_count": 11,
     "metadata": {},
     "output_type": "execute_result"
    }
   ],
   "source": [
    "# Удаляем строки с пропусками в наименовании и жанре, т.к. заполнить их нет закономерности, \n",
    "# а количество строк с пропусками ничтожно мало.\n",
    "gm = gm.dropna(subset=['name'])\n",
    "gm = gm.dropna(subset=['genre'])\n",
    "gm.isna().sum()"
   ]
  },
  {
   "cell_type": "code",
   "execution_count": 12,
   "id": "1a2f78a5",
   "metadata": {},
   "outputs": [],
   "source": [
    "# Преобразовываем строковый тип данных столбцов продажи в Европе и в Японии, \n",
    "# оценка пользователей и экспертов в числовые с плавающей запятой\n",
    "gm['eu_sales'] = pd.to_numeric(gm['eu_sales'], errors = 'coerce' )\n",
    "gm['jp_sales'] = pd.to_numeric(gm['jp_sales'], errors='coerce')\n",
    "gm['critic_score'] = pd.to_numeric(gm['critic_score'], errors='coerce')\n",
    "gm['user_score'] = pd.to_numeric(gm['user_score'], errors='coerce')"
   ]
  },
  {
   "cell_type": "code",
   "execution_count": 13,
   "id": "543c5f2f",
   "metadata": {},
   "outputs": [
    {
     "data": {
      "text/html": [
       "<div>\n",
       "<style scoped>\n",
       "    .dataframe tbody tr th:only-of-type {\n",
       "        vertical-align: middle;\n",
       "    }\n",
       "\n",
       "    .dataframe tbody tr th {\n",
       "        vertical-align: top;\n",
       "    }\n",
       "\n",
       "    .dataframe thead th {\n",
       "        text-align: right;\n",
       "    }\n",
       "</style>\n",
       "<table border=\"1\" class=\"dataframe\">\n",
       "  <thead>\n",
       "    <tr style=\"text-align: right;\">\n",
       "      <th></th>\n",
       "      <th>name</th>\n",
       "      <th>platform</th>\n",
       "      <th>year_of_release</th>\n",
       "      <th>genre</th>\n",
       "      <th>na_sales</th>\n",
       "      <th>eu_sales</th>\n",
       "      <th>jp_sales</th>\n",
       "      <th>other_sales</th>\n",
       "      <th>critic_score</th>\n",
       "      <th>user_score</th>\n",
       "      <th>rating</th>\n",
       "    </tr>\n",
       "  </thead>\n",
       "  <tbody>\n",
       "    <tr>\n",
       "      <th>1</th>\n",
       "      <td>Super Mario Bros.</td>\n",
       "      <td>NES</td>\n",
       "      <td>1985</td>\n",
       "      <td>Platform</td>\n",
       "      <td>29.08</td>\n",
       "      <td>3.58</td>\n",
       "      <td>6.81</td>\n",
       "      <td>0.77</td>\n",
       "      <td>NaN</td>\n",
       "      <td>NaN</td>\n",
       "      <td>NaN</td>\n",
       "    </tr>\n",
       "    <tr>\n",
       "      <th>4</th>\n",
       "      <td>Pokemon Red/Pokemon Blue</td>\n",
       "      <td>GB</td>\n",
       "      <td>1996</td>\n",
       "      <td>Role-Playing</td>\n",
       "      <td>11.27</td>\n",
       "      <td>8.89</td>\n",
       "      <td>10.22</td>\n",
       "      <td>1.00</td>\n",
       "      <td>NaN</td>\n",
       "      <td>NaN</td>\n",
       "      <td>NaN</td>\n",
       "    </tr>\n",
       "    <tr>\n",
       "      <th>5</th>\n",
       "      <td>Tetris</td>\n",
       "      <td>GB</td>\n",
       "      <td>1989</td>\n",
       "      <td>Puzzle</td>\n",
       "      <td>23.20</td>\n",
       "      <td>2.26</td>\n",
       "      <td>4.22</td>\n",
       "      <td>0.58</td>\n",
       "      <td>NaN</td>\n",
       "      <td>NaN</td>\n",
       "      <td>NaN</td>\n",
       "    </tr>\n",
       "    <tr>\n",
       "      <th>9</th>\n",
       "      <td>Duck Hunt</td>\n",
       "      <td>NES</td>\n",
       "      <td>1984</td>\n",
       "      <td>Shooter</td>\n",
       "      <td>26.93</td>\n",
       "      <td>0.63</td>\n",
       "      <td>0.28</td>\n",
       "      <td>0.47</td>\n",
       "      <td>NaN</td>\n",
       "      <td>NaN</td>\n",
       "      <td>NaN</td>\n",
       "    </tr>\n",
       "    <tr>\n",
       "      <th>10</th>\n",
       "      <td>Nintendogs</td>\n",
       "      <td>DS</td>\n",
       "      <td>2005</td>\n",
       "      <td>Simulation</td>\n",
       "      <td>9.05</td>\n",
       "      <td>10.95</td>\n",
       "      <td>1.93</td>\n",
       "      <td>2.74</td>\n",
       "      <td>NaN</td>\n",
       "      <td>NaN</td>\n",
       "      <td>NaN</td>\n",
       "    </tr>\n",
       "    <tr>\n",
       "      <th>...</th>\n",
       "      <td>...</td>\n",
       "      <td>...</td>\n",
       "      <td>...</td>\n",
       "      <td>...</td>\n",
       "      <td>...</td>\n",
       "      <td>...</td>\n",
       "      <td>...</td>\n",
       "      <td>...</td>\n",
       "      <td>...</td>\n",
       "      <td>...</td>\n",
       "      <td>...</td>\n",
       "    </tr>\n",
       "    <tr>\n",
       "      <th>16951</th>\n",
       "      <td>Samurai Warriors: Sanada Maru</td>\n",
       "      <td>PS3</td>\n",
       "      <td>2016</td>\n",
       "      <td>Action</td>\n",
       "      <td>0.00</td>\n",
       "      <td>0.00</td>\n",
       "      <td>0.01</td>\n",
       "      <td>0.00</td>\n",
       "      <td>NaN</td>\n",
       "      <td>NaN</td>\n",
       "      <td>NaN</td>\n",
       "    </tr>\n",
       "    <tr>\n",
       "      <th>16952</th>\n",
       "      <td>LMA Manager 2007</td>\n",
       "      <td>X360</td>\n",
       "      <td>2006</td>\n",
       "      <td>Sports</td>\n",
       "      <td>0.00</td>\n",
       "      <td>0.01</td>\n",
       "      <td>0.00</td>\n",
       "      <td>0.00</td>\n",
       "      <td>NaN</td>\n",
       "      <td>NaN</td>\n",
       "      <td>NaN</td>\n",
       "    </tr>\n",
       "    <tr>\n",
       "      <th>16953</th>\n",
       "      <td>Haitaka no Psychedelica</td>\n",
       "      <td>PSV</td>\n",
       "      <td>2016</td>\n",
       "      <td>Adventure</td>\n",
       "      <td>0.00</td>\n",
       "      <td>0.00</td>\n",
       "      <td>0.01</td>\n",
       "      <td>0.00</td>\n",
       "      <td>NaN</td>\n",
       "      <td>NaN</td>\n",
       "      <td>NaN</td>\n",
       "    </tr>\n",
       "    <tr>\n",
       "      <th>16954</th>\n",
       "      <td>Spirits &amp; Spells</td>\n",
       "      <td>GBA</td>\n",
       "      <td>2003</td>\n",
       "      <td>Platform</td>\n",
       "      <td>0.01</td>\n",
       "      <td>0.00</td>\n",
       "      <td>0.00</td>\n",
       "      <td>0.00</td>\n",
       "      <td>NaN</td>\n",
       "      <td>NaN</td>\n",
       "      <td>NaN</td>\n",
       "    </tr>\n",
       "    <tr>\n",
       "      <th>16955</th>\n",
       "      <td>Winning Post 8 2016</td>\n",
       "      <td>PSV</td>\n",
       "      <td>2016</td>\n",
       "      <td>Simulation</td>\n",
       "      <td>0.00</td>\n",
       "      <td>0.00</td>\n",
       "      <td>0.01</td>\n",
       "      <td>0.00</td>\n",
       "      <td>NaN</td>\n",
       "      <td>NaN</td>\n",
       "      <td>NaN</td>\n",
       "    </tr>\n",
       "  </tbody>\n",
       "</table>\n",
       "<p>9927 rows × 11 columns</p>\n",
       "</div>"
      ],
      "text/plain": [
       "                                name platform  year_of_release         genre  \\\n",
       "1                  Super Mario Bros.      NES             1985      Platform   \n",
       "4           Pokemon Red/Pokemon Blue       GB             1996  Role-Playing   \n",
       "5                             Tetris       GB             1989        Puzzle   \n",
       "9                          Duck Hunt      NES             1984       Shooter   \n",
       "10                        Nintendogs       DS             2005    Simulation   \n",
       "...                              ...      ...              ...           ...   \n",
       "16951  Samurai Warriors: Sanada Maru      PS3             2016        Action   \n",
       "16952               LMA Manager 2007     X360             2006        Sports   \n",
       "16953        Haitaka no Psychedelica      PSV             2016     Adventure   \n",
       "16954               Spirits & Spells      GBA             2003      Platform   \n",
       "16955            Winning Post 8 2016      PSV             2016    Simulation   \n",
       "\n",
       "       na_sales  eu_sales  jp_sales  other_sales  critic_score  user_score  \\\n",
       "1         29.08      3.58      6.81         0.77           NaN         NaN   \n",
       "4         11.27      8.89     10.22         1.00           NaN         NaN   \n",
       "5         23.20      2.26      4.22         0.58           NaN         NaN   \n",
       "9         26.93      0.63      0.28         0.47           NaN         NaN   \n",
       "10         9.05     10.95      1.93         2.74           NaN         NaN   \n",
       "...         ...       ...       ...          ...           ...         ...   \n",
       "16951      0.00      0.00      0.01         0.00           NaN         NaN   \n",
       "16952      0.00      0.01      0.00         0.00           NaN         NaN   \n",
       "16953      0.00      0.00      0.01         0.00           NaN         NaN   \n",
       "16954      0.01      0.00      0.00         0.00           NaN         NaN   \n",
       "16955      0.00      0.00      0.01         0.00           NaN         NaN   \n",
       "\n",
       "      rating  \n",
       "1        NaN  \n",
       "4        NaN  \n",
       "5        NaN  \n",
       "9        NaN  \n",
       "10       NaN  \n",
       "...      ...  \n",
       "16951    NaN  \n",
       "16952    NaN  \n",
       "16953    NaN  \n",
       "16954    NaN  \n",
       "16955    NaN  \n",
       "\n",
       "[9927 rows x 11 columns]"
      ]
     },
     "execution_count": 13,
     "metadata": {},
     "output_type": "execute_result"
    }
   ],
   "source": [
    "gm[gm.isna().any(axis=1)]  # Выводим строки где есть хоть одно пропущенное значение в каждой строке."
   ]
  },
  {
   "cell_type": "code",
   "execution_count": 14,
   "id": "add6fd6e",
   "metadata": {},
   "outputs": [
    {
     "data": {
      "text/plain": [
       "name                  0\n",
       "platform              0\n",
       "year_of_release       0\n",
       "genre                 0\n",
       "na_sales              0\n",
       "eu_sales              6\n",
       "jp_sales              4\n",
       "other_sales           0\n",
       "critic_score       8712\n",
       "user_score         9266\n",
       "rating             6869\n",
       "dtype: int64"
      ]
     },
     "execution_count": 14,
     "metadata": {},
     "output_type": "execute_result"
    }
   ],
   "source": [
    "# Считаем возникшие пропуски в датафрейме\n",
    "gm.isna().sum()"
   ]
  },
  {
   "cell_type": "code",
   "execution_count": 15,
   "id": "06a32e70",
   "metadata": {},
   "outputs": [],
   "source": [
    "# Заменим пропуски в столбцах средним значением для каждой группы по платформе и году выпуска игры.\n",
    "gm['jp_sales'] = gm['jp_sales'].fillna(gm.groupby(['platform', 'year_of_release'])['jp_sales'].transform('median'))\n",
    "gm['eu_sales'] = gm['eu_sales'].fillna(gm.groupby(['platform', 'year_of_release'])['eu_sales'].transform('median'))                                      "
   ]
  },
  {
   "cell_type": "markdown",
   "id": "b39893cb",
   "metadata": {
    "id": "b39893cb"
   },
   "source": [
    "### 2.3. Наличие пропусков в данных"
   ]
  },
  {
   "cell_type": "code",
   "execution_count": 16,
   "id": "167878e3",
   "metadata": {},
   "outputs": [
    {
     "data": {
      "text/plain": [
       "name                  0\n",
       "platform              0\n",
       "year_of_release       0\n",
       "genre                 0\n",
       "na_sales              0\n",
       "eu_sales              0\n",
       "jp_sales              0\n",
       "other_sales           0\n",
       "critic_score       8712\n",
       "user_score         9266\n",
       "rating             6869\n",
       "dtype: int64"
      ]
     },
     "execution_count": 16,
     "metadata": {},
     "output_type": "execute_result"
    }
   ],
   "source": [
    "# Считаем возникшие пропуски в датафрейме\n",
    "gm.isna().sum()"
   ]
  },
  {
   "cell_type": "code",
   "execution_count": 17,
   "id": "5033ee32",
   "metadata": {
    "id": "5033ee32"
   },
   "outputs": [
    {
     "data": {
      "text/plain": [
       "name                0.00\n",
       "platform            0.00\n",
       "year_of_release     0.00\n",
       "genre               0.00\n",
       "na_sales            0.00\n",
       "eu_sales            0.00\n",
       "jp_sales            0.00\n",
       "other_sales         0.00\n",
       "critic_score       51.39\n",
       "user_score         54.65\n",
       "rating             40.52\n",
       "dtype: float64"
      ]
     },
     "execution_count": 17,
     "metadata": {},
     "output_type": "execute_result"
    }
   ],
   "source": [
    "# Считаем % пропусков в датафрейме\n",
    "round(gm.isna().sum() / len(gm)*100, 2)"
   ]
  },
  {
   "cell_type": "code",
   "execution_count": 18,
   "id": "86cd1cc1",
   "metadata": {
    "id": "86cd1cc1"
   },
   "outputs": [
    {
     "data": {
      "text/html": [
       "<div>\n",
       "<style scoped>\n",
       "    .dataframe tbody tr th:only-of-type {\n",
       "        vertical-align: middle;\n",
       "    }\n",
       "\n",
       "    .dataframe tbody tr th {\n",
       "        vertical-align: top;\n",
       "    }\n",
       "\n",
       "    .dataframe thead th {\n",
       "        text-align: right;\n",
       "    }\n",
       "</style>\n",
       "<table border=\"1\" class=\"dataframe\">\n",
       "  <thead>\n",
       "    <tr style=\"text-align: right;\">\n",
       "      <th></th>\n",
       "      <th>name</th>\n",
       "      <th>critic_score</th>\n",
       "      <th>user_score</th>\n",
       "      <th>rating</th>\n",
       "    </tr>\n",
       "    <tr>\n",
       "      <th>year_of_release</th>\n",
       "      <th></th>\n",
       "      <th></th>\n",
       "      <th></th>\n",
       "      <th></th>\n",
       "    </tr>\n",
       "  </thead>\n",
       "  <tbody>\n",
       "    <tr>\n",
       "      <th>0</th>\n",
       "      <td>275</td>\n",
       "      <td>157</td>\n",
       "      <td>130</td>\n",
       "      <td>184</td>\n",
       "    </tr>\n",
       "    <tr>\n",
       "      <th>1980</th>\n",
       "      <td>9</td>\n",
       "      <td>0</td>\n",
       "      <td>0</td>\n",
       "      <td>0</td>\n",
       "    </tr>\n",
       "    <tr>\n",
       "      <th>1981</th>\n",
       "      <td>46</td>\n",
       "      <td>0</td>\n",
       "      <td>0</td>\n",
       "      <td>0</td>\n",
       "    </tr>\n",
       "    <tr>\n",
       "      <th>1982</th>\n",
       "      <td>37</td>\n",
       "      <td>0</td>\n",
       "      <td>0</td>\n",
       "      <td>0</td>\n",
       "    </tr>\n",
       "    <tr>\n",
       "      <th>1983</th>\n",
       "      <td>18</td>\n",
       "      <td>0</td>\n",
       "      <td>0</td>\n",
       "      <td>0</td>\n",
       "    </tr>\n",
       "    <tr>\n",
       "      <th>1984</th>\n",
       "      <td>14</td>\n",
       "      <td>0</td>\n",
       "      <td>0</td>\n",
       "      <td>0</td>\n",
       "    </tr>\n",
       "    <tr>\n",
       "      <th>1985</th>\n",
       "      <td>14</td>\n",
       "      <td>1</td>\n",
       "      <td>1</td>\n",
       "      <td>1</td>\n",
       "    </tr>\n",
       "    <tr>\n",
       "      <th>1986</th>\n",
       "      <td>22</td>\n",
       "      <td>0</td>\n",
       "      <td>0</td>\n",
       "      <td>0</td>\n",
       "    </tr>\n",
       "    <tr>\n",
       "      <th>1987</th>\n",
       "      <td>17</td>\n",
       "      <td>0</td>\n",
       "      <td>0</td>\n",
       "      <td>0</td>\n",
       "    </tr>\n",
       "    <tr>\n",
       "      <th>1988</th>\n",
       "      <td>15</td>\n",
       "      <td>1</td>\n",
       "      <td>1</td>\n",
       "      <td>1</td>\n",
       "    </tr>\n",
       "    <tr>\n",
       "      <th>1989</th>\n",
       "      <td>17</td>\n",
       "      <td>0</td>\n",
       "      <td>0</td>\n",
       "      <td>0</td>\n",
       "    </tr>\n",
       "    <tr>\n",
       "      <th>1990</th>\n",
       "      <td>16</td>\n",
       "      <td>0</td>\n",
       "      <td>0</td>\n",
       "      <td>0</td>\n",
       "    </tr>\n",
       "    <tr>\n",
       "      <th>1991</th>\n",
       "      <td>42</td>\n",
       "      <td>0</td>\n",
       "      <td>0</td>\n",
       "      <td>0</td>\n",
       "    </tr>\n",
       "    <tr>\n",
       "      <th>1992</th>\n",
       "      <td>43</td>\n",
       "      <td>1</td>\n",
       "      <td>1</td>\n",
       "      <td>2</td>\n",
       "    </tr>\n",
       "    <tr>\n",
       "      <th>1993</th>\n",
       "      <td>60</td>\n",
       "      <td>0</td>\n",
       "      <td>0</td>\n",
       "      <td>0</td>\n",
       "    </tr>\n",
       "    <tr>\n",
       "      <th>1994</th>\n",
       "      <td>121</td>\n",
       "      <td>1</td>\n",
       "      <td>1</td>\n",
       "      <td>1</td>\n",
       "    </tr>\n",
       "    <tr>\n",
       "      <th>1995</th>\n",
       "      <td>220</td>\n",
       "      <td>0</td>\n",
       "      <td>0</td>\n",
       "      <td>0</td>\n",
       "    </tr>\n",
       "    <tr>\n",
       "      <th>1996</th>\n",
       "      <td>267</td>\n",
       "      <td>8</td>\n",
       "      <td>8</td>\n",
       "      <td>7</td>\n",
       "    </tr>\n",
       "    <tr>\n",
       "      <th>1997</th>\n",
       "      <td>293</td>\n",
       "      <td>17</td>\n",
       "      <td>18</td>\n",
       "      <td>19</td>\n",
       "    </tr>\n",
       "    <tr>\n",
       "      <th>1998</th>\n",
       "      <td>384</td>\n",
       "      <td>28</td>\n",
       "      <td>31</td>\n",
       "      <td>32</td>\n",
       "    </tr>\n",
       "    <tr>\n",
       "      <th>1999</th>\n",
       "      <td>341</td>\n",
       "      <td>40</td>\n",
       "      <td>32</td>\n",
       "      <td>43</td>\n",
       "    </tr>\n",
       "    <tr>\n",
       "      <th>2000</th>\n",
       "      <td>357</td>\n",
       "      <td>144</td>\n",
       "      <td>107</td>\n",
       "      <td>150</td>\n",
       "    </tr>\n",
       "    <tr>\n",
       "      <th>2001</th>\n",
       "      <td>491</td>\n",
       "      <td>333</td>\n",
       "      <td>263</td>\n",
       "      <td>346</td>\n",
       "    </tr>\n",
       "    <tr>\n",
       "      <th>2002</th>\n",
       "      <td>839</td>\n",
       "      <td>634</td>\n",
       "      <td>469</td>\n",
       "      <td>662</td>\n",
       "    </tr>\n",
       "    <tr>\n",
       "      <th>2003</th>\n",
       "      <td>789</td>\n",
       "      <td>595</td>\n",
       "      <td>525</td>\n",
       "      <td>624</td>\n",
       "    </tr>\n",
       "    <tr>\n",
       "      <th>2004</th>\n",
       "      <td>771</td>\n",
       "      <td>567</td>\n",
       "      <td>493</td>\n",
       "      <td>604</td>\n",
       "    </tr>\n",
       "    <tr>\n",
       "      <th>2005</th>\n",
       "      <td>950</td>\n",
       "      <td>662</td>\n",
       "      <td>590</td>\n",
       "      <td>715</td>\n",
       "    </tr>\n",
       "    <tr>\n",
       "      <th>2006</th>\n",
       "      <td>1020</td>\n",
       "      <td>626</td>\n",
       "      <td>556</td>\n",
       "      <td>684</td>\n",
       "    </tr>\n",
       "    <tr>\n",
       "      <th>2007</th>\n",
       "      <td>1218</td>\n",
       "      <td>707</td>\n",
       "      <td>640</td>\n",
       "      <td>837</td>\n",
       "    </tr>\n",
       "    <tr>\n",
       "      <th>2008</th>\n",
       "      <td>1445</td>\n",
       "      <td>725</td>\n",
       "      <td>670</td>\n",
       "      <td>993</td>\n",
       "    </tr>\n",
       "    <tr>\n",
       "      <th>2009</th>\n",
       "      <td>1450</td>\n",
       "      <td>659</td>\n",
       "      <td>625</td>\n",
       "      <td>1027</td>\n",
       "    </tr>\n",
       "    <tr>\n",
       "      <th>2010</th>\n",
       "      <td>1279</td>\n",
       "      <td>509</td>\n",
       "      <td>477</td>\n",
       "      <td>814</td>\n",
       "    </tr>\n",
       "    <tr>\n",
       "      <th>2011</th>\n",
       "      <td>1149</td>\n",
       "      <td>503</td>\n",
       "      <td>504</td>\n",
       "      <td>710</td>\n",
       "    </tr>\n",
       "    <tr>\n",
       "      <th>2012</th>\n",
       "      <td>670</td>\n",
       "      <td>325</td>\n",
       "      <td>344</td>\n",
       "      <td>360</td>\n",
       "    </tr>\n",
       "    <tr>\n",
       "      <th>2013</th>\n",
       "      <td>552</td>\n",
       "      <td>278</td>\n",
       "      <td>309</td>\n",
       "      <td>321</td>\n",
       "    </tr>\n",
       "    <tr>\n",
       "      <th>2014</th>\n",
       "      <td>584</td>\n",
       "      <td>262</td>\n",
       "      <td>330</td>\n",
       "      <td>347</td>\n",
       "    </tr>\n",
       "    <tr>\n",
       "      <th>2015</th>\n",
       "      <td>612</td>\n",
       "      <td>227</td>\n",
       "      <td>300</td>\n",
       "      <td>318</td>\n",
       "    </tr>\n",
       "    <tr>\n",
       "      <th>2016</th>\n",
       "      <td>507</td>\n",
       "      <td>232</td>\n",
       "      <td>263</td>\n",
       "      <td>283</td>\n",
       "    </tr>\n",
       "  </tbody>\n",
       "</table>\n",
       "</div>"
      ],
      "text/plain": [
       "                 name  critic_score  user_score  rating\n",
       "year_of_release                                        \n",
       "0                 275           157         130     184\n",
       "1980                9             0           0       0\n",
       "1981               46             0           0       0\n",
       "1982               37             0           0       0\n",
       "1983               18             0           0       0\n",
       "1984               14             0           0       0\n",
       "1985               14             1           1       1\n",
       "1986               22             0           0       0\n",
       "1987               17             0           0       0\n",
       "1988               15             1           1       1\n",
       "1989               17             0           0       0\n",
       "1990               16             0           0       0\n",
       "1991               42             0           0       0\n",
       "1992               43             1           1       2\n",
       "1993               60             0           0       0\n",
       "1994              121             1           1       1\n",
       "1995              220             0           0       0\n",
       "1996              267             8           8       7\n",
       "1997              293            17          18      19\n",
       "1998              384            28          31      32\n",
       "1999              341            40          32      43\n",
       "2000              357           144         107     150\n",
       "2001              491           333         263     346\n",
       "2002              839           634         469     662\n",
       "2003              789           595         525     624\n",
       "2004              771           567         493     604\n",
       "2005              950           662         590     715\n",
       "2006             1020           626         556     684\n",
       "2007             1218           707         640     837\n",
       "2008             1445           725         670     993\n",
       "2009             1450           659         625    1027\n",
       "2010             1279           509         477     814\n",
       "2011             1149           503         504     710\n",
       "2012              670           325         344     360\n",
       "2013              552           278         309     321\n",
       "2014              584           262         330     347\n",
       "2015              612           227         300     318\n",
       "2016              507           232         263     283"
      ]
     },
     "execution_count": 18,
     "metadata": {},
     "output_type": "execute_result"
    }
   ],
   "source": [
    "# Считаем кол-во игр и их оценки/рейтинги в разрезе года выпуска\n",
    "gm_group = gm.groupby('year_of_release').agg({\n",
    "    'name':'count',\n",
    "    'critic_score':'count',\n",
    "    'user_score':'count',\n",
    "    'rating':'count'\n",
    "})\n",
    "gm_group"
   ]
  },
  {
   "cell_type": "markdown",
   "id": "defd4978",
   "metadata": {
    "id": "247a6cf7"
   },
   "source": [
    "По данным выше видно, что наиболее полную оценку можно сделать по играм, вышедшим после 2000 года (как и указано в ТЗ). Игры более ранних периодов в большинстве своем не имеют рейтингов и оценок, т.к. игровая индустрия только начинала развиваться."
   ]
  },
  {
   "cell_type": "code",
   "execution_count": 19,
   "id": "0f1c91a8",
   "metadata": {
    "id": "0f1c91a8"
   },
   "outputs": [],
   "source": [
    "# Заменим все пустые значения индикаторами-\"заглушками\" для возможности дальнейшего анализа:\n",
    "gm['critic_score'] = gm['critic_score'].fillna(-1) # оценка критиков (от 0 до 100)\n",
    "gm['user_score'] = gm['user_score'].fillna(-1) # оценка пользователей (от 0 до 10)\n",
    "gm['rating'] = gm['rating'].fillna('no_rating')"
   ]
  },
  {
   "cell_type": "code",
   "execution_count": 20,
   "id": "3a26fb26",
   "metadata": {
    "id": "3a26fb26"
   },
   "outputs": [
    {
     "name": "stdout",
     "output_type": "stream",
     "text": [
      "Игры, не имеющие ни одной продажи: []\n"
     ]
    }
   ],
   "source": [
    "# Проверяем, имеется ли игра, которую не купили ни разу\n",
    "# Фильтрация строк, содержащих пропуски (NaN) во всех четырех столбцах SALES\n",
    "filtered_df = gm[gm['na_sales'].isna() & gm['eu_sales'].isna() & gm['jp_sales'].isna() & gm['other_sales'] ]\n",
    "# Получение уникальных значений столбца 'Name'\n",
    "unique_names = filtered_df['name'].unique()\n",
    "print (f\"Игры, не имеющие ни одной продажи: {sorted(unique_names)}\")"
   ]
  },
  {
   "cell_type": "code",
   "execution_count": 21,
   "id": "2784c760",
   "metadata": {
    "id": "2784c760"
   },
   "outputs": [
    {
     "data": {
      "text/html": [
       "<div>\n",
       "<style scoped>\n",
       "    .dataframe tbody tr th:only-of-type {\n",
       "        vertical-align: middle;\n",
       "    }\n",
       "\n",
       "    .dataframe tbody tr th {\n",
       "        vertical-align: top;\n",
       "    }\n",
       "\n",
       "    .dataframe thead th {\n",
       "        text-align: right;\n",
       "    }\n",
       "</style>\n",
       "<table border=\"1\" class=\"dataframe\">\n",
       "  <thead>\n",
       "    <tr style=\"text-align: right;\">\n",
       "      <th></th>\n",
       "      <th>name</th>\n",
       "      <th>platform</th>\n",
       "      <th>year_of_release</th>\n",
       "      <th>genre</th>\n",
       "      <th>na_sales</th>\n",
       "      <th>eu_sales</th>\n",
       "      <th>jp_sales</th>\n",
       "      <th>other_sales</th>\n",
       "      <th>critic_score</th>\n",
       "      <th>user_score</th>\n",
       "      <th>rating</th>\n",
       "    </tr>\n",
       "  </thead>\n",
       "  <tbody>\n",
       "    <tr>\n",
       "      <th>0</th>\n",
       "      <td>Wii Sports</td>\n",
       "      <td>Wii</td>\n",
       "      <td>2006</td>\n",
       "      <td>Sports</td>\n",
       "      <td>41.36</td>\n",
       "      <td>28.96</td>\n",
       "      <td>3.77</td>\n",
       "      <td>8.45</td>\n",
       "      <td>76.0</td>\n",
       "      <td>8.0</td>\n",
       "      <td>E</td>\n",
       "    </tr>\n",
       "    <tr>\n",
       "      <th>1</th>\n",
       "      <td>Super Mario Bros.</td>\n",
       "      <td>NES</td>\n",
       "      <td>1985</td>\n",
       "      <td>Platform</td>\n",
       "      <td>29.08</td>\n",
       "      <td>3.58</td>\n",
       "      <td>6.81</td>\n",
       "      <td>0.77</td>\n",
       "      <td>-1.0</td>\n",
       "      <td>-1.0</td>\n",
       "      <td>no_rating</td>\n",
       "    </tr>\n",
       "    <tr>\n",
       "      <th>2</th>\n",
       "      <td>Mario Kart Wii</td>\n",
       "      <td>Wii</td>\n",
       "      <td>2008</td>\n",
       "      <td>Racing</td>\n",
       "      <td>15.68</td>\n",
       "      <td>12.76</td>\n",
       "      <td>3.79</td>\n",
       "      <td>3.29</td>\n",
       "      <td>82.0</td>\n",
       "      <td>8.3</td>\n",
       "      <td>E</td>\n",
       "    </tr>\n",
       "    <tr>\n",
       "      <th>3</th>\n",
       "      <td>Wii Sports Resort</td>\n",
       "      <td>Wii</td>\n",
       "      <td>2009</td>\n",
       "      <td>Sports</td>\n",
       "      <td>15.61</td>\n",
       "      <td>10.93</td>\n",
       "      <td>3.28</td>\n",
       "      <td>2.95</td>\n",
       "      <td>80.0</td>\n",
       "      <td>8.0</td>\n",
       "      <td>E</td>\n",
       "    </tr>\n",
       "    <tr>\n",
       "      <th>4</th>\n",
       "      <td>Pokemon Red/Pokemon Blue</td>\n",
       "      <td>GB</td>\n",
       "      <td>1996</td>\n",
       "      <td>Role-Playing</td>\n",
       "      <td>11.27</td>\n",
       "      <td>8.89</td>\n",
       "      <td>10.22</td>\n",
       "      <td>1.00</td>\n",
       "      <td>-1.0</td>\n",
       "      <td>-1.0</td>\n",
       "      <td>no_rating</td>\n",
       "    </tr>\n",
       "    <tr>\n",
       "      <th>5</th>\n",
       "      <td>Tetris</td>\n",
       "      <td>GB</td>\n",
       "      <td>1989</td>\n",
       "      <td>Puzzle</td>\n",
       "      <td>23.20</td>\n",
       "      <td>2.26</td>\n",
       "      <td>4.22</td>\n",
       "      <td>0.58</td>\n",
       "      <td>-1.0</td>\n",
       "      <td>-1.0</td>\n",
       "      <td>no_rating</td>\n",
       "    </tr>\n",
       "    <tr>\n",
       "      <th>6</th>\n",
       "      <td>New Super Mario Bros.</td>\n",
       "      <td>DS</td>\n",
       "      <td>2006</td>\n",
       "      <td>Platform</td>\n",
       "      <td>11.28</td>\n",
       "      <td>9.14</td>\n",
       "      <td>6.50</td>\n",
       "      <td>2.88</td>\n",
       "      <td>89.0</td>\n",
       "      <td>8.5</td>\n",
       "      <td>E</td>\n",
       "    </tr>\n",
       "    <tr>\n",
       "      <th>7</th>\n",
       "      <td>Wii Play</td>\n",
       "      <td>Wii</td>\n",
       "      <td>2006</td>\n",
       "      <td>Misc</td>\n",
       "      <td>13.96</td>\n",
       "      <td>9.18</td>\n",
       "      <td>2.93</td>\n",
       "      <td>2.84</td>\n",
       "      <td>58.0</td>\n",
       "      <td>6.6</td>\n",
       "      <td>E</td>\n",
       "    </tr>\n",
       "    <tr>\n",
       "      <th>8</th>\n",
       "      <td>New Super Mario Bros. Wii</td>\n",
       "      <td>Wii</td>\n",
       "      <td>2009</td>\n",
       "      <td>Platform</td>\n",
       "      <td>14.44</td>\n",
       "      <td>6.94</td>\n",
       "      <td>4.70</td>\n",
       "      <td>2.24</td>\n",
       "      <td>87.0</td>\n",
       "      <td>8.4</td>\n",
       "      <td>E</td>\n",
       "    </tr>\n",
       "    <tr>\n",
       "      <th>9</th>\n",
       "      <td>Duck Hunt</td>\n",
       "      <td>NES</td>\n",
       "      <td>1984</td>\n",
       "      <td>Shooter</td>\n",
       "      <td>26.93</td>\n",
       "      <td>0.63</td>\n",
       "      <td>0.28</td>\n",
       "      <td>0.47</td>\n",
       "      <td>-1.0</td>\n",
       "      <td>-1.0</td>\n",
       "      <td>no_rating</td>\n",
       "    </tr>\n",
       "  </tbody>\n",
       "</table>\n",
       "</div>"
      ],
      "text/plain": [
       "                        name platform  year_of_release         genre  \\\n",
       "0                 Wii Sports      Wii             2006        Sports   \n",
       "1          Super Mario Bros.      NES             1985      Platform   \n",
       "2             Mario Kart Wii      Wii             2008        Racing   \n",
       "3          Wii Sports Resort      Wii             2009        Sports   \n",
       "4   Pokemon Red/Pokemon Blue       GB             1996  Role-Playing   \n",
       "5                     Tetris       GB             1989        Puzzle   \n",
       "6      New Super Mario Bros.       DS             2006      Platform   \n",
       "7                   Wii Play      Wii             2006          Misc   \n",
       "8  New Super Mario Bros. Wii      Wii             2009      Platform   \n",
       "9                  Duck Hunt      NES             1984       Shooter   \n",
       "\n",
       "   na_sales  eu_sales  jp_sales  other_sales  critic_score  user_score  \\\n",
       "0     41.36     28.96      3.77         8.45          76.0         8.0   \n",
       "1     29.08      3.58      6.81         0.77          -1.0        -1.0   \n",
       "2     15.68     12.76      3.79         3.29          82.0         8.3   \n",
       "3     15.61     10.93      3.28         2.95          80.0         8.0   \n",
       "4     11.27      8.89     10.22         1.00          -1.0        -1.0   \n",
       "5     23.20      2.26      4.22         0.58          -1.0        -1.0   \n",
       "6     11.28      9.14      6.50         2.88          89.0         8.5   \n",
       "7     13.96      9.18      2.93         2.84          58.0         6.6   \n",
       "8     14.44      6.94      4.70         2.24          87.0         8.4   \n",
       "9     26.93      0.63      0.28         0.47          -1.0        -1.0   \n",
       "\n",
       "      rating  \n",
       "0          E  \n",
       "1  no_rating  \n",
       "2          E  \n",
       "3          E  \n",
       "4  no_rating  \n",
       "5  no_rating  \n",
       "6          E  \n",
       "7          E  \n",
       "8          E  \n",
       "9  no_rating  "
      ]
     },
     "execution_count": 21,
     "metadata": {},
     "output_type": "execute_result"
    }
   ],
   "source": [
    "gm.head(10)"
   ]
  },
  {
   "cell_type": "markdown",
   "id": "a63363fd",
   "metadata": {
    "id": "a63363fd"
   },
   "source": [
    "### 2.4. Явные и неявные дубликаты в данных"
   ]
  },
  {
   "cell_type": "code",
   "execution_count": 22,
   "id": "cc2d1374",
   "metadata": {
    "id": "cc2d1374"
   },
   "outputs": [
    {
     "name": "stdout",
     "output_type": "stream",
     "text": [
      "183\n"
     ]
    }
   ],
   "source": [
    "# Считаем дубликаты в категориальных данных (названия жанра, платформы, рейтинга и года выпуска).\n",
    "count_dup1 = gm.duplicated(subset=['name','platform','year_of_release','genre','rating']).sum()\n",
    "print(count_dup1)"
   ]
  },
  {
   "cell_type": "code",
   "execution_count": 23,
   "id": "df56671b",
   "metadata": {},
   "outputs": [
    {
     "name": "stdout",
     "output_type": "stream",
     "text": [
      "Количество уникальных значений: name               11559\n",
      "platform              31\n",
      "year_of_release       38\n",
      "genre                 24\n",
      "rating                 9\n",
      "dtype: int64\n"
     ]
    }
   ],
   "source": [
    "# Считаем количество уникальных значений в столбцах\n",
    "unique_count = gm[['name','platform','year_of_release','genre','rating']].nunique()\n",
    "# Выводим результат\n",
    "print(f'Количество уникальных значений: {unique_count}')"
   ]
  },
  {
   "cell_type": "code",
   "execution_count": 24,
   "id": "2a28bf6d",
   "metadata": {},
   "outputs": [
    {
     "name": "stdout",
     "output_type": "stream",
     "text": [
      "Уникальные значения жанра до изменения регистра: ['Sports' 'Platform' 'Racing' 'Role-Playing' 'Puzzle' 'Misc' 'Shooter'\n",
      " 'Simulation' 'Action' 'Fighting' 'Adventure' 'Strategy' 'MISC'\n",
      " 'ROLE-PLAYING' 'RACING' 'ACTION' 'SHOOTER' 'FIGHTING' 'SPORTS' 'PLATFORM'\n",
      " 'ADVENTURE' 'SIMULATION' 'PUZZLE' 'STRATEGY'] - дубли зафиксированы !\n",
      "Уникальные значения рейтинга до изменения регистра: ['E' 'no_rating' 'M' 'T' 'E10+' 'K-A' 'AO' 'EC' 'RP']\n"
     ]
    }
   ],
   "source": [
    "# Выводим уникальные значения в столбцах\n",
    "unique_count = gm['genre'].unique()\n",
    "# Выводим результат\n",
    "print(f'Уникальные значения жанра до изменения регистра: {unique_count} - дубли зафиксированы !')\n",
    "unique_count = gm['rating'].unique()\n",
    "# Выводим результат\n",
    "print(f'Уникальные значения рейтинга до изменения регистра: {unique_count}')"
   ]
  },
  {
   "cell_type": "code",
   "execution_count": 25,
   "id": "a0cac80c",
   "metadata": {
    "id": "a0cac80c"
   },
   "outputs": [],
   "source": [
    "# Приведем названий игр и жанров к нижнему регистру\n",
    "gm['name'] = gm['name'].str.lower()\n",
    "gm['genre'] = gm['genre'].str.lower()\n",
    "# Приведем названий рейтинга к верхнему регистру\n",
    "gm['rating'] = gm['rating'].str.upper()"
   ]
  },
  {
   "cell_type": "code",
   "execution_count": 26,
   "id": "f1627198",
   "metadata": {
    "id": "f1627198"
   },
   "outputs": [
    {
     "name": "stdout",
     "output_type": "stream",
     "text": [
      "242\n"
     ]
    }
   ],
   "source": [
    "# Считаем значения в нормализованных данных по ключевым столбцам (название жанра, платформы, рейтинг и год выпуска).\n",
    "count_dup1 = gm.duplicated(subset=['name','platform','year_of_release','genre','rating']).sum()\n",
    "print(count_dup1)"
   ]
  },
  {
   "cell_type": "code",
   "execution_count": 27,
   "id": "491c9c39",
   "metadata": {
    "id": "491c9c39"
   },
   "outputs": [
    {
     "data": {
      "text/plain": [
       "241"
      ]
     },
     "execution_count": 27,
     "metadata": {},
     "output_type": "execute_result"
    }
   ],
   "source": [
    "# Провка наличия явных дубликатов\n",
    "gm.duplicated().sum()"
   ]
  },
  {
   "cell_type": "markdown",
   "id": "590928b1",
   "metadata": {
    "id": "154be65d"
   },
   "source": [
    "В ходе проведения нормализации данных, по факту приведения к единому стилю, в датасете зафиксировано наличие явных дубликатов. Т.к. данные материалы содержат информацию о продажах (которая задвоилась), считаю корректным данные дубикаты удалить."
   ]
  },
  {
   "cell_type": "code",
   "execution_count": 28,
   "id": "b6965b19",
   "metadata": {
    "id": "b6965b19"
   },
   "outputs": [
    {
     "name": "stdout",
     "output_type": "stream",
     "text": [
      "Первоначальное количество строк до удаления  пропусков и дубликатов: 16956\n",
      "Количество удаленных строк: 243 шт., что составляет 1.43 %\n",
      "Количество строк после удаления пропусков и дубликатов: 16713\n"
     ]
    }
   ],
   "source": [
    "# Сохраняем количество строк до удаления дубликатов\n",
    "initial_row_count = games.shape[0]\n",
    "# Сортируем предобработанный датафрейм по всем столбцам\n",
    "gm_sorted = gm.sort_values(by=list(gm.columns))\n",
    "# Удаляем дубликаты\n",
    "gm_no_duplicates = gm_sorted.drop_duplicates()\n",
    "# Сохраняем количество строк после удаления дубликатов\n",
    "final_row_count = gm_no_duplicates.shape[0]\n",
    "\n",
    "# ЗНАЧЕНИЯ СКОРРЕКТИРОВАНы:\n",
    "# Выводим результаты\n",
    "print(f\"Первоначальное количество строк до удаления  пропусков и дубликатов: {initial_row_count}\")\n",
    "print(f\"Количество удаленных строк: {initial_row_count-final_row_count} шт., что составляет {round((100-final_row_count/initial_row_count*100),2)} %\")\n",
    "print(f\"Количество строк после удаления пропусков и дубликатов: {final_row_count}\")"
   ]
  },
  {
   "cell_type": "markdown",
   "id": "e62d51fb",
   "metadata": {
    "id": "3f42817b"
   },
   "source": [
    "По факту проведения предобработки были преобразованы типы  данных, обработаны (преобразованы) пропуски, удалены некорректные данные, удалены явные дубликаты, а именно:  \n",
    "1. Была проведена замена типов данных на более оптимальные:\n",
    "- Для столбца `Year of Release` применен тип `int16`, т.к. год выпуска игры укладывается в ограничения данного типа данных.\n",
    "- Для столбцов `EU sales, JP sales, User Score`проведена корректировки типа на `float64`, т.к. хранят информацию о суммах продаж и рейтингах игр. \n",
    "- В ходе корретировки зафиксировано появление в столбцах некорректных значений (обработаны при анализе пропусков).\n",
    "2. Наименования столбцов не соответствовали общепринятым стандартам **snake_case**. Проведена корректировка регистра с целью исключения дубликатов и замена пробелов на нижнее подчеркивание.\n",
    "3. Датасет содержал пропуски. \n",
    "- 2 строки были удалены (пропуск в названии и жанре), т.к. количество строк незначительное и не повлияет на итоговые результаты. \n",
    "- В столбцах `eu_sales, jp_sales` пропуски заменены на медианные значения в группах `по platform, year_of_release`. \n",
    "- Пропуски в количестве 275 строк в столбце `Year of Release` заполнены индикатором-\"заглушкой\" (год = 0). При этом, данное количество так же является не значительным (<2%), не попадает в итоговый датасет и никак не влияет на итоговые результаты. \n",
    "- Проанализированы столбцы с высоким % пропусков (`critic_score` - 51.39 %, `user_score` - 54.65 %, `rating` - 40.52%): основная масса пропусков присутствует в играх до 2000 года выпуска. Видимо, до этого года оценки и рейтинги практически не использовались. В столбцах установлены индикаторы-\"заглушки\".\n",
    "4. В ходе проработки явных и не явных **дубликатов** количество строк с 16 959 шт. сократилось на 243 шт. (равно 1.43 %) и составило 16 713 шт."
   ]
  },
  {
   "cell_type": "markdown",
   "id": "613f0eb0",
   "metadata": {
    "id": "613f0eb0"
   },
   "source": [
    "---\n",
    "\n",
    "## 3. Фильтрация данных"
   ]
  },
  {
   "cell_type": "code",
   "execution_count": 29,
   "id": "2344916d",
   "metadata": {
    "id": "2344916d"
   },
   "outputs": [
    {
     "data": {
      "text/html": [
       "<div>\n",
       "<style scoped>\n",
       "    .dataframe tbody tr th:only-of-type {\n",
       "        vertical-align: middle;\n",
       "    }\n",
       "\n",
       "    .dataframe tbody tr th {\n",
       "        vertical-align: top;\n",
       "    }\n",
       "\n",
       "    .dataframe thead th {\n",
       "        text-align: right;\n",
       "    }\n",
       "</style>\n",
       "<table border=\"1\" class=\"dataframe\">\n",
       "  <thead>\n",
       "    <tr style=\"text-align: right;\">\n",
       "      <th></th>\n",
       "      <th>index</th>\n",
       "      <th>name</th>\n",
       "      <th>platform</th>\n",
       "      <th>year_of_release</th>\n",
       "      <th>genre</th>\n",
       "      <th>na_sales</th>\n",
       "      <th>eu_sales</th>\n",
       "      <th>jp_sales</th>\n",
       "      <th>other_sales</th>\n",
       "      <th>critic_score</th>\n",
       "      <th>user_score</th>\n",
       "      <th>rating</th>\n",
       "    </tr>\n",
       "  </thead>\n",
       "  <tbody>\n",
       "    <tr>\n",
       "      <th>0</th>\n",
       "      <td>3394</td>\n",
       "      <td>frozen: olaf's quest</td>\n",
       "      <td>3DS</td>\n",
       "      <td>2013</td>\n",
       "      <td>platform</td>\n",
       "      <td>0.27</td>\n",
       "      <td>0.27</td>\n",
       "      <td>0.00</td>\n",
       "      <td>0.05</td>\n",
       "      <td>-1.0</td>\n",
       "      <td>-1.0</td>\n",
       "      <td>NO_RATING</td>\n",
       "    </tr>\n",
       "    <tr>\n",
       "      <th>1</th>\n",
       "      <td>3906</td>\n",
       "      <td>frozen: olaf's quest</td>\n",
       "      <td>DS</td>\n",
       "      <td>2013</td>\n",
       "      <td>platform</td>\n",
       "      <td>0.21</td>\n",
       "      <td>0.26</td>\n",
       "      <td>0.00</td>\n",
       "      <td>0.04</td>\n",
       "      <td>-1.0</td>\n",
       "      <td>-1.0</td>\n",
       "      <td>NO_RATING</td>\n",
       "    </tr>\n",
       "    <tr>\n",
       "      <th>2</th>\n",
       "      <td>2478</td>\n",
       "      <td>tales of xillia 2</td>\n",
       "      <td>PS3</td>\n",
       "      <td>2012</td>\n",
       "      <td>role-playing</td>\n",
       "      <td>0.20</td>\n",
       "      <td>0.12</td>\n",
       "      <td>0.45</td>\n",
       "      <td>0.07</td>\n",
       "      <td>71.0</td>\n",
       "      <td>7.9</td>\n",
       "      <td>T</td>\n",
       "    </tr>\n",
       "    <tr>\n",
       "      <th>3</th>\n",
       "      <td>8460</td>\n",
       "      <td>.hack//g.u. vol.1//rebirth</td>\n",
       "      <td>PS2</td>\n",
       "      <td>2006</td>\n",
       "      <td>role-playing</td>\n",
       "      <td>0.00</td>\n",
       "      <td>0.00</td>\n",
       "      <td>0.17</td>\n",
       "      <td>0.00</td>\n",
       "      <td>-1.0</td>\n",
       "      <td>-1.0</td>\n",
       "      <td>NO_RATING</td>\n",
       "    </tr>\n",
       "    <tr>\n",
       "      <th>4</th>\n",
       "      <td>7182</td>\n",
       "      <td>.hack//g.u. vol.2//reminisce</td>\n",
       "      <td>PS2</td>\n",
       "      <td>2006</td>\n",
       "      <td>role-playing</td>\n",
       "      <td>0.11</td>\n",
       "      <td>0.09</td>\n",
       "      <td>0.00</td>\n",
       "      <td>0.03</td>\n",
       "      <td>-1.0</td>\n",
       "      <td>-1.0</td>\n",
       "      <td>NO_RATING</td>\n",
       "    </tr>\n",
       "    <tr>\n",
       "      <th>...</th>\n",
       "      <td>...</td>\n",
       "      <td>...</td>\n",
       "      <td>...</td>\n",
       "      <td>...</td>\n",
       "      <td>...</td>\n",
       "      <td>...</td>\n",
       "      <td>...</td>\n",
       "      <td>...</td>\n",
       "      <td>...</td>\n",
       "      <td>...</td>\n",
       "      <td>...</td>\n",
       "      <td>...</td>\n",
       "    </tr>\n",
       "    <tr>\n",
       "      <th>12776</th>\n",
       "      <td>7233</td>\n",
       "      <td>zumba fitness: world party</td>\n",
       "      <td>Wii</td>\n",
       "      <td>2013</td>\n",
       "      <td>misc</td>\n",
       "      <td>0.11</td>\n",
       "      <td>0.10</td>\n",
       "      <td>0.00</td>\n",
       "      <td>0.02</td>\n",
       "      <td>-1.0</td>\n",
       "      <td>-1.0</td>\n",
       "      <td>E</td>\n",
       "    </tr>\n",
       "    <tr>\n",
       "      <th>12777</th>\n",
       "      <td>6970</td>\n",
       "      <td>zumba fitness: world party</td>\n",
       "      <td>XOne</td>\n",
       "      <td>2013</td>\n",
       "      <td>misc</td>\n",
       "      <td>0.17</td>\n",
       "      <td>0.05</td>\n",
       "      <td>0.00</td>\n",
       "      <td>0.02</td>\n",
       "      <td>73.0</td>\n",
       "      <td>6.2</td>\n",
       "      <td>E</td>\n",
       "    </tr>\n",
       "    <tr>\n",
       "      <th>12778</th>\n",
       "      <td>15739</td>\n",
       "      <td>zwei!!</td>\n",
       "      <td>PSP</td>\n",
       "      <td>2008</td>\n",
       "      <td>role-playing</td>\n",
       "      <td>0.00</td>\n",
       "      <td>0.00</td>\n",
       "      <td>0.02</td>\n",
       "      <td>0.00</td>\n",
       "      <td>-1.0</td>\n",
       "      <td>-1.0</td>\n",
       "      <td>NO_RATING</td>\n",
       "    </tr>\n",
       "    <tr>\n",
       "      <th>12779</th>\n",
       "      <td>13138</td>\n",
       "      <td>zyuden sentai kyoryuger: game de gaburincho!!</td>\n",
       "      <td>3DS</td>\n",
       "      <td>2013</td>\n",
       "      <td>action</td>\n",
       "      <td>0.00</td>\n",
       "      <td>0.00</td>\n",
       "      <td>0.05</td>\n",
       "      <td>0.00</td>\n",
       "      <td>-1.0</td>\n",
       "      <td>-1.0</td>\n",
       "      <td>NO_RATING</td>\n",
       "    </tr>\n",
       "    <tr>\n",
       "      <th>12780</th>\n",
       "      <td>9260</td>\n",
       "      <td>¡shin chan flipa en colores!</td>\n",
       "      <td>DS</td>\n",
       "      <td>2007</td>\n",
       "      <td>platform</td>\n",
       "      <td>0.00</td>\n",
       "      <td>0.00</td>\n",
       "      <td>0.14</td>\n",
       "      <td>0.00</td>\n",
       "      <td>-1.0</td>\n",
       "      <td>-1.0</td>\n",
       "      <td>NO_RATING</td>\n",
       "    </tr>\n",
       "  </tbody>\n",
       "</table>\n",
       "<p>12781 rows × 12 columns</p>\n",
       "</div>"
      ],
      "text/plain": [
       "       index                                           name platform  \\\n",
       "0       3394                           frozen: olaf's quest      3DS   \n",
       "1       3906                           frozen: olaf's quest       DS   \n",
       "2       2478                              tales of xillia 2      PS3   \n",
       "3       8460                     .hack//g.u. vol.1//rebirth      PS2   \n",
       "4       7182                   .hack//g.u. vol.2//reminisce      PS2   \n",
       "...      ...                                            ...      ...   \n",
       "12776   7233                     zumba fitness: world party      Wii   \n",
       "12777   6970                     zumba fitness: world party     XOne   \n",
       "12778  15739                                         zwei!!      PSP   \n",
       "12779  13138  zyuden sentai kyoryuger: game de gaburincho!!      3DS   \n",
       "12780   9260                   ¡shin chan flipa en colores!       DS   \n",
       "\n",
       "       year_of_release         genre  na_sales  eu_sales  jp_sales  \\\n",
       "0                 2013      platform      0.27      0.27      0.00   \n",
       "1                 2013      platform      0.21      0.26      0.00   \n",
       "2                 2012  role-playing      0.20      0.12      0.45   \n",
       "3                 2006  role-playing      0.00      0.00      0.17   \n",
       "4                 2006  role-playing      0.11      0.09      0.00   \n",
       "...                ...           ...       ...       ...       ...   \n",
       "12776             2013          misc      0.11      0.10      0.00   \n",
       "12777             2013          misc      0.17      0.05      0.00   \n",
       "12778             2008  role-playing      0.00      0.00      0.02   \n",
       "12779             2013        action      0.00      0.00      0.05   \n",
       "12780             2007      platform      0.00      0.00      0.14   \n",
       "\n",
       "       other_sales  critic_score  user_score     rating  \n",
       "0             0.05          -1.0        -1.0  NO_RATING  \n",
       "1             0.04          -1.0        -1.0  NO_RATING  \n",
       "2             0.07          71.0         7.9          T  \n",
       "3             0.00          -1.0        -1.0  NO_RATING  \n",
       "4             0.03          -1.0        -1.0  NO_RATING  \n",
       "...            ...           ...         ...        ...  \n",
       "12776         0.02          -1.0        -1.0          E  \n",
       "12777         0.02          73.0         6.2          E  \n",
       "12778         0.00          -1.0        -1.0  NO_RATING  \n",
       "12779         0.00          -1.0        -1.0  NO_RATING  \n",
       "12780         0.00          -1.0        -1.0  NO_RATING  \n",
       "\n",
       "[12781 rows x 12 columns]"
      ]
     },
     "execution_count": 29,
     "metadata": {},
     "output_type": "execute_result"
    }
   ],
   "source": [
    "# Фильтруем данные за 2000-2013 годы включительно (согласно ТЗ)\n",
    "# gm_actual = gm_no_duplicates.copy()\n",
    "gm_actual = gm_no_duplicates[gm_no_duplicates['year_of_release'].between(2000, 2013, inclusive=True)].reset_index()\n",
    "gm_actual"
   ]
  },
  {
   "cell_type": "markdown",
   "id": "a6f10b01",
   "metadata": {
    "id": "a6f10b01"
   },
   "source": [
    "---\n",
    "\n",
    "## 4. Категоризация данных"
   ]
  },
  {
   "cell_type": "code",
   "execution_count": 30,
   "id": "89791994",
   "metadata": {},
   "outputs": [],
   "source": [
    "# Функция разбиения на группы pd.cut\n",
    "def critic_categorize_groups(row):\n",
    "    return pd.cut([row['critic_score']], bins=[-1, 0, 30, 80, 100], labels=['нет оценки', 'низкая оценка', 'средняя оценка', 'высокая оценка'], right=False)[0]\n",
    "\n",
    "# Применяем функцию с группами методом apply\n",
    "gm_actual['critic_score_groups'] = gm_actual.apply(critic_categorize_groups, axis=1)\n",
    "\n",
    "#gm_actual"
   ]
  },
  {
   "cell_type": "code",
   "execution_count": 31,
   "id": "844b1431",
   "metadata": {},
   "outputs": [],
   "source": [
    "# Функция разбиения на группы if_elif (очень быстро)\n",
    "def user_category_groups(row):\n",
    "    if row < 0:\n",
    "        return 'нет оценки'\n",
    "    elif 0 <= row < 3:\n",
    "        return 'низкая оценка'\n",
    "    elif 3 <= row < 8:\n",
    "        return 'средняя оценка'\n",
    "    elif 8 <= row <= 10:\n",
    "        return 'высокая оценка'\n",
    "    else:\n",
    "        return None\n",
    "\n",
    "# Применяем функцию методом .apply() к столбцу 'critic_score'\n",
    "gm_actual['user_score_groups'] = gm_actual['user_score'].apply(user_category_groups)\n",
    "\n",
    "#gm_actual"
   ]
  },
  {
   "cell_type": "code",
   "execution_count": 32,
   "id": "548fde17",
   "metadata": {
    "id": "548fde17"
   },
   "outputs": [
    {
     "data": {
      "text/html": [
       "<div>\n",
       "<style scoped>\n",
       "    .dataframe tbody tr th:only-of-type {\n",
       "        vertical-align: middle;\n",
       "    }\n",
       "\n",
       "    .dataframe tbody tr th {\n",
       "        vertical-align: top;\n",
       "    }\n",
       "\n",
       "    .dataframe thead th {\n",
       "        text-align: right;\n",
       "    }\n",
       "</style>\n",
       "<table border=\"1\" class=\"dataframe\">\n",
       "  <thead>\n",
       "    <tr style=\"text-align: right;\">\n",
       "      <th></th>\n",
       "      <th>index</th>\n",
       "      <th>name</th>\n",
       "      <th>platform</th>\n",
       "      <th>year_of_release</th>\n",
       "      <th>genre</th>\n",
       "      <th>na_sales</th>\n",
       "      <th>eu_sales</th>\n",
       "      <th>jp_sales</th>\n",
       "      <th>other_sales</th>\n",
       "      <th>critic_score</th>\n",
       "      <th>user_score</th>\n",
       "      <th>rating</th>\n",
       "      <th>critic_score_groups</th>\n",
       "      <th>user_score_groups</th>\n",
       "    </tr>\n",
       "  </thead>\n",
       "  <tbody>\n",
       "    <tr>\n",
       "      <th>0</th>\n",
       "      <td>3394</td>\n",
       "      <td>frozen: olaf's quest</td>\n",
       "      <td>3DS</td>\n",
       "      <td>2013</td>\n",
       "      <td>platform</td>\n",
       "      <td>0.27</td>\n",
       "      <td>0.27</td>\n",
       "      <td>0.00</td>\n",
       "      <td>0.05</td>\n",
       "      <td>-1.0</td>\n",
       "      <td>-1.0</td>\n",
       "      <td>NO_RATING</td>\n",
       "      <td>нет оценки</td>\n",
       "      <td>нет оценки</td>\n",
       "    </tr>\n",
       "    <tr>\n",
       "      <th>1</th>\n",
       "      <td>3906</td>\n",
       "      <td>frozen: olaf's quest</td>\n",
       "      <td>DS</td>\n",
       "      <td>2013</td>\n",
       "      <td>platform</td>\n",
       "      <td>0.21</td>\n",
       "      <td>0.26</td>\n",
       "      <td>0.00</td>\n",
       "      <td>0.04</td>\n",
       "      <td>-1.0</td>\n",
       "      <td>-1.0</td>\n",
       "      <td>NO_RATING</td>\n",
       "      <td>нет оценки</td>\n",
       "      <td>нет оценки</td>\n",
       "    </tr>\n",
       "    <tr>\n",
       "      <th>2</th>\n",
       "      <td>2478</td>\n",
       "      <td>tales of xillia 2</td>\n",
       "      <td>PS3</td>\n",
       "      <td>2012</td>\n",
       "      <td>role-playing</td>\n",
       "      <td>0.20</td>\n",
       "      <td>0.12</td>\n",
       "      <td>0.45</td>\n",
       "      <td>0.07</td>\n",
       "      <td>71.0</td>\n",
       "      <td>7.9</td>\n",
       "      <td>T</td>\n",
       "      <td>средняя оценка</td>\n",
       "      <td>средняя оценка</td>\n",
       "    </tr>\n",
       "    <tr>\n",
       "      <th>3</th>\n",
       "      <td>8460</td>\n",
       "      <td>.hack//g.u. vol.1//rebirth</td>\n",
       "      <td>PS2</td>\n",
       "      <td>2006</td>\n",
       "      <td>role-playing</td>\n",
       "      <td>0.00</td>\n",
       "      <td>0.00</td>\n",
       "      <td>0.17</td>\n",
       "      <td>0.00</td>\n",
       "      <td>-1.0</td>\n",
       "      <td>-1.0</td>\n",
       "      <td>NO_RATING</td>\n",
       "      <td>нет оценки</td>\n",
       "      <td>нет оценки</td>\n",
       "    </tr>\n",
       "    <tr>\n",
       "      <th>4</th>\n",
       "      <td>7182</td>\n",
       "      <td>.hack//g.u. vol.2//reminisce</td>\n",
       "      <td>PS2</td>\n",
       "      <td>2006</td>\n",
       "      <td>role-playing</td>\n",
       "      <td>0.11</td>\n",
       "      <td>0.09</td>\n",
       "      <td>0.00</td>\n",
       "      <td>0.03</td>\n",
       "      <td>-1.0</td>\n",
       "      <td>-1.0</td>\n",
       "      <td>NO_RATING</td>\n",
       "      <td>нет оценки</td>\n",
       "      <td>нет оценки</td>\n",
       "    </tr>\n",
       "    <tr>\n",
       "      <th>5</th>\n",
       "      <td>8719</td>\n",
       "      <td>.hack//g.u. vol.2//reminisce (jp sales)</td>\n",
       "      <td>PS2</td>\n",
       "      <td>2006</td>\n",
       "      <td>role-playing</td>\n",
       "      <td>0.00</td>\n",
       "      <td>0.00</td>\n",
       "      <td>0.16</td>\n",
       "      <td>0.00</td>\n",
       "      <td>-1.0</td>\n",
       "      <td>-1.0</td>\n",
       "      <td>NO_RATING</td>\n",
       "      <td>нет оценки</td>\n",
       "      <td>нет оценки</td>\n",
       "    </tr>\n",
       "    <tr>\n",
       "      <th>6</th>\n",
       "      <td>8410</td>\n",
       "      <td>.hack//g.u. vol.3//redemption</td>\n",
       "      <td>PS2</td>\n",
       "      <td>2007</td>\n",
       "      <td>role-playing</td>\n",
       "      <td>0.00</td>\n",
       "      <td>0.00</td>\n",
       "      <td>0.17</td>\n",
       "      <td>0.00</td>\n",
       "      <td>-1.0</td>\n",
       "      <td>-1.0</td>\n",
       "      <td>NO_RATING</td>\n",
       "      <td>нет оценки</td>\n",
       "      <td>нет оценки</td>\n",
       "    </tr>\n",
       "    <tr>\n",
       "      <th>7</th>\n",
       "      <td>1575</td>\n",
       "      <td>.hack//infection part 1</td>\n",
       "      <td>PS2</td>\n",
       "      <td>2002</td>\n",
       "      <td>role-playing</td>\n",
       "      <td>0.49</td>\n",
       "      <td>0.38</td>\n",
       "      <td>0.26</td>\n",
       "      <td>0.13</td>\n",
       "      <td>75.0</td>\n",
       "      <td>8.5</td>\n",
       "      <td>T</td>\n",
       "      <td>средняя оценка</td>\n",
       "      <td>высокая оценка</td>\n",
       "    </tr>\n",
       "    <tr>\n",
       "      <th>8</th>\n",
       "      <td>9189</td>\n",
       "      <td>.hack//link</td>\n",
       "      <td>PSP</td>\n",
       "      <td>2010</td>\n",
       "      <td>role-playing</td>\n",
       "      <td>0.00</td>\n",
       "      <td>0.00</td>\n",
       "      <td>0.14</td>\n",
       "      <td>0.00</td>\n",
       "      <td>-1.0</td>\n",
       "      <td>-1.0</td>\n",
       "      <td>NO_RATING</td>\n",
       "      <td>нет оценки</td>\n",
       "      <td>нет оценки</td>\n",
       "    </tr>\n",
       "    <tr>\n",
       "      <th>9</th>\n",
       "      <td>3023</td>\n",
       "      <td>.hack//mutation part 2</td>\n",
       "      <td>PS2</td>\n",
       "      <td>2002</td>\n",
       "      <td>role-playing</td>\n",
       "      <td>0.23</td>\n",
       "      <td>0.18</td>\n",
       "      <td>0.20</td>\n",
       "      <td>0.06</td>\n",
       "      <td>76.0</td>\n",
       "      <td>8.9</td>\n",
       "      <td>T</td>\n",
       "      <td>средняя оценка</td>\n",
       "      <td>высокая оценка</td>\n",
       "    </tr>\n",
       "  </tbody>\n",
       "</table>\n",
       "</div>"
      ],
      "text/plain": [
       "   index                                     name platform  year_of_release  \\\n",
       "0   3394                     frozen: olaf's quest      3DS             2013   \n",
       "1   3906                     frozen: olaf's quest       DS             2013   \n",
       "2   2478                        tales of xillia 2      PS3             2012   \n",
       "3   8460               .hack//g.u. vol.1//rebirth      PS2             2006   \n",
       "4   7182             .hack//g.u. vol.2//reminisce      PS2             2006   \n",
       "5   8719  .hack//g.u. vol.2//reminisce (jp sales)      PS2             2006   \n",
       "6   8410            .hack//g.u. vol.3//redemption      PS2             2007   \n",
       "7   1575                  .hack//infection part 1      PS2             2002   \n",
       "8   9189                              .hack//link      PSP             2010   \n",
       "9   3023                   .hack//mutation part 2      PS2             2002   \n",
       "\n",
       "          genre  na_sales  eu_sales  jp_sales  other_sales  critic_score  \\\n",
       "0      platform      0.27      0.27      0.00         0.05          -1.0   \n",
       "1      platform      0.21      0.26      0.00         0.04          -1.0   \n",
       "2  role-playing      0.20      0.12      0.45         0.07          71.0   \n",
       "3  role-playing      0.00      0.00      0.17         0.00          -1.0   \n",
       "4  role-playing      0.11      0.09      0.00         0.03          -1.0   \n",
       "5  role-playing      0.00      0.00      0.16         0.00          -1.0   \n",
       "6  role-playing      0.00      0.00      0.17         0.00          -1.0   \n",
       "7  role-playing      0.49      0.38      0.26         0.13          75.0   \n",
       "8  role-playing      0.00      0.00      0.14         0.00          -1.0   \n",
       "9  role-playing      0.23      0.18      0.20         0.06          76.0   \n",
       "\n",
       "   user_score     rating critic_score_groups user_score_groups  \n",
       "0        -1.0  NO_RATING          нет оценки        нет оценки  \n",
       "1        -1.0  NO_RATING          нет оценки        нет оценки  \n",
       "2         7.9          T      средняя оценка    средняя оценка  \n",
       "3        -1.0  NO_RATING          нет оценки        нет оценки  \n",
       "4        -1.0  NO_RATING          нет оценки        нет оценки  \n",
       "5        -1.0  NO_RATING          нет оценки        нет оценки  \n",
       "6        -1.0  NO_RATING          нет оценки        нет оценки  \n",
       "7         8.5          T      средняя оценка    высокая оценка  \n",
       "8        -1.0  NO_RATING          нет оценки        нет оценки  \n",
       "9         8.9          T      средняя оценка    высокая оценка  "
      ]
     },
     "execution_count": 32,
     "metadata": {},
     "output_type": "execute_result"
    }
   ],
   "source": [
    "gm_actual.head(10)"
   ]
  },
  {
   "cell_type": "code",
   "execution_count": 33,
   "id": "e8d8a1d0",
   "metadata": {
    "id": "e8d8a1d0"
   },
   "outputs": [
    {
     "data": {
      "text/html": [
       "<div>\n",
       "<style scoped>\n",
       "    .dataframe tbody tr th:only-of-type {\n",
       "        vertical-align: middle;\n",
       "    }\n",
       "\n",
       "    .dataframe tbody tr th {\n",
       "        vertical-align: top;\n",
       "    }\n",
       "\n",
       "    .dataframe thead th {\n",
       "        text-align: right;\n",
       "    }\n",
       "</style>\n",
       "<table border=\"1\" class=\"dataframe\">\n",
       "  <thead>\n",
       "    <tr style=\"text-align: right;\">\n",
       "      <th></th>\n",
       "      <th>user_score_groups</th>\n",
       "      <th>grouped_game</th>\n",
       "      <th>critic_score_groups</th>\n",
       "      <th>groups_game</th>\n",
       "    </tr>\n",
       "  </thead>\n",
       "  <tbody>\n",
       "    <tr>\n",
       "      <th>0</th>\n",
       "      <td>высокая оценка</td>\n",
       "      <td>2286</td>\n",
       "      <td>высокая оценка</td>\n",
       "      <td>1692</td>\n",
       "    </tr>\n",
       "    <tr>\n",
       "      <th>1</th>\n",
       "      <td>нет оценки</td>\n",
       "      <td>6298</td>\n",
       "      <td>нет оценки</td>\n",
       "      <td>5612</td>\n",
       "    </tr>\n",
       "    <tr>\n",
       "      <th>2</th>\n",
       "      <td>низкая оценка</td>\n",
       "      <td>116</td>\n",
       "      <td>низкая оценка</td>\n",
       "      <td>55</td>\n",
       "    </tr>\n",
       "    <tr>\n",
       "      <th>3</th>\n",
       "      <td>средняя оценка</td>\n",
       "      <td>4081</td>\n",
       "      <td>средняя оценка</td>\n",
       "      <td>5422</td>\n",
       "    </tr>\n",
       "  </tbody>\n",
       "</table>\n",
       "</div>"
      ],
      "text/plain": [
       "  user_score_groups  grouped_game critic_score_groups  groups_game\n",
       "0    высокая оценка          2286      высокая оценка         1692\n",
       "1        нет оценки          6298          нет оценки         5612\n",
       "2     низкая оценка           116       низкая оценка           55\n",
       "3    средняя оценка          4081      средняя оценка         5422"
      ]
     },
     "execution_count": 33,
     "metadata": {},
     "output_type": "execute_result"
    }
   ],
   "source": [
    "# Группируем данные для подсчета количества игр в каждой категории\n",
    "grouped_user = gm_actual.groupby('user_score_groups')['name'].count().reset_index(name='grouped_game')\n",
    "grouped_critic = gm_actual.groupby('critic_score_groups')['name'].count().reset_index(name='groups_game')\n",
    "\n",
    "# Объединяем данные в одну таблицу:\n",
    "result_gm = pd.merge(grouped_user, grouped_critic, left_on='user_score_groups', right_on='critic_score_groups')\n",
    "result_gm"
   ]
  },
  {
   "cell_type": "code",
   "execution_count": 34,
   "id": "f240904a",
   "metadata": {
    "id": "f240904a"
   },
   "outputs": [
    {
     "data": {
      "text/html": [
       "<div>\n",
       "<style scoped>\n",
       "    .dataframe tbody tr th:only-of-type {\n",
       "        vertical-align: middle;\n",
       "    }\n",
       "\n",
       "    .dataframe tbody tr th {\n",
       "        vertical-align: top;\n",
       "    }\n",
       "\n",
       "    .dataframe thead th {\n",
       "        text-align: right;\n",
       "    }\n",
       "</style>\n",
       "<table border=\"1\" class=\"dataframe\">\n",
       "  <thead>\n",
       "    <tr style=\"text-align: right;\">\n",
       "      <th></th>\n",
       "      <th>platform</th>\n",
       "      <th>count_game</th>\n",
       "    </tr>\n",
       "  </thead>\n",
       "  <tbody>\n",
       "    <tr>\n",
       "      <th>0</th>\n",
       "      <td>PS2</td>\n",
       "      <td>2127</td>\n",
       "    </tr>\n",
       "    <tr>\n",
       "      <th>1</th>\n",
       "      <td>DS</td>\n",
       "      <td>2120</td>\n",
       "    </tr>\n",
       "    <tr>\n",
       "      <th>2</th>\n",
       "      <td>Wii</td>\n",
       "      <td>1275</td>\n",
       "    </tr>\n",
       "    <tr>\n",
       "      <th>3</th>\n",
       "      <td>PSP</td>\n",
       "      <td>1180</td>\n",
       "    </tr>\n",
       "    <tr>\n",
       "      <th>4</th>\n",
       "      <td>X360</td>\n",
       "      <td>1121</td>\n",
       "    </tr>\n",
       "    <tr>\n",
       "      <th>5</th>\n",
       "      <td>PS3</td>\n",
       "      <td>1087</td>\n",
       "    </tr>\n",
       "    <tr>\n",
       "      <th>6</th>\n",
       "      <td>GBA</td>\n",
       "      <td>811</td>\n",
       "    </tr>\n",
       "  </tbody>\n",
       "</table>\n",
       "</div>"
      ],
      "text/plain": [
       "  platform  count_game\n",
       "0      PS2        2127\n",
       "1       DS        2120\n",
       "2      Wii        1275\n",
       "3      PSP        1180\n",
       "4     X360        1121\n",
       "5      PS3        1087\n",
       "6      GBA         811"
      ]
     },
     "execution_count": 34,
     "metadata": {},
     "output_type": "execute_result"
    }
   ],
   "source": [
    "# Выделяем топ-7 платформ по количеству игр.\n",
    "# Считаем количество игр для каждой платформы:\n",
    "count_platform = gm_actual.groupby('platform')['name'].count().reset_index(name='count_game')\n",
    "# Сортируем платформы по количеству игр в порядке убывания:\n",
    "top_7 = count_platform.sort_values(by='count_game', ascending=False).reset_index(drop=True).head(7)\n",
    "top_7"
   ]
  },
  {
   "cell_type": "markdown",
   "id": "c0158881",
   "metadata": {
    "id": "c0158881"
   },
   "source": [
    "---\n",
    "\n",
    "## 5. Итоговый вывод\n",
    "\n",
    "<font color='#777778'>В конце напишите основной вывод и отразите, какую работу проделали. Не забудьте указать описание среза данных и новых полей, которые добавили в исходный датасет.</font>"
   ]
  },
  {
   "cell_type": "markdown",
   "id": "9a46488a",
   "metadata": {},
   "source": [
    "Для анализа был представлен датасет `new_games.csv` из 11 столбцов и 16956 строк. В нем представлена информация о продажах игр разных жанров и платформ, а также пользовательские и экспертные оценки игр. Для корректного анализа была проведена предобработка данных.    \n",
    "1. Была проведена замена типов данных на более оптимальные:  \n",
    "    •\t**Числовые значения с плавающей запятой (`float64`)**. \n",
    "    Четыре столбца представлены типом float64 (`Year of Release, NA sales, Other sales, Critic Score`). Для трех столбцов  (`NA sales, Other sales, Critic Score`) это верное решение, так как сумма продаж в миллионах шт. включает дробные значения. Для столбца `Year of Release` более уместен тип `int16`, т.к. год выпуска игры укладывается в ограничения данного типа данных.   \n",
    "    •\t**Строковые данные (`object`)**. Семь столбцов имеют данный тип данных. По трем столбцам `Name, Platform, Genre, Rating`, содержащим строковую информацию, тип данных `object` подходит. `EU sales, JP sales, User Score`  хранят информацию о суммах продаж и рейтингах игр -> проведена корректировки типа на `float64` (Числовые значения с плавающей запятой). \n",
    "    \n",
    "    В ходе корретировки зафиксировано появление в столбцах некорректных значений (обработаны при анализе пропусков).  \n",
    "    \n",
    "    \n",
    "2. Наименования столбцов не соответствовали общепринятым стандартам **snake_case**. Проведена корректировка регистра с целью исключения дубликатов и замена пробелов на нижнее подчеркивание.\n",
    "\n",
    "\n",
    "3. Датасет содержал **пропуски**: \n",
    "- 2 строки были **удалены** (пропуск в названии и жанре), т.к. количество строк незначительное и не повлияет на итоговые результаты. \n",
    "- В столбцах `eu_sales, jp_sales` пропуски **заменены на медианные значения** в группах по `platform, year_of_release`. \n",
    "- Пропуски в количестве 275 строк в столбце `Year of Release` **заполнены** индикатором-\"заглушкой\" (год = 0). При этом, данное количество так же является не значительным (<2%), не попадает в итоговый датасет и никак не влияет на итоговые результаты. \n",
    "- Проанализированы столбцы с высоким % пропусков (`critic_score` - 51.39 %, `user_score` - 54.65 %, `rating` - 40.52%): основная масса пропусков присутствует в играх до 2000 года выпуска. Видимо, до этого года оценки и рейтинги практически не использовались. В столбцах **установлены индикаторы**-\"заглушки\". Поскольку в ТЗ определен период анализа (2000-2013), наличие пропусков не оказывает существенного влияния на итоговые выводы.\n",
    "\n",
    "4. В ходе проработки явных и не явных **дубликатов** количество строк с 16 959 шт. сократилось на 243 шт. (равно 1.43 %) и составило 16 713 шт.\n",
    "\n",
    "\n",
    "5. Поскольку перед командой стоит задача изучить историю продаж игр в начале XXI века, новый срез данных **за период с 2000 по 2013 год** был сохранен в отдельном датафрейме. Количество строк сократилось до 12 781 шт.\n",
    "\n",
    "\n",
    "6. Проведена **категоризация** игр на основании оценок пользователей и критиков. Выделены **топ-7** платформ по количеству игр, выпущенных за период 2000-2013. Строки с отсутствующими оценками (с \"заглушками\") вынесены в отдельную группу \"Нет оценки\". \n",
    "\n",
    "Итогом анализа стали данные о топ-7 наиболее востребованных платформ, на которые необходимо ориентироваться при привлечении новой аудитории. Так же видно, что большая часть игр характеризуется (как пользователями, так и критиками) как средняя. Низкого качества игр достаточно мало. Разместив в статье материалы о наиболее востребованных высокорейтинговых играх, возможно, удастся привлечь новую аудиторию любителей старых игр, и заодно заинтересовать их «Секретами Темнолесья»."
   ]
  },
  {
   "cell_type": "markdown",
   "id": "31ea186e",
   "metadata": {},
   "source": [
    "При том, что по ходу выполнения проекта, были выполнены все рекомендации и соблюдена последовательность действий, для себя я не увидела ответов на первично поставленные вопросы.  \n",
    "\n",
    "Поэтому, для анализа объёмов продаж игр разных жанров и возможности рассмотрения региональных предпочтений игроков (считаю это требованием ТЗ), **были выполнены # ДОП.АНАЛИЗ 1 и # ДОП.АНАЛИЗ 2.** Данные материалы позволяют изучить общую востребованность игры во всех регионах продаж.  \n",
    "Так же, с целью акцентирования в статье игр жанра RPG, имеется возможность проведения сравнительного анализа интересующего жанра.  \n",
    "\n",
    "**<div class=\"alert-warning\"> ДОП.АНАЛИЗ 2 показывает, что количество игр жанра RPG находится только на 4ом месте от общего кол-ва игр, а по количеству проданных копий (в миллионах шт.) на пятом.</div>** \n",
    "\n",
    "Возможно, доп.срезы помогут коллегам выпустить достойную статью на известном IT-ресурсе, что позволит \n",
    "привлечь новую аудиторию любителей старых игр, и заодно заинтересовать их «Секретами Темнолесья»."
   ]
  },
  {
   "cell_type": "code",
   "execution_count": 35,
   "id": "20175f5b",
   "metadata": {
    "id": "20175f5b"
   },
   "outputs": [
    {
     "data": {
      "text/html": [
       "<div>\n",
       "<style scoped>\n",
       "    .dataframe tbody tr th:only-of-type {\n",
       "        vertical-align: middle;\n",
       "    }\n",
       "\n",
       "    .dataframe tbody tr th {\n",
       "        vertical-align: top;\n",
       "    }\n",
       "\n",
       "    .dataframe thead th {\n",
       "        text-align: right;\n",
       "    }\n",
       "</style>\n",
       "<table border=\"1\" class=\"dataframe\">\n",
       "  <thead>\n",
       "    <tr style=\"text-align: right;\">\n",
       "      <th></th>\n",
       "      <th>index</th>\n",
       "      <th>name</th>\n",
       "      <th>platform</th>\n",
       "      <th>year_of_release</th>\n",
       "      <th>genre</th>\n",
       "      <th>na_sales</th>\n",
       "      <th>eu_sales</th>\n",
       "      <th>jp_sales</th>\n",
       "      <th>other_sales</th>\n",
       "      <th>critic_score</th>\n",
       "      <th>user_score</th>\n",
       "      <th>rating</th>\n",
       "      <th>critic_score_groups</th>\n",
       "      <th>user_score_groups</th>\n",
       "      <th>total_sales</th>\n",
       "    </tr>\n",
       "  </thead>\n",
       "  <tbody>\n",
       "    <tr>\n",
       "      <th>12233</th>\n",
       "      <td>0</td>\n",
       "      <td>wii sports</td>\n",
       "      <td>Wii</td>\n",
       "      <td>2006</td>\n",
       "      <td>sports</td>\n",
       "      <td>41.36</td>\n",
       "      <td>28.96</td>\n",
       "      <td>3.77</td>\n",
       "      <td>8.45</td>\n",
       "      <td>76.0</td>\n",
       "      <td>8.0</td>\n",
       "      <td>E</td>\n",
       "      <td>средняя оценка</td>\n",
       "      <td>высокая оценка</td>\n",
       "      <td>82.54</td>\n",
       "    </tr>\n",
       "    <tr>\n",
       "      <th>6063</th>\n",
       "      <td>2</td>\n",
       "      <td>mario kart wii</td>\n",
       "      <td>Wii</td>\n",
       "      <td>2008</td>\n",
       "      <td>racing</td>\n",
       "      <td>15.68</td>\n",
       "      <td>12.76</td>\n",
       "      <td>3.79</td>\n",
       "      <td>3.29</td>\n",
       "      <td>82.0</td>\n",
       "      <td>8.3</td>\n",
       "      <td>E</td>\n",
       "      <td>высокая оценка</td>\n",
       "      <td>высокая оценка</td>\n",
       "      <td>35.52</td>\n",
       "    </tr>\n",
       "    <tr>\n",
       "      <th>12234</th>\n",
       "      <td>3</td>\n",
       "      <td>wii sports resort</td>\n",
       "      <td>Wii</td>\n",
       "      <td>2009</td>\n",
       "      <td>sports</td>\n",
       "      <td>15.61</td>\n",
       "      <td>10.93</td>\n",
       "      <td>3.28</td>\n",
       "      <td>2.95</td>\n",
       "      <td>80.0</td>\n",
       "      <td>8.0</td>\n",
       "      <td>E</td>\n",
       "      <td>высокая оценка</td>\n",
       "      <td>высокая оценка</td>\n",
       "      <td>32.77</td>\n",
       "    </tr>\n",
       "    <tr>\n",
       "      <th>7435</th>\n",
       "      <td>6</td>\n",
       "      <td>new super mario bros.</td>\n",
       "      <td>DS</td>\n",
       "      <td>2006</td>\n",
       "      <td>platform</td>\n",
       "      <td>11.28</td>\n",
       "      <td>9.14</td>\n",
       "      <td>6.50</td>\n",
       "      <td>2.88</td>\n",
       "      <td>89.0</td>\n",
       "      <td>8.5</td>\n",
       "      <td>E</td>\n",
       "      <td>высокая оценка</td>\n",
       "      <td>высокая оценка</td>\n",
       "      <td>29.80</td>\n",
       "    </tr>\n",
       "    <tr>\n",
       "      <th>12231</th>\n",
       "      <td>7</td>\n",
       "      <td>wii play</td>\n",
       "      <td>Wii</td>\n",
       "      <td>2006</td>\n",
       "      <td>misc</td>\n",
       "      <td>13.96</td>\n",
       "      <td>9.18</td>\n",
       "      <td>2.93</td>\n",
       "      <td>2.84</td>\n",
       "      <td>58.0</td>\n",
       "      <td>6.6</td>\n",
       "      <td>E</td>\n",
       "      <td>средняя оценка</td>\n",
       "      <td>средняя оценка</td>\n",
       "      <td>28.91</td>\n",
       "    </tr>\n",
       "    <tr>\n",
       "      <th>7438</th>\n",
       "      <td>8</td>\n",
       "      <td>new super mario bros. wii</td>\n",
       "      <td>Wii</td>\n",
       "      <td>2009</td>\n",
       "      <td>platform</td>\n",
       "      <td>14.44</td>\n",
       "      <td>6.94</td>\n",
       "      <td>4.70</td>\n",
       "      <td>2.24</td>\n",
       "      <td>87.0</td>\n",
       "      <td>8.4</td>\n",
       "      <td>E</td>\n",
       "      <td>высокая оценка</td>\n",
       "      <td>высокая оценка</td>\n",
       "      <td>28.32</td>\n",
       "    </tr>\n",
       "    <tr>\n",
       "      <th>7622</th>\n",
       "      <td>10</td>\n",
       "      <td>nintendogs</td>\n",
       "      <td>DS</td>\n",
       "      <td>2005</td>\n",
       "      <td>simulation</td>\n",
       "      <td>9.05</td>\n",
       "      <td>10.95</td>\n",
       "      <td>1.93</td>\n",
       "      <td>2.74</td>\n",
       "      <td>-1.0</td>\n",
       "      <td>-1.0</td>\n",
       "      <td>NO_RATING</td>\n",
       "      <td>нет оценки</td>\n",
       "      <td>нет оценки</td>\n",
       "      <td>24.67</td>\n",
       "    </tr>\n",
       "    <tr>\n",
       "      <th>6062</th>\n",
       "      <td>11</td>\n",
       "      <td>mario kart ds</td>\n",
       "      <td>DS</td>\n",
       "      <td>2005</td>\n",
       "      <td>racing</td>\n",
       "      <td>9.71</td>\n",
       "      <td>7.47</td>\n",
       "      <td>4.13</td>\n",
       "      <td>1.90</td>\n",
       "      <td>91.0</td>\n",
       "      <td>8.6</td>\n",
       "      <td>E</td>\n",
       "      <td>высокая оценка</td>\n",
       "      <td>высокая оценка</td>\n",
       "      <td>23.21</td>\n",
       "    </tr>\n",
       "    <tr>\n",
       "      <th>12225</th>\n",
       "      <td>13</td>\n",
       "      <td>wii fit</td>\n",
       "      <td>Wii</td>\n",
       "      <td>2007</td>\n",
       "      <td>sports</td>\n",
       "      <td>8.92</td>\n",
       "      <td>8.03</td>\n",
       "      <td>3.60</td>\n",
       "      <td>2.15</td>\n",
       "      <td>80.0</td>\n",
       "      <td>7.7</td>\n",
       "      <td>E</td>\n",
       "      <td>высокая оценка</td>\n",
       "      <td>средняя оценка</td>\n",
       "      <td>22.70</td>\n",
       "    </tr>\n",
       "    <tr>\n",
       "      <th>5323</th>\n",
       "      <td>14</td>\n",
       "      <td>kinect adventures!</td>\n",
       "      <td>X360</td>\n",
       "      <td>2010</td>\n",
       "      <td>misc</td>\n",
       "      <td>15.00</td>\n",
       "      <td>4.89</td>\n",
       "      <td>0.24</td>\n",
       "      <td>1.69</td>\n",
       "      <td>61.0</td>\n",
       "      <td>6.3</td>\n",
       "      <td>E</td>\n",
       "      <td>средняя оценка</td>\n",
       "      <td>средняя оценка</td>\n",
       "      <td>21.82</td>\n",
       "    </tr>\n",
       "  </tbody>\n",
       "</table>\n",
       "</div>"
      ],
      "text/plain": [
       "       index                       name platform  year_of_release       genre  \\\n",
       "12233      0                 wii sports      Wii             2006      sports   \n",
       "6063       2             mario kart wii      Wii             2008      racing   \n",
       "12234      3          wii sports resort      Wii             2009      sports   \n",
       "7435       6      new super mario bros.       DS             2006    platform   \n",
       "12231      7                   wii play      Wii             2006        misc   \n",
       "7438       8  new super mario bros. wii      Wii             2009    platform   \n",
       "7622      10                 nintendogs       DS             2005  simulation   \n",
       "6062      11              mario kart ds       DS             2005      racing   \n",
       "12225     13                    wii fit      Wii             2007      sports   \n",
       "5323      14         kinect adventures!     X360             2010        misc   \n",
       "\n",
       "       na_sales  eu_sales  jp_sales  other_sales  critic_score  user_score  \\\n",
       "12233     41.36     28.96      3.77         8.45          76.0         8.0   \n",
       "6063      15.68     12.76      3.79         3.29          82.0         8.3   \n",
       "12234     15.61     10.93      3.28         2.95          80.0         8.0   \n",
       "7435      11.28      9.14      6.50         2.88          89.0         8.5   \n",
       "12231     13.96      9.18      2.93         2.84          58.0         6.6   \n",
       "7438      14.44      6.94      4.70         2.24          87.0         8.4   \n",
       "7622       9.05     10.95      1.93         2.74          -1.0        -1.0   \n",
       "6062       9.71      7.47      4.13         1.90          91.0         8.6   \n",
       "12225      8.92      8.03      3.60         2.15          80.0         7.7   \n",
       "5323      15.00      4.89      0.24         1.69          61.0         6.3   \n",
       "\n",
       "          rating critic_score_groups user_score_groups  total_sales  \n",
       "12233          E      средняя оценка    высокая оценка        82.54  \n",
       "6063           E      высокая оценка    высокая оценка        35.52  \n",
       "12234          E      высокая оценка    высокая оценка        32.77  \n",
       "7435           E      высокая оценка    высокая оценка        29.80  \n",
       "12231          E      средняя оценка    средняя оценка        28.91  \n",
       "7438           E      высокая оценка    высокая оценка        28.32  \n",
       "7622   NO_RATING          нет оценки        нет оценки        24.67  \n",
       "6062           E      высокая оценка    высокая оценка        23.21  \n",
       "12225          E      высокая оценка    средняя оценка        22.70  \n",
       "5323           E      средняя оценка    средняя оценка        21.82  "
      ]
     },
     "execution_count": 35,
     "metadata": {},
     "output_type": "execute_result"
    }
   ],
   "source": [
    "# ДОП.АНАЛИЗ 1\n",
    "# Суммируем все продажи по регионам в разрезе каждой игры\n",
    "sum_columns = gm_actual[['eu_sales', 'jp_sales', 'other_sales', 'na_sales']].sum(axis=1)\n",
    "# Присваивание новых значений в новый столбец 'total_sum'\n",
    "gm_actual['total_sales'] = sum_columns\n",
    "# Сортировка DataFrame по убыванию значений в столбце 'total_sum'\n",
    "gm_actual.sort_values(by='total_sales', ascending=False, inplace=True)\n",
    "\n",
    "gm_actual.head(10)"
   ]
  },
  {
   "cell_type": "code",
   "execution_count": 36,
   "id": "0c1afc40",
   "metadata": {
    "id": "0c1afc40"
   },
   "outputs": [
    {
     "data": {
      "text/html": [
       "<div>\n",
       "<style scoped>\n",
       "    .dataframe tbody tr th:only-of-type {\n",
       "        vertical-align: middle;\n",
       "    }\n",
       "\n",
       "    .dataframe tbody tr th {\n",
       "        vertical-align: top;\n",
       "    }\n",
       "\n",
       "    .dataframe thead th {\n",
       "        text-align: right;\n",
       "    }\n",
       "</style>\n",
       "<table border=\"1\" class=\"dataframe\">\n",
       "  <thead>\n",
       "    <tr style=\"text-align: right;\">\n",
       "      <th></th>\n",
       "      <th>name</th>\n",
       "      <th>total_sales</th>\n",
       "      <th>na_sales</th>\n",
       "      <th>eu_sales</th>\n",
       "      <th>jp_sales</th>\n",
       "      <th>other_sales</th>\n",
       "    </tr>\n",
       "    <tr>\n",
       "      <th>genre</th>\n",
       "      <th></th>\n",
       "      <th></th>\n",
       "      <th></th>\n",
       "      <th></th>\n",
       "      <th></th>\n",
       "      <th></th>\n",
       "    </tr>\n",
       "  </thead>\n",
       "  <tbody>\n",
       "    <tr>\n",
       "      <th>action</th>\n",
       "      <td>2460</td>\n",
       "      <td>1324.73</td>\n",
       "      <td>679.74</td>\n",
       "      <td>389.85</td>\n",
       "      <td>102.63</td>\n",
       "      <td>152.51</td>\n",
       "    </tr>\n",
       "    <tr>\n",
       "      <th>sports</th>\n",
       "      <td>1818</td>\n",
       "      <td>1021.44</td>\n",
       "      <td>543.26</td>\n",
       "      <td>293.85</td>\n",
       "      <td>72.62</td>\n",
       "      <td>111.71</td>\n",
       "    </tr>\n",
       "    <tr>\n",
       "      <th>misc</th>\n",
       "      <td>1484</td>\n",
       "      <td>680.30</td>\n",
       "      <td>350.22</td>\n",
       "      <td>183.35</td>\n",
       "      <td>79.82</td>\n",
       "      <td>66.91</td>\n",
       "    </tr>\n",
       "    <tr>\n",
       "      <th>role-playing</th>\n",
       "      <td>1079</td>\n",
       "      <td>629.78</td>\n",
       "      <td>248.83</td>\n",
       "      <td>127.52</td>\n",
       "      <td>210.55</td>\n",
       "      <td>42.88</td>\n",
       "    </tr>\n",
       "    <tr>\n",
       "      <th>adventure</th>\n",
       "      <td>1009</td>\n",
       "      <td>166.19</td>\n",
       "      <td>76.49</td>\n",
       "      <td>43.01</td>\n",
       "      <td>33.74</td>\n",
       "      <td>12.95</td>\n",
       "    </tr>\n",
       "    <tr>\n",
       "      <th>shooter</th>\n",
       "      <td>1001</td>\n",
       "      <td>741.76</td>\n",
       "      <td>416.21</td>\n",
       "      <td>228.50</td>\n",
       "      <td>18.41</td>\n",
       "      <td>78.64</td>\n",
       "    </tr>\n",
       "    <tr>\n",
       "      <th>racing</th>\n",
       "      <td>966</td>\n",
       "      <td>533.54</td>\n",
       "      <td>263.57</td>\n",
       "      <td>177.89</td>\n",
       "      <td>25.98</td>\n",
       "      <td>66.10</td>\n",
       "    </tr>\n",
       "    <tr>\n",
       "      <th>simulation</th>\n",
       "      <td>724</td>\n",
       "      <td>322.28</td>\n",
       "      <td>159.54</td>\n",
       "      <td>97.40</td>\n",
       "      <td>37.85</td>\n",
       "      <td>27.49</td>\n",
       "    </tr>\n",
       "    <tr>\n",
       "      <th>platform</th>\n",
       "      <td>682</td>\n",
       "      <td>475.82</td>\n",
       "      <td>250.76</td>\n",
       "      <td>132.73</td>\n",
       "      <td>52.54</td>\n",
       "      <td>39.79</td>\n",
       "    </tr>\n",
       "    <tr>\n",
       "      <th>fighting</th>\n",
       "      <td>580</td>\n",
       "      <td>283.68</td>\n",
       "      <td>148.34</td>\n",
       "      <td>67.82</td>\n",
       "      <td>38.52</td>\n",
       "      <td>29.00</td>\n",
       "    </tr>\n",
       "    <tr>\n",
       "      <th>strategy</th>\n",
       "      <td>513</td>\n",
       "      <td>111.11</td>\n",
       "      <td>45.09</td>\n",
       "      <td>30.76</td>\n",
       "      <td>26.76</td>\n",
       "      <td>8.50</td>\n",
       "    </tr>\n",
       "    <tr>\n",
       "      <th>puzzle</th>\n",
       "      <td>465</td>\n",
       "      <td>135.99</td>\n",
       "      <td>63.50</td>\n",
       "      <td>39.23</td>\n",
       "      <td>23.25</td>\n",
       "      <td>10.01</td>\n",
       "    </tr>\n",
       "  </tbody>\n",
       "</table>\n",
       "</div>"
      ],
      "text/plain": [
       "              name  total_sales  na_sales  eu_sales  jp_sales  other_sales\n",
       "genre                                                                     \n",
       "action        2460      1324.73    679.74    389.85    102.63       152.51\n",
       "sports        1818      1021.44    543.26    293.85     72.62       111.71\n",
       "misc          1484       680.30    350.22    183.35     79.82        66.91\n",
       "role-playing  1079       629.78    248.83    127.52    210.55        42.88\n",
       "adventure     1009       166.19     76.49     43.01     33.74        12.95\n",
       "shooter       1001       741.76    416.21    228.50     18.41        78.64\n",
       "racing         966       533.54    263.57    177.89     25.98        66.10\n",
       "simulation     724       322.28    159.54     97.40     37.85        27.49\n",
       "platform       682       475.82    250.76    132.73     52.54        39.79\n",
       "fighting       580       283.68    148.34     67.82     38.52        29.00\n",
       "strategy       513       111.11     45.09     30.76     26.76         8.50\n",
       "puzzle         465       135.99     63.50     39.23     23.25        10.01"
      ]
     },
     "execution_count": 36,
     "metadata": {},
     "output_type": "execute_result"
    }
   ],
   "source": [
    "# ДОП.АНАЛИЗ 2\n",
    "# Считаем количество игр для каждого жанра, а так же сумму продаж всего и по регионам.\n",
    "# Группировка по столбцу 'genre' с суммой 'total_sales'\n",
    "grouped = gm_actual.groupby('genre').agg({\n",
    "    'name': 'count',\n",
    "    'total_sales': 'sum',\n",
    "    'na_sales': 'sum',\n",
    "    'eu_sales': 'sum',\n",
    "    'jp_sales': 'sum',\n",
    "    'other_sales': 'sum'\n",
    "})\n",
    "grouped = grouped.sort_values(by='name', ascending=False)\n",
    "grouped\n",
    "\n",
    "# Сортировка по количеству названий в порядке убывания\n",
    "grouped = grouped.sort_values(by='name', ascending=False)\n",
    "grouped"
   ]
  }
 ],
 "metadata": {
  "ExecuteTimeLog": [
   {
    "duration": 466,
    "start_time": "2025-02-04T07:00:16.055Z"
   },
   {
    "duration": 89,
    "start_time": "2025-02-04T07:01:37.211Z"
   },
   {
    "duration": 18,
    "start_time": "2025-02-04T07:02:04.161Z"
   },
   {
    "duration": 482,
    "start_time": "2025-02-04T07:57:38.724Z"
   },
   {
    "duration": 4,
    "start_time": "2025-02-04T07:57:41.517Z"
   },
   {
    "duration": 18,
    "start_time": "2025-02-04T08:23:18.813Z"
   },
   {
    "duration": 843,
    "start_time": "2025-02-04T13:00:30.499Z"
   },
   {
    "duration": 152,
    "start_time": "2025-02-04T13:00:31.345Z"
   },
   {
    "duration": 19,
    "start_time": "2025-02-04T13:00:34.493Z"
   },
   {
    "duration": 19,
    "start_time": "2025-02-04T13:00:37.071Z"
   },
   {
    "duration": 77,
    "start_time": "2025-02-04T13:00:50.191Z"
   },
   {
    "duration": 13,
    "start_time": "2025-02-04T13:01:06.153Z"
   },
   {
    "duration": 3,
    "start_time": "2025-02-04T13:02:28.685Z"
   },
   {
    "duration": 9,
    "start_time": "2025-02-04T13:02:39.814Z"
   },
   {
    "duration": 15,
    "start_time": "2025-02-04T13:49:24.271Z"
   },
   {
    "duration": 22,
    "start_time": "2025-02-04T13:50:51.799Z"
   },
   {
    "duration": 13,
    "start_time": "2025-02-04T13:51:56.227Z"
   },
   {
    "duration": 12,
    "start_time": "2025-02-04T13:52:05.414Z"
   },
   {
    "duration": 10,
    "start_time": "2025-02-04T13:52:12.806Z"
   },
   {
    "duration": 4,
    "start_time": "2025-02-04T13:57:34.430Z"
   },
   {
    "duration": 6,
    "start_time": "2025-02-04T14:06:34.724Z"
   },
   {
    "duration": 6,
    "start_time": "2025-02-04T14:08:43.516Z"
   },
   {
    "duration": 3,
    "start_time": "2025-02-04T14:09:45.016Z"
   },
   {
    "duration": 108,
    "start_time": "2025-02-04T14:09:46.918Z"
   },
   {
    "duration": 17,
    "start_time": "2025-02-04T14:09:48.876Z"
   },
   {
    "duration": 14,
    "start_time": "2025-02-04T14:09:52.433Z"
   },
   {
    "duration": 12,
    "start_time": "2025-02-04T14:09:55.888Z"
   },
   {
    "duration": 12,
    "start_time": "2025-02-04T14:09:58.589Z"
   },
   {
    "duration": 16,
    "start_time": "2025-02-04T14:10:01.336Z"
   },
   {
    "duration": 13,
    "start_time": "2025-02-04T14:10:08.146Z"
   },
   {
    "duration": 6,
    "start_time": "2025-02-04T14:11:23.715Z"
   },
   {
    "duration": 6,
    "start_time": "2025-02-04T14:22:48.153Z"
   },
   {
    "duration": 13,
    "start_time": "2025-02-04T14:30:57.496Z"
   },
   {
    "duration": 125,
    "start_time": "2025-02-04T14:31:17.816Z"
   },
   {
    "duration": 16,
    "start_time": "2025-02-04T14:31:20.120Z"
   },
   {
    "duration": 14,
    "start_time": "2025-02-04T14:31:21.109Z"
   },
   {
    "duration": 15,
    "start_time": "2025-02-04T14:31:22.068Z"
   },
   {
    "duration": 14,
    "start_time": "2025-02-04T14:31:22.983Z"
   },
   {
    "duration": 20,
    "start_time": "2025-02-04T14:31:23.868Z"
   },
   {
    "duration": 5,
    "start_time": "2025-02-04T14:36:19.361Z"
   },
   {
    "duration": 7,
    "start_time": "2025-02-04T14:38:54.495Z"
   },
   {
    "duration": 882,
    "start_time": "2025-02-04T19:54:44.123Z"
   },
   {
    "duration": 154,
    "start_time": "2025-02-04T19:54:45.007Z"
   },
   {
    "duration": 18,
    "start_time": "2025-02-04T19:54:45.163Z"
   },
   {
    "duration": 18,
    "start_time": "2025-02-04T19:54:45.182Z"
   },
   {
    "duration": 26,
    "start_time": "2025-02-04T19:54:45.213Z"
   },
   {
    "duration": 24,
    "start_time": "2025-02-04T19:54:45.241Z"
   },
   {
    "duration": 15,
    "start_time": "2025-02-04T19:54:45.267Z"
   },
   {
    "duration": 5,
    "start_time": "2025-02-04T19:54:45.284Z"
   },
   {
    "duration": 7,
    "start_time": "2025-02-04T19:54:45.290Z"
   },
   {
    "duration": 5,
    "start_time": "2025-02-04T19:55:38.774Z"
   },
   {
    "duration": 8,
    "start_time": "2025-02-04T19:55:40.954Z"
   },
   {
    "duration": 18,
    "start_time": "2025-02-04T20:04:00.828Z"
   },
   {
    "duration": 21,
    "start_time": "2025-02-04T20:04:19.325Z"
   },
   {
    "duration": 8,
    "start_time": "2025-02-04T20:15:44.092Z"
   },
   {
    "duration": 10,
    "start_time": "2025-02-04T20:15:55.253Z"
   },
   {
    "duration": 99,
    "start_time": "2025-02-04T20:16:10.897Z"
   },
   {
    "duration": 6,
    "start_time": "2025-02-04T20:16:20.599Z"
   },
   {
    "duration": 1184,
    "start_time": "2025-02-04T20:17:13.247Z"
   },
   {
    "duration": 1131,
    "start_time": "2025-02-04T20:18:26.931Z"
   },
   {
    "duration": 9,
    "start_time": "2025-02-04T20:19:04.194Z"
   },
   {
    "duration": 8,
    "start_time": "2025-02-04T20:19:06.771Z"
   },
   {
    "duration": 35,
    "start_time": "2025-02-04T20:19:41.306Z"
   },
   {
    "duration": 20,
    "start_time": "2025-02-04T20:32:02.788Z"
   },
   {
    "duration": 5,
    "start_time": "2025-02-04T20:34:25.956Z"
   },
   {
    "duration": 28,
    "start_time": "2025-02-04T20:35:27.611Z"
   },
   {
    "duration": 13,
    "start_time": "2025-02-04T20:35:37.307Z"
   },
   {
    "duration": 8,
    "start_time": "2025-02-04T20:35:52.432Z"
   },
   {
    "duration": 20,
    "start_time": "2025-02-04T20:36:00.970Z"
   },
   {
    "duration": 6,
    "start_time": "2025-02-04T20:36:39.202Z"
   },
   {
    "duration": 18,
    "start_time": "2025-02-04T20:36:42.165Z"
   },
   {
    "duration": 6,
    "start_time": "2025-02-04T20:37:02.216Z"
   },
   {
    "duration": 18,
    "start_time": "2025-02-04T20:37:04.767Z"
   },
   {
    "duration": 4,
    "start_time": "2025-02-04T20:44:43.357Z"
   },
   {
    "duration": 21,
    "start_time": "2025-02-04T20:44:45.240Z"
   },
   {
    "duration": 19,
    "start_time": "2025-02-04T21:02:35.349Z"
   },
   {
    "duration": 25,
    "start_time": "2025-02-04T21:05:33.405Z"
   },
   {
    "duration": 7,
    "start_time": "2025-02-04T21:15:35.949Z"
   },
   {
    "duration": 14,
    "start_time": "2025-02-04T21:15:47.096Z"
   },
   {
    "duration": 1176,
    "start_time": "2025-02-04T21:16:17.663Z"
   },
   {
    "duration": 12,
    "start_time": "2025-02-04T21:32:21.574Z"
   },
   {
    "duration": 8,
    "start_time": "2025-02-04T21:35:36.140Z"
   },
   {
    "duration": 8,
    "start_time": "2025-02-04T21:38:08.451Z"
   },
   {
    "duration": 9,
    "start_time": "2025-02-04T21:40:47.141Z"
   },
   {
    "duration": 28,
    "start_time": "2025-02-04T21:41:55.549Z"
   },
   {
    "duration": 13,
    "start_time": "2025-02-04T21:43:00.985Z"
   },
   {
    "duration": 10,
    "start_time": "2025-02-04T21:45:13.958Z"
   },
   {
    "duration": 9,
    "start_time": "2025-02-04T21:45:16.430Z"
   },
   {
    "duration": 6,
    "start_time": "2025-02-04T21:45:17.730Z"
   },
   {
    "duration": 21,
    "start_time": "2025-02-04T21:45:18.429Z"
   },
   {
    "duration": 31,
    "start_time": "2025-02-04T21:45:27.708Z"
   },
   {
    "duration": 2,
    "start_time": "2025-02-04T21:45:47.651Z"
   },
   {
    "duration": 143,
    "start_time": "2025-02-04T21:45:47.657Z"
   },
   {
    "duration": 24,
    "start_time": "2025-02-04T21:45:47.801Z"
   },
   {
    "duration": 21,
    "start_time": "2025-02-04T21:45:47.826Z"
   },
   {
    "duration": 10,
    "start_time": "2025-02-04T21:45:47.850Z"
   },
   {
    "duration": 13,
    "start_time": "2025-02-04T21:45:47.861Z"
   },
   {
    "duration": 9,
    "start_time": "2025-02-04T21:45:47.875Z"
   },
   {
    "duration": 4,
    "start_time": "2025-02-04T21:45:47.885Z"
   },
   {
    "duration": 15,
    "start_time": "2025-02-04T21:45:47.918Z"
   },
   {
    "duration": 11,
    "start_time": "2025-02-04T21:45:47.935Z"
   },
   {
    "duration": 3,
    "start_time": "2025-02-04T21:45:47.948Z"
   },
   {
    "duration": 21,
    "start_time": "2025-02-04T21:45:47.953Z"
   },
   {
    "duration": 57,
    "start_time": "2025-02-04T21:45:47.975Z"
   },
   {
    "duration": 34,
    "start_time": "2025-02-04T21:45:48.035Z"
   },
   {
    "duration": 27,
    "start_time": "2025-02-04T21:49:17.210Z"
   },
   {
    "duration": 3,
    "start_time": "2025-02-04T21:51:15.151Z"
   },
   {
    "duration": 123,
    "start_time": "2025-02-04T21:51:15.156Z"
   },
   {
    "duration": 16,
    "start_time": "2025-02-04T21:51:15.281Z"
   },
   {
    "duration": 14,
    "start_time": "2025-02-04T21:51:15.298Z"
   },
   {
    "duration": 18,
    "start_time": "2025-02-04T21:51:15.329Z"
   },
   {
    "duration": 15,
    "start_time": "2025-02-04T21:51:15.348Z"
   },
   {
    "duration": 10,
    "start_time": "2025-02-04T21:51:15.365Z"
   },
   {
    "duration": 10,
    "start_time": "2025-02-04T21:51:15.376Z"
   },
   {
    "duration": 37,
    "start_time": "2025-02-04T21:51:15.387Z"
   },
   {
    "duration": 14,
    "start_time": "2025-02-04T21:51:15.427Z"
   },
   {
    "duration": 4,
    "start_time": "2025-02-04T21:51:15.444Z"
   },
   {
    "duration": 21,
    "start_time": "2025-02-04T21:51:15.450Z"
   },
   {
    "duration": 16,
    "start_time": "2025-02-04T21:51:15.473Z"
   },
   {
    "duration": 77,
    "start_time": "2025-02-04T21:51:15.491Z"
   },
   {
    "duration": 37,
    "start_time": "2025-02-04T21:52:26.592Z"
   },
   {
    "duration": 10,
    "start_time": "2025-02-04T22:06:10.956Z"
   },
   {
    "duration": 4,
    "start_time": "2025-02-04T22:06:12.631Z"
   },
   {
    "duration": 27,
    "start_time": "2025-02-04T22:06:14.620Z"
   },
   {
    "duration": 2,
    "start_time": "2025-02-04T22:06:29.849Z"
   },
   {
    "duration": 140,
    "start_time": "2025-02-04T22:06:29.855Z"
   },
   {
    "duration": 27,
    "start_time": "2025-02-04T22:06:29.997Z"
   },
   {
    "duration": 22,
    "start_time": "2025-02-04T22:06:30.027Z"
   },
   {
    "duration": 27,
    "start_time": "2025-02-04T22:06:30.051Z"
   },
   {
    "duration": 27,
    "start_time": "2025-02-04T22:06:30.080Z"
   },
   {
    "duration": 33,
    "start_time": "2025-02-04T22:06:30.108Z"
   },
   {
    "duration": 28,
    "start_time": "2025-02-04T22:06:30.142Z"
   },
   {
    "duration": 21,
    "start_time": "2025-02-04T22:06:30.172Z"
   },
   {
    "duration": 14,
    "start_time": "2025-02-04T22:06:30.195Z"
   },
   {
    "duration": 16,
    "start_time": "2025-02-04T22:06:30.212Z"
   },
   {
    "duration": 44,
    "start_time": "2025-02-04T22:06:30.230Z"
   },
   {
    "duration": 18,
    "start_time": "2025-02-04T22:06:30.276Z"
   },
   {
    "duration": 68,
    "start_time": "2025-02-04T22:06:30.295Z"
   },
   {
    "duration": 23,
    "start_time": "2025-02-04T22:07:59.284Z"
   },
   {
    "duration": 2,
    "start_time": "2025-02-04T22:12:27.407Z"
   },
   {
    "duration": 146,
    "start_time": "2025-02-04T22:12:27.413Z"
   },
   {
    "duration": 14,
    "start_time": "2025-02-04T22:12:27.561Z"
   },
   {
    "duration": 13,
    "start_time": "2025-02-04T22:12:27.576Z"
   },
   {
    "duration": 10,
    "start_time": "2025-02-04T22:12:27.591Z"
   },
   {
    "duration": 28,
    "start_time": "2025-02-04T22:12:27.603Z"
   },
   {
    "duration": 16,
    "start_time": "2025-02-04T22:12:27.634Z"
   },
   {
    "duration": 7,
    "start_time": "2025-02-04T22:12:27.651Z"
   },
   {
    "duration": 7,
    "start_time": "2025-02-04T22:12:27.660Z"
   },
   {
    "duration": 4,
    "start_time": "2025-02-04T22:12:27.668Z"
   },
   {
    "duration": 4,
    "start_time": "2025-02-04T22:12:27.674Z"
   },
   {
    "duration": 28,
    "start_time": "2025-02-04T22:12:27.726Z"
   },
   {
    "duration": 14,
    "start_time": "2025-02-04T22:12:27.755Z"
   },
   {
    "duration": 56,
    "start_time": "2025-02-04T22:12:27.771Z"
   },
   {
    "duration": 5,
    "start_time": "2025-02-04T22:16:53.358Z"
   },
   {
    "duration": 5,
    "start_time": "2025-02-04T22:16:54.724Z"
   },
   {
    "duration": 16,
    "start_time": "2025-02-04T22:16:55.574Z"
   },
   {
    "duration": 3,
    "start_time": "2025-02-04T22:17:15.438Z"
   },
   {
    "duration": 3,
    "start_time": "2025-02-04T22:17:19.902Z"
   },
   {
    "duration": 130,
    "start_time": "2025-02-04T22:17:19.906Z"
   },
   {
    "duration": 16,
    "start_time": "2025-02-04T22:17:20.038Z"
   },
   {
    "duration": 13,
    "start_time": "2025-02-04T22:17:20.055Z"
   },
   {
    "duration": 17,
    "start_time": "2025-02-04T22:17:20.070Z"
   },
   {
    "duration": 29,
    "start_time": "2025-02-04T22:17:20.089Z"
   },
   {
    "duration": 14,
    "start_time": "2025-02-04T22:17:20.120Z"
   },
   {
    "duration": 5,
    "start_time": "2025-02-04T22:17:20.137Z"
   },
   {
    "duration": 21,
    "start_time": "2025-02-04T22:17:20.143Z"
   },
   {
    "duration": 10,
    "start_time": "2025-02-04T22:17:20.166Z"
   },
   {
    "duration": 3,
    "start_time": "2025-02-04T22:17:20.180Z"
   },
   {
    "duration": 74,
    "start_time": "2025-02-04T22:17:20.186Z"
   },
   {
    "duration": 59,
    "start_time": "2025-02-04T22:17:20.262Z"
   },
   {
    "duration": 4,
    "start_time": "2025-02-04T22:18:50.460Z"
   },
   {
    "duration": 3,
    "start_time": "2025-02-04T22:19:08.462Z"
   },
   {
    "duration": 106,
    "start_time": "2025-02-04T22:19:08.466Z"
   },
   {
    "duration": 15,
    "start_time": "2025-02-04T22:19:08.574Z"
   },
   {
    "duration": 13,
    "start_time": "2025-02-04T22:19:08.591Z"
   },
   {
    "duration": 20,
    "start_time": "2025-02-04T22:19:08.606Z"
   },
   {
    "duration": 12,
    "start_time": "2025-02-04T22:19:08.628Z"
   },
   {
    "duration": 10,
    "start_time": "2025-02-04T22:19:08.642Z"
   },
   {
    "duration": 4,
    "start_time": "2025-02-04T22:19:08.654Z"
   },
   {
    "duration": 7,
    "start_time": "2025-02-04T22:19:08.659Z"
   },
   {
    "duration": 6,
    "start_time": "2025-02-04T22:19:08.667Z"
   },
   {
    "duration": 3,
    "start_time": "2025-02-04T22:19:08.675Z"
   },
   {
    "duration": 36,
    "start_time": "2025-02-04T22:19:08.714Z"
   },
   {
    "duration": 75,
    "start_time": "2025-02-04T22:19:08.752Z"
   },
   {
    "duration": 3,
    "start_time": "2025-02-04T22:20:36.300Z"
   },
   {
    "duration": 119,
    "start_time": "2025-02-04T22:20:36.305Z"
   },
   {
    "duration": 19,
    "start_time": "2025-02-04T22:20:36.426Z"
   },
   {
    "duration": 13,
    "start_time": "2025-02-04T22:20:36.447Z"
   },
   {
    "duration": 11,
    "start_time": "2025-02-04T22:20:36.462Z"
   },
   {
    "duration": 21,
    "start_time": "2025-02-04T22:20:36.475Z"
   },
   {
    "duration": 35,
    "start_time": "2025-02-04T22:20:36.499Z"
   },
   {
    "duration": 19,
    "start_time": "2025-02-04T22:20:36.537Z"
   },
   {
    "duration": 8,
    "start_time": "2025-02-04T22:20:36.557Z"
   },
   {
    "duration": 5,
    "start_time": "2025-02-04T22:20:36.568Z"
   },
   {
    "duration": 59,
    "start_time": "2025-02-04T22:20:36.575Z"
   },
   {
    "duration": 3,
    "start_time": "2025-02-04T22:20:36.641Z"
   },
   {
    "duration": 44,
    "start_time": "2025-02-04T22:20:36.646Z"
   },
   {
    "duration": 28,
    "start_time": "2025-02-04T22:28:16.782Z"
   },
   {
    "duration": 42,
    "start_time": "2025-02-04T22:29:17.830Z"
   },
   {
    "duration": 2,
    "start_time": "2025-02-04T22:33:05.760Z"
   },
   {
    "duration": 126,
    "start_time": "2025-02-04T22:33:05.765Z"
   },
   {
    "duration": 15,
    "start_time": "2025-02-04T22:33:05.893Z"
   },
   {
    "duration": 31,
    "start_time": "2025-02-04T22:33:05.910Z"
   },
   {
    "duration": 11,
    "start_time": "2025-02-04T22:33:05.944Z"
   },
   {
    "duration": 13,
    "start_time": "2025-02-04T22:33:05.956Z"
   },
   {
    "duration": 15,
    "start_time": "2025-02-04T22:33:05.970Z"
   },
   {
    "duration": 24,
    "start_time": "2025-02-04T22:33:05.987Z"
   },
   {
    "duration": 22,
    "start_time": "2025-02-04T22:33:06.013Z"
   },
   {
    "duration": 7,
    "start_time": "2025-02-04T22:33:06.036Z"
   },
   {
    "duration": 38,
    "start_time": "2025-02-04T22:33:06.046Z"
   },
   {
    "duration": 495,
    "start_time": "2025-02-04T22:33:06.086Z"
   },
   {
    "duration": 0,
    "start_time": "2025-02-04T22:33:06.583Z"
   },
   {
    "duration": 3,
    "start_time": "2025-02-04T22:33:22.064Z"
   },
   {
    "duration": 134,
    "start_time": "2025-02-04T22:33:22.069Z"
   },
   {
    "duration": 20,
    "start_time": "2025-02-04T22:33:22.205Z"
   },
   {
    "duration": 14,
    "start_time": "2025-02-04T22:33:22.232Z"
   },
   {
    "duration": 11,
    "start_time": "2025-02-04T22:33:22.248Z"
   },
   {
    "duration": 11,
    "start_time": "2025-02-04T22:33:22.261Z"
   },
   {
    "duration": 10,
    "start_time": "2025-02-04T22:33:22.274Z"
   },
   {
    "duration": 4,
    "start_time": "2025-02-04T22:33:22.286Z"
   },
   {
    "duration": 9,
    "start_time": "2025-02-04T22:33:22.321Z"
   },
   {
    "duration": 5,
    "start_time": "2025-02-04T22:33:22.332Z"
   },
   {
    "duration": 29,
    "start_time": "2025-02-04T22:33:22.339Z"
   },
   {
    "duration": 60,
    "start_time": "2025-02-04T22:33:22.369Z"
   },
   {
    "duration": 54,
    "start_time": "2025-02-04T22:33:22.434Z"
   },
   {
    "duration": 30,
    "start_time": "2025-02-04T22:34:21.611Z"
   },
   {
    "duration": 14,
    "start_time": "2025-02-04T22:34:38.331Z"
   },
   {
    "duration": 14,
    "start_time": "2025-02-04T22:40:17.783Z"
   },
   {
    "duration": 11,
    "start_time": "2025-02-04T22:40:20.681Z"
   },
   {
    "duration": 3,
    "start_time": "2025-02-04T22:41:36.290Z"
   },
   {
    "duration": 171,
    "start_time": "2025-02-04T22:41:36.294Z"
   },
   {
    "duration": 15,
    "start_time": "2025-02-04T22:41:36.466Z"
   },
   {
    "duration": 47,
    "start_time": "2025-02-04T22:41:36.482Z"
   },
   {
    "duration": 26,
    "start_time": "2025-02-04T22:41:36.532Z"
   },
   {
    "duration": 20,
    "start_time": "2025-02-04T22:41:36.559Z"
   },
   {
    "duration": 17,
    "start_time": "2025-02-04T22:41:36.580Z"
   },
   {
    "duration": 8,
    "start_time": "2025-02-04T22:41:36.599Z"
   },
   {
    "duration": 23,
    "start_time": "2025-02-04T22:41:36.609Z"
   },
   {
    "duration": 8,
    "start_time": "2025-02-04T22:41:36.635Z"
   },
   {
    "duration": 30,
    "start_time": "2025-02-04T22:41:36.647Z"
   },
   {
    "duration": 42,
    "start_time": "2025-02-04T22:41:36.678Z"
   },
   {
    "duration": 51,
    "start_time": "2025-02-04T22:41:36.722Z"
   },
   {
    "duration": 11,
    "start_time": "2025-02-04T22:41:36.774Z"
   },
   {
    "duration": 16,
    "start_time": "2025-02-04T22:48:09.344Z"
   },
   {
    "duration": 16,
    "start_time": "2025-02-04T22:49:47.176Z"
   },
   {
    "duration": 13,
    "start_time": "2025-02-04T22:52:27.255Z"
   },
   {
    "duration": 8,
    "start_time": "2025-02-04T22:52:36.155Z"
   },
   {
    "duration": 14,
    "start_time": "2025-02-04T22:52:55.051Z"
   },
   {
    "duration": 3,
    "start_time": "2025-02-04T22:53:00.858Z"
   },
   {
    "duration": 128,
    "start_time": "2025-02-04T22:53:00.866Z"
   },
   {
    "duration": 14,
    "start_time": "2025-02-04T22:53:00.996Z"
   },
   {
    "duration": 25,
    "start_time": "2025-02-04T22:53:01.012Z"
   },
   {
    "duration": 11,
    "start_time": "2025-02-04T22:53:01.040Z"
   },
   {
    "duration": 12,
    "start_time": "2025-02-04T22:53:01.053Z"
   },
   {
    "duration": 9,
    "start_time": "2025-02-04T22:53:01.066Z"
   },
   {
    "duration": 6,
    "start_time": "2025-02-04T22:53:01.077Z"
   },
   {
    "duration": 42,
    "start_time": "2025-02-04T22:53:01.085Z"
   },
   {
    "duration": 10,
    "start_time": "2025-02-04T22:53:01.128Z"
   },
   {
    "duration": 34,
    "start_time": "2025-02-04T22:53:01.140Z"
   },
   {
    "duration": 54,
    "start_time": "2025-02-04T22:53:01.176Z"
   },
   {
    "duration": 56,
    "start_time": "2025-02-04T22:53:01.232Z"
   },
   {
    "duration": 12,
    "start_time": "2025-02-04T22:53:01.290Z"
   },
   {
    "duration": 3,
    "start_time": "2025-02-04T22:54:06.354Z"
   },
   {
    "duration": 169,
    "start_time": "2025-02-04T22:54:06.359Z"
   },
   {
    "duration": 26,
    "start_time": "2025-02-04T22:54:06.534Z"
   },
   {
    "duration": 16,
    "start_time": "2025-02-04T22:54:06.567Z"
   },
   {
    "duration": 12,
    "start_time": "2025-02-04T22:54:06.586Z"
   },
   {
    "duration": 37,
    "start_time": "2025-02-04T22:54:06.600Z"
   },
   {
    "duration": 12,
    "start_time": "2025-02-04T22:54:06.638Z"
   },
   {
    "duration": 4,
    "start_time": "2025-02-04T22:54:06.652Z"
   },
   {
    "duration": 9,
    "start_time": "2025-02-04T22:54:06.658Z"
   },
   {
    "duration": 5,
    "start_time": "2025-02-04T22:54:06.669Z"
   },
   {
    "duration": 49,
    "start_time": "2025-02-04T22:54:06.676Z"
   },
   {
    "duration": 33,
    "start_time": "2025-02-04T22:54:06.730Z"
   },
   {
    "duration": 58,
    "start_time": "2025-02-04T22:54:06.765Z"
   },
   {
    "duration": 15,
    "start_time": "2025-02-04T22:54:06.829Z"
   },
   {
    "duration": 3,
    "start_time": "2025-02-04T22:55:17.565Z"
   },
   {
    "duration": 115,
    "start_time": "2025-02-04T22:55:17.572Z"
   },
   {
    "duration": 20,
    "start_time": "2025-02-04T22:55:17.689Z"
   },
   {
    "duration": 35,
    "start_time": "2025-02-04T22:55:17.710Z"
   },
   {
    "duration": 10,
    "start_time": "2025-02-04T22:55:17.747Z"
   },
   {
    "duration": 11,
    "start_time": "2025-02-04T22:55:17.759Z"
   },
   {
    "duration": 12,
    "start_time": "2025-02-04T22:55:17.771Z"
   },
   {
    "duration": 5,
    "start_time": "2025-02-04T22:55:17.784Z"
   },
   {
    "duration": 11,
    "start_time": "2025-02-04T22:55:17.827Z"
   },
   {
    "duration": 7,
    "start_time": "2025-02-04T22:55:17.840Z"
   },
   {
    "duration": 10,
    "start_time": "2025-02-04T22:55:17.849Z"
   },
   {
    "duration": 23,
    "start_time": "2025-02-04T22:55:17.861Z"
   },
   {
    "duration": 77,
    "start_time": "2025-02-04T22:55:17.886Z"
   },
   {
    "duration": 12,
    "start_time": "2025-02-04T22:55:17.965Z"
   },
   {
    "duration": 15,
    "start_time": "2025-02-04T23:07:40.038Z"
   },
   {
    "duration": 23,
    "start_time": "2025-02-04T23:07:42.818Z"
   },
   {
    "duration": 15,
    "start_time": "2025-02-04T23:11:33.914Z"
   },
   {
    "duration": 1363,
    "start_time": "2025-02-04T23:13:59.543Z"
   },
   {
    "duration": 13,
    "start_time": "2025-02-04T23:14:27.955Z"
   },
   {
    "duration": 1403,
    "start_time": "2025-02-04T23:15:20.777Z"
   },
   {
    "duration": 15,
    "start_time": "2025-02-04T23:15:30.504Z"
   },
   {
    "duration": 9,
    "start_time": "2025-02-04T23:16:43.287Z"
   },
   {
    "duration": 11,
    "start_time": "2025-02-04T23:17:01.065Z"
   },
   {
    "duration": 5,
    "start_time": "2025-02-04T23:19:52.961Z"
   },
   {
    "duration": 6,
    "start_time": "2025-02-04T23:20:09.910Z"
   },
   {
    "duration": 153,
    "start_time": "2025-02-04T23:20:09.919Z"
   },
   {
    "duration": 14,
    "start_time": "2025-02-04T23:20:10.074Z"
   },
   {
    "duration": 17,
    "start_time": "2025-02-04T23:20:10.090Z"
   },
   {
    "duration": 21,
    "start_time": "2025-02-04T23:20:10.109Z"
   },
   {
    "duration": 12,
    "start_time": "2025-02-04T23:20:10.132Z"
   },
   {
    "duration": 10,
    "start_time": "2025-02-04T23:20:10.145Z"
   },
   {
    "duration": 5,
    "start_time": "2025-02-04T23:20:10.157Z"
   },
   {
    "duration": 7,
    "start_time": "2025-02-04T23:20:10.165Z"
   },
   {
    "duration": 5,
    "start_time": "2025-02-04T23:20:10.173Z"
   },
   {
    "duration": 16,
    "start_time": "2025-02-04T23:20:10.220Z"
   },
   {
    "duration": 33,
    "start_time": "2025-02-04T23:20:10.238Z"
   },
   {
    "duration": 57,
    "start_time": "2025-02-04T23:20:10.273Z"
   },
   {
    "duration": 6,
    "start_time": "2025-02-04T23:20:10.331Z"
   },
   {
    "duration": 10,
    "start_time": "2025-02-04T23:20:10.339Z"
   },
   {
    "duration": 12,
    "start_time": "2025-02-04T23:20:10.350Z"
   },
   {
    "duration": 18,
    "start_time": "2025-02-04T23:20:10.363Z"
   },
   {
    "duration": 9,
    "start_time": "2025-02-04T23:20:30.374Z"
   },
   {
    "duration": 20,
    "start_time": "2025-02-04T23:20:56.130Z"
   },
   {
    "duration": 25,
    "start_time": "2025-02-04T23:21:57.741Z"
   },
   {
    "duration": 3,
    "start_time": "2025-02-04T23:22:35.150Z"
   },
   {
    "duration": 119,
    "start_time": "2025-02-04T23:22:35.155Z"
   },
   {
    "duration": 15,
    "start_time": "2025-02-04T23:22:35.277Z"
   },
   {
    "duration": 16,
    "start_time": "2025-02-04T23:22:35.294Z"
   },
   {
    "duration": 19,
    "start_time": "2025-02-04T23:22:35.313Z"
   },
   {
    "duration": 13,
    "start_time": "2025-02-04T23:22:35.333Z"
   },
   {
    "duration": 10,
    "start_time": "2025-02-04T23:22:35.347Z"
   },
   {
    "duration": 5,
    "start_time": "2025-02-04T23:22:35.358Z"
   },
   {
    "duration": 22,
    "start_time": "2025-02-04T23:22:35.364Z"
   },
   {
    "duration": 5,
    "start_time": "2025-02-04T23:22:35.388Z"
   },
   {
    "duration": 11,
    "start_time": "2025-02-04T23:22:35.423Z"
   },
   {
    "duration": 21,
    "start_time": "2025-02-04T23:22:35.436Z"
   },
   {
    "duration": 46,
    "start_time": "2025-02-04T23:22:35.458Z"
   },
   {
    "duration": 7,
    "start_time": "2025-02-04T23:22:35.526Z"
   },
   {
    "duration": 8,
    "start_time": "2025-02-04T23:22:35.534Z"
   },
   {
    "duration": 11,
    "start_time": "2025-02-04T23:22:35.544Z"
   },
   {
    "duration": 12,
    "start_time": "2025-02-04T23:22:35.557Z"
   },
   {
    "duration": 13,
    "start_time": "2025-02-04T23:23:10.490Z"
   },
   {
    "duration": 20,
    "start_time": "2025-02-04T23:24:30.518Z"
   },
   {
    "duration": 9,
    "start_time": "2025-02-04T23:24:45.335Z"
   },
   {
    "duration": 8,
    "start_time": "2025-02-04T23:24:47.979Z"
   },
   {
    "duration": 10,
    "start_time": "2025-02-04T23:25:05.890Z"
   },
   {
    "duration": 16,
    "start_time": "2025-02-04T23:36:43.213Z"
   },
   {
    "duration": 31,
    "start_time": "2025-02-04T23:36:47.739Z"
   },
   {
    "duration": 36,
    "start_time": "2025-02-04T23:36:55.394Z"
   },
   {
    "duration": 3,
    "start_time": "2025-02-04T23:37:09.388Z"
   },
   {
    "duration": 156,
    "start_time": "2025-02-04T23:37:09.393Z"
   },
   {
    "duration": 15,
    "start_time": "2025-02-04T23:37:09.551Z"
   },
   {
    "duration": 21,
    "start_time": "2025-02-04T23:37:09.567Z"
   },
   {
    "duration": 10,
    "start_time": "2025-02-04T23:37:09.590Z"
   },
   {
    "duration": 25,
    "start_time": "2025-02-04T23:37:09.620Z"
   },
   {
    "duration": 13,
    "start_time": "2025-02-04T23:37:09.647Z"
   },
   {
    "duration": 5,
    "start_time": "2025-02-04T23:37:09.661Z"
   },
   {
    "duration": 11,
    "start_time": "2025-02-04T23:37:09.667Z"
   },
   {
    "duration": 6,
    "start_time": "2025-02-04T23:37:09.680Z"
   },
   {
    "duration": 19,
    "start_time": "2025-02-04T23:37:09.721Z"
   },
   {
    "duration": 9,
    "start_time": "2025-02-04T23:37:09.742Z"
   },
   {
    "duration": 22,
    "start_time": "2025-02-04T23:37:09.753Z"
   },
   {
    "duration": 65,
    "start_time": "2025-02-04T23:37:09.776Z"
   },
   {
    "duration": 6,
    "start_time": "2025-02-04T23:37:09.843Z"
   },
   {
    "duration": 8,
    "start_time": "2025-02-04T23:37:09.850Z"
   },
   {
    "duration": 9,
    "start_time": "2025-02-04T23:37:09.859Z"
   },
   {
    "duration": 12,
    "start_time": "2025-02-04T23:37:09.870Z"
   },
   {
    "duration": 37,
    "start_time": "2025-02-04T23:38:16.890Z"
   },
   {
    "duration": 8,
    "start_time": "2025-02-04T23:38:25.813Z"
   },
   {
    "duration": 128,
    "start_time": "2025-02-04T23:38:25.823Z"
   },
   {
    "duration": 21,
    "start_time": "2025-02-04T23:38:25.952Z"
   },
   {
    "duration": 26,
    "start_time": "2025-02-04T23:38:25.976Z"
   },
   {
    "duration": 42,
    "start_time": "2025-02-04T23:38:26.004Z"
   },
   {
    "duration": 21,
    "start_time": "2025-02-04T23:38:26.048Z"
   },
   {
    "duration": 15,
    "start_time": "2025-02-04T23:38:26.075Z"
   },
   {
    "duration": 32,
    "start_time": "2025-02-04T23:38:26.092Z"
   },
   {
    "duration": 9,
    "start_time": "2025-02-04T23:38:26.128Z"
   },
   {
    "duration": 6,
    "start_time": "2025-02-04T23:38:26.139Z"
   },
   {
    "duration": 23,
    "start_time": "2025-02-04T23:38:26.148Z"
   },
   {
    "duration": 5,
    "start_time": "2025-02-04T23:38:26.173Z"
   },
   {
    "duration": 58,
    "start_time": "2025-02-04T23:38:26.180Z"
   },
   {
    "duration": 49,
    "start_time": "2025-02-04T23:38:26.241Z"
   },
   {
    "duration": 25,
    "start_time": "2025-02-04T23:38:26.292Z"
   },
   {
    "duration": 11,
    "start_time": "2025-02-04T23:38:26.330Z"
   },
   {
    "duration": 9,
    "start_time": "2025-02-04T23:38:26.342Z"
   },
   {
    "duration": 12,
    "start_time": "2025-02-04T23:38:26.352Z"
   },
   {
    "duration": 3,
    "start_time": "2025-02-04T23:39:05.297Z"
   },
   {
    "duration": 129,
    "start_time": "2025-02-04T23:39:05.301Z"
   },
   {
    "duration": 16,
    "start_time": "2025-02-04T23:39:05.432Z"
   },
   {
    "duration": 15,
    "start_time": "2025-02-04T23:39:05.449Z"
   },
   {
    "duration": 11,
    "start_time": "2025-02-04T23:39:05.466Z"
   },
   {
    "duration": 17,
    "start_time": "2025-02-04T23:39:05.478Z"
   },
   {
    "duration": 18,
    "start_time": "2025-02-04T23:39:05.517Z"
   },
   {
    "duration": 4,
    "start_time": "2025-02-04T23:39:05.537Z"
   },
   {
    "duration": 6,
    "start_time": "2025-02-04T23:39:05.543Z"
   },
   {
    "duration": 5,
    "start_time": "2025-02-04T23:39:05.551Z"
   },
   {
    "duration": 20,
    "start_time": "2025-02-04T23:39:05.558Z"
   },
   {
    "duration": 40,
    "start_time": "2025-02-04T23:39:05.579Z"
   },
   {
    "duration": 44,
    "start_time": "2025-02-04T23:39:05.622Z"
   },
   {
    "duration": 60,
    "start_time": "2025-02-04T23:39:05.667Z"
   },
   {
    "duration": 7,
    "start_time": "2025-02-04T23:39:05.729Z"
   },
   {
    "duration": 9,
    "start_time": "2025-02-04T23:39:05.738Z"
   },
   {
    "duration": 10,
    "start_time": "2025-02-04T23:39:05.749Z"
   },
   {
    "duration": 20,
    "start_time": "2025-02-04T23:39:05.760Z"
   },
   {
    "duration": 14,
    "start_time": "2025-02-04T23:41:43.110Z"
   },
   {
    "duration": 28,
    "start_time": "2025-02-04T23:41:56.048Z"
   },
   {
    "duration": 19,
    "start_time": "2025-02-04T23:42:22.776Z"
   },
   {
    "duration": 841,
    "start_time": "2025-02-05T05:43:29.455Z"
   },
   {
    "duration": 114,
    "start_time": "2025-02-05T05:43:30.299Z"
   },
   {
    "duration": 17,
    "start_time": "2025-02-05T05:43:30.415Z"
   },
   {
    "duration": 21,
    "start_time": "2025-02-05T05:43:30.433Z"
   },
   {
    "duration": 12,
    "start_time": "2025-02-05T05:43:30.456Z"
   },
   {
    "duration": 41,
    "start_time": "2025-02-05T05:43:30.470Z"
   },
   {
    "duration": 27,
    "start_time": "2025-02-05T05:43:30.513Z"
   },
   {
    "duration": 24,
    "start_time": "2025-02-05T05:43:30.542Z"
   },
   {
    "duration": 16,
    "start_time": "2025-02-05T05:43:30.568Z"
   },
   {
    "duration": 7,
    "start_time": "2025-02-05T05:43:30.586Z"
   },
   {
    "duration": 38,
    "start_time": "2025-02-05T05:43:30.594Z"
   },
   {
    "duration": 31,
    "start_time": "2025-02-05T05:43:30.634Z"
   },
   {
    "duration": 34,
    "start_time": "2025-02-05T05:43:30.667Z"
   },
   {
    "duration": 21,
    "start_time": "2025-02-05T05:43:30.705Z"
   },
   {
    "duration": 58,
    "start_time": "2025-02-05T05:43:30.728Z"
   },
   {
    "duration": 10,
    "start_time": "2025-02-05T05:43:30.788Z"
   },
   {
    "duration": 27,
    "start_time": "2025-02-05T05:43:30.800Z"
   },
   {
    "duration": 12,
    "start_time": "2025-02-05T05:43:30.829Z"
   },
   {
    "duration": 19,
    "start_time": "2025-02-05T05:43:30.843Z"
   },
   {
    "duration": 5,
    "start_time": "2025-02-05T05:47:43.328Z"
   },
   {
    "duration": 7,
    "start_time": "2025-02-05T05:48:05.739Z"
   },
   {
    "duration": 7,
    "start_time": "2025-02-05T05:50:08.049Z"
   },
   {
    "duration": 8,
    "start_time": "2025-02-05T05:51:20.537Z"
   },
   {
    "duration": 8,
    "start_time": "2025-02-05T05:54:52.042Z"
   },
   {
    "duration": 8,
    "start_time": "2025-02-05T05:54:58.830Z"
   },
   {
    "duration": 6,
    "start_time": "2025-02-05T05:55:24.378Z"
   },
   {
    "duration": 3,
    "start_time": "2025-02-05T05:55:31.386Z"
   },
   {
    "duration": 148,
    "start_time": "2025-02-05T05:55:31.394Z"
   },
   {
    "duration": 17,
    "start_time": "2025-02-05T05:55:31.544Z"
   },
   {
    "duration": 27,
    "start_time": "2025-02-05T05:55:31.563Z"
   },
   {
    "duration": 12,
    "start_time": "2025-02-05T05:55:31.593Z"
   },
   {
    "duration": 31,
    "start_time": "2025-02-05T05:55:31.607Z"
   },
   {
    "duration": 12,
    "start_time": "2025-02-05T05:55:31.640Z"
   },
   {
    "duration": 11,
    "start_time": "2025-02-05T05:55:31.654Z"
   },
   {
    "duration": 23,
    "start_time": "2025-02-05T05:55:31.667Z"
   },
   {
    "duration": 24,
    "start_time": "2025-02-05T05:55:31.692Z"
   },
   {
    "duration": 30,
    "start_time": "2025-02-05T05:55:31.719Z"
   },
   {
    "duration": 7,
    "start_time": "2025-02-05T05:55:31.751Z"
   },
   {
    "duration": 39,
    "start_time": "2025-02-05T05:55:31.759Z"
   },
   {
    "duration": 20,
    "start_time": "2025-02-05T05:55:31.800Z"
   },
   {
    "duration": 39,
    "start_time": "2025-02-05T05:55:31.821Z"
   },
   {
    "duration": 8,
    "start_time": "2025-02-05T05:55:31.861Z"
   },
   {
    "duration": 13,
    "start_time": "2025-02-05T05:55:31.871Z"
   },
   {
    "duration": 18,
    "start_time": "2025-02-05T05:55:31.886Z"
   },
   {
    "duration": 14,
    "start_time": "2025-02-05T05:55:31.905Z"
   },
   {
    "duration": 41,
    "start_time": "2025-02-05T05:55:31.921Z"
   },
   {
    "duration": 6,
    "start_time": "2025-02-05T06:05:41.060Z"
   },
   {
    "duration": 5,
    "start_time": "2025-02-05T06:05:48.743Z"
   },
   {
    "duration": 9,
    "start_time": "2025-02-05T06:06:32.700Z"
   },
   {
    "duration": 9,
    "start_time": "2025-02-05T06:06:43.943Z"
   },
   {
    "duration": 84,
    "start_time": "2025-02-05T06:06:53.580Z"
   },
   {
    "duration": 18,
    "start_time": "2025-02-05T06:07:05.061Z"
   },
   {
    "duration": 9,
    "start_time": "2025-02-05T06:07:11.555Z"
   },
   {
    "duration": 8,
    "start_time": "2025-02-05T06:09:28.408Z"
   },
   {
    "duration": 6,
    "start_time": "2025-02-05T06:11:59.967Z"
   },
   {
    "duration": 9,
    "start_time": "2025-02-05T06:17:22.943Z"
   },
   {
    "duration": 12,
    "start_time": "2025-02-05T06:21:20.981Z"
   },
   {
    "duration": 20,
    "start_time": "2025-02-05T06:26:46.616Z"
   },
   {
    "duration": 1341,
    "start_time": "2025-02-05T06:31:02.507Z"
   },
   {
    "duration": 1879,
    "start_time": "2025-02-05T06:35:02.531Z"
   },
   {
    "duration": 16,
    "start_time": "2025-02-05T06:35:40.315Z"
   },
   {
    "duration": 19,
    "start_time": "2025-02-05T06:35:53.629Z"
   },
   {
    "duration": 16,
    "start_time": "2025-02-05T06:39:43.902Z"
   },
   {
    "duration": 3,
    "start_time": "2025-02-05T06:42:14.745Z"
   },
   {
    "duration": 118,
    "start_time": "2025-02-05T06:42:14.750Z"
   },
   {
    "duration": 16,
    "start_time": "2025-02-05T06:42:14.870Z"
   },
   {
    "duration": 16,
    "start_time": "2025-02-05T06:42:14.887Z"
   },
   {
    "duration": 28,
    "start_time": "2025-02-05T06:42:14.905Z"
   },
   {
    "duration": 27,
    "start_time": "2025-02-05T06:42:14.935Z"
   },
   {
    "duration": 10,
    "start_time": "2025-02-05T06:42:14.964Z"
   },
   {
    "duration": 5,
    "start_time": "2025-02-05T06:42:14.976Z"
   },
   {
    "duration": 8,
    "start_time": "2025-02-05T06:42:14.982Z"
   },
   {
    "duration": 6,
    "start_time": "2025-02-05T06:42:14.991Z"
   },
   {
    "duration": 49,
    "start_time": "2025-02-05T06:42:14.999Z"
   },
   {
    "duration": 20,
    "start_time": "2025-02-05T06:42:15.049Z"
   },
   {
    "duration": 49,
    "start_time": "2025-02-05T06:42:15.071Z"
   },
   {
    "duration": 31,
    "start_time": "2025-02-05T06:42:15.122Z"
   },
   {
    "duration": 38,
    "start_time": "2025-02-05T06:42:15.154Z"
   },
   {
    "duration": 26,
    "start_time": "2025-02-05T06:42:15.194Z"
   },
   {
    "duration": 18,
    "start_time": "2025-02-05T06:42:15.222Z"
   },
   {
    "duration": 31,
    "start_time": "2025-02-05T06:42:15.242Z"
   },
   {
    "duration": 36,
    "start_time": "2025-02-05T06:42:15.275Z"
   },
   {
    "duration": 46,
    "start_time": "2025-02-05T06:42:15.313Z"
   },
   {
    "duration": 12,
    "start_time": "2025-02-05T06:42:15.361Z"
   },
   {
    "duration": 9,
    "start_time": "2025-02-05T06:42:15.374Z"
   },
   {
    "duration": 14,
    "start_time": "2025-02-05T06:42:44.929Z"
   },
   {
    "duration": 7,
    "start_time": "2025-02-05T06:44:34.060Z"
   },
   {
    "duration": 15,
    "start_time": "2025-02-05T06:47:43.105Z"
   },
   {
    "duration": 8,
    "start_time": "2025-02-05T06:49:13.064Z"
   },
   {
    "duration": 10,
    "start_time": "2025-02-05T06:49:29.553Z"
   },
   {
    "duration": 22,
    "start_time": "2025-02-05T06:54:08.977Z"
   },
   {
    "duration": 9,
    "start_time": "2025-02-05T06:54:11.067Z"
   },
   {
    "duration": 16,
    "start_time": "2025-02-05T06:55:37.534Z"
   },
   {
    "duration": 3,
    "start_time": "2025-02-05T06:55:41.394Z"
   },
   {
    "duration": 121,
    "start_time": "2025-02-05T06:55:41.399Z"
   },
   {
    "duration": 16,
    "start_time": "2025-02-05T06:55:41.521Z"
   },
   {
    "duration": 18,
    "start_time": "2025-02-05T06:55:41.538Z"
   },
   {
    "duration": 17,
    "start_time": "2025-02-05T06:55:41.558Z"
   },
   {
    "duration": 15,
    "start_time": "2025-02-05T06:55:41.577Z"
   },
   {
    "duration": 43,
    "start_time": "2025-02-05T06:55:41.596Z"
   },
   {
    "duration": 16,
    "start_time": "2025-02-05T06:55:41.640Z"
   },
   {
    "duration": 8,
    "start_time": "2025-02-05T06:55:41.657Z"
   },
   {
    "duration": 20,
    "start_time": "2025-02-05T06:55:41.666Z"
   },
   {
    "duration": 26,
    "start_time": "2025-02-05T06:55:41.688Z"
   },
   {
    "duration": 3,
    "start_time": "2025-02-05T06:55:41.715Z"
   },
   {
    "duration": 33,
    "start_time": "2025-02-05T06:55:41.720Z"
   },
   {
    "duration": 20,
    "start_time": "2025-02-05T06:55:41.754Z"
   },
   {
    "duration": 53,
    "start_time": "2025-02-05T06:55:41.775Z"
   },
   {
    "duration": 5,
    "start_time": "2025-02-05T06:55:41.830Z"
   },
   {
    "duration": 10,
    "start_time": "2025-02-05T06:55:41.837Z"
   },
   {
    "duration": 11,
    "start_time": "2025-02-05T06:55:41.848Z"
   },
   {
    "duration": 12,
    "start_time": "2025-02-05T06:55:41.860Z"
   },
   {
    "duration": 6,
    "start_time": "2025-02-05T06:55:41.874Z"
   },
   {
    "duration": 7,
    "start_time": "2025-02-05T06:55:41.882Z"
   },
   {
    "duration": 50,
    "start_time": "2025-02-05T06:55:41.890Z"
   },
   {
    "duration": 22,
    "start_time": "2025-02-05T06:55:41.942Z"
   },
   {
    "duration": 9,
    "start_time": "2025-02-05T06:55:41.966Z"
   },
   {
    "duration": 14,
    "start_time": "2025-02-05T06:55:41.977Z"
   },
   {
    "duration": 41,
    "start_time": "2025-02-05T06:55:41.992Z"
   },
   {
    "duration": 16,
    "start_time": "2025-02-05T06:56:24.504Z"
   },
   {
    "duration": 3,
    "start_time": "2025-02-05T06:56:33.586Z"
   },
   {
    "duration": 157,
    "start_time": "2025-02-05T06:56:33.591Z"
   },
   {
    "duration": 18,
    "start_time": "2025-02-05T06:56:33.750Z"
   },
   {
    "duration": 24,
    "start_time": "2025-02-05T06:56:33.771Z"
   },
   {
    "duration": 18,
    "start_time": "2025-02-05T06:56:33.798Z"
   },
   {
    "duration": 14,
    "start_time": "2025-02-05T06:56:33.832Z"
   },
   {
    "duration": 12,
    "start_time": "2025-02-05T06:56:33.848Z"
   },
   {
    "duration": 6,
    "start_time": "2025-02-05T06:56:33.863Z"
   },
   {
    "duration": 15,
    "start_time": "2025-02-05T06:56:33.871Z"
   },
   {
    "duration": 7,
    "start_time": "2025-02-05T06:56:33.888Z"
   },
   {
    "duration": 24,
    "start_time": "2025-02-05T06:56:33.935Z"
   },
   {
    "duration": 10,
    "start_time": "2025-02-05T06:56:33.961Z"
   },
   {
    "duration": 27,
    "start_time": "2025-02-05T06:56:33.973Z"
   },
   {
    "duration": 41,
    "start_time": "2025-02-05T06:56:34.002Z"
   },
   {
    "duration": 41,
    "start_time": "2025-02-05T06:56:34.045Z"
   },
   {
    "duration": 8,
    "start_time": "2025-02-05T06:56:34.088Z"
   },
   {
    "duration": 35,
    "start_time": "2025-02-05T06:56:34.097Z"
   },
   {
    "duration": 17,
    "start_time": "2025-02-05T06:56:34.134Z"
   },
   {
    "duration": 17,
    "start_time": "2025-02-05T06:56:34.153Z"
   },
   {
    "duration": 7,
    "start_time": "2025-02-05T06:56:34.173Z"
   },
   {
    "duration": 8,
    "start_time": "2025-02-05T06:56:34.182Z"
   },
   {
    "duration": 42,
    "start_time": "2025-02-05T06:56:34.192Z"
   },
   {
    "duration": 24,
    "start_time": "2025-02-05T06:56:34.236Z"
   },
   {
    "duration": 18,
    "start_time": "2025-02-05T06:56:34.261Z"
   },
   {
    "duration": 11,
    "start_time": "2025-02-05T06:56:34.281Z"
   },
   {
    "duration": 53,
    "start_time": "2025-02-05T06:56:34.294Z"
   },
   {
    "duration": 10,
    "start_time": "2025-02-05T06:56:34.349Z"
   },
   {
    "duration": 3,
    "start_time": "2025-02-05T06:56:52.397Z"
   },
   {
    "duration": 161,
    "start_time": "2025-02-05T06:56:52.402Z"
   },
   {
    "duration": 22,
    "start_time": "2025-02-05T06:56:52.565Z"
   },
   {
    "duration": 19,
    "start_time": "2025-02-05T06:56:52.589Z"
   },
   {
    "duration": 26,
    "start_time": "2025-02-05T06:56:52.611Z"
   },
   {
    "duration": 23,
    "start_time": "2025-02-05T06:56:52.639Z"
   },
   {
    "duration": 16,
    "start_time": "2025-02-05T06:56:52.663Z"
   },
   {
    "duration": 4,
    "start_time": "2025-02-05T06:56:52.681Z"
   },
   {
    "duration": 19,
    "start_time": "2025-02-05T06:56:52.686Z"
   },
   {
    "duration": 5,
    "start_time": "2025-02-05T06:56:52.707Z"
   },
   {
    "duration": 36,
    "start_time": "2025-02-05T06:56:52.715Z"
   },
   {
    "duration": 25,
    "start_time": "2025-02-05T06:56:52.753Z"
   },
   {
    "duration": 61,
    "start_time": "2025-02-05T06:56:52.780Z"
   },
   {
    "duration": 19,
    "start_time": "2025-02-05T06:56:52.843Z"
   },
   {
    "duration": 24,
    "start_time": "2025-02-05T06:56:52.864Z"
   },
   {
    "duration": 7,
    "start_time": "2025-02-05T06:56:52.889Z"
   },
   {
    "duration": 38,
    "start_time": "2025-02-05T06:56:52.898Z"
   },
   {
    "duration": 18,
    "start_time": "2025-02-05T06:56:52.938Z"
   },
   {
    "duration": 23,
    "start_time": "2025-02-05T06:56:52.958Z"
   },
   {
    "duration": 7,
    "start_time": "2025-02-05T06:56:52.983Z"
   },
   {
    "duration": 14,
    "start_time": "2025-02-05T06:56:52.992Z"
   },
   {
    "duration": 25,
    "start_time": "2025-02-05T06:56:53.008Z"
   },
   {
    "duration": 21,
    "start_time": "2025-02-05T06:56:53.035Z"
   },
   {
    "duration": 21,
    "start_time": "2025-02-05T06:56:53.058Z"
   },
   {
    "duration": 22,
    "start_time": "2025-02-05T06:56:53.081Z"
   },
   {
    "duration": 46,
    "start_time": "2025-02-05T06:56:53.105Z"
   },
   {
    "duration": 9,
    "start_time": "2025-02-05T06:56:53.152Z"
   },
   {
    "duration": 10,
    "start_time": "2025-02-05T06:58:00.210Z"
   },
   {
    "duration": 12,
    "start_time": "2025-02-05T06:58:53.560Z"
   },
   {
    "duration": 11,
    "start_time": "2025-02-05T07:01:42.211Z"
   },
   {
    "duration": 13,
    "start_time": "2025-02-05T07:02:09.319Z"
   },
   {
    "duration": 11,
    "start_time": "2025-02-05T07:02:27.110Z"
   },
   {
    "duration": 11,
    "start_time": "2025-02-05T07:02:39.039Z"
   },
   {
    "duration": 11,
    "start_time": "2025-02-05T07:03:56.716Z"
   },
   {
    "duration": 3,
    "start_time": "2025-02-05T07:04:14.605Z"
   },
   {
    "duration": 99,
    "start_time": "2025-02-05T07:04:14.609Z"
   },
   {
    "duration": 16,
    "start_time": "2025-02-05T07:04:14.710Z"
   },
   {
    "duration": 15,
    "start_time": "2025-02-05T07:04:14.727Z"
   },
   {
    "duration": 12,
    "start_time": "2025-02-05T07:04:14.745Z"
   },
   {
    "duration": 14,
    "start_time": "2025-02-05T07:04:14.758Z"
   },
   {
    "duration": 15,
    "start_time": "2025-02-05T07:04:14.774Z"
   },
   {
    "duration": 9,
    "start_time": "2025-02-05T07:04:14.791Z"
   },
   {
    "duration": 32,
    "start_time": "2025-02-05T07:04:14.802Z"
   },
   {
    "duration": 8,
    "start_time": "2025-02-05T07:04:14.836Z"
   },
   {
    "duration": 21,
    "start_time": "2025-02-05T07:04:14.847Z"
   },
   {
    "duration": 3,
    "start_time": "2025-02-05T07:04:14.870Z"
   },
   {
    "duration": 65,
    "start_time": "2025-02-05T07:04:14.875Z"
   },
   {
    "duration": 19,
    "start_time": "2025-02-05T07:04:14.942Z"
   },
   {
    "duration": 24,
    "start_time": "2025-02-05T07:04:14.962Z"
   },
   {
    "duration": 10,
    "start_time": "2025-02-05T07:04:14.988Z"
   },
   {
    "duration": 17,
    "start_time": "2025-02-05T07:04:14.999Z"
   },
   {
    "duration": 60,
    "start_time": "2025-02-05T07:04:15.017Z"
   },
   {
    "duration": 77,
    "start_time": "2025-02-05T07:04:15.079Z"
   },
   {
    "duration": 68,
    "start_time": "2025-02-05T07:04:15.158Z"
   },
   {
    "duration": 28,
    "start_time": "2025-02-05T07:04:15.227Z"
   },
   {
    "duration": 41,
    "start_time": "2025-02-05T07:04:15.257Z"
   },
   {
    "duration": 32,
    "start_time": "2025-02-05T07:04:15.300Z"
   },
   {
    "duration": 37,
    "start_time": "2025-02-05T07:04:15.334Z"
   },
   {
    "duration": 54,
    "start_time": "2025-02-05T07:04:15.372Z"
   },
   {
    "duration": 33,
    "start_time": "2025-02-05T07:04:15.428Z"
   },
   {
    "duration": 23,
    "start_time": "2025-02-05T07:04:15.463Z"
   },
   {
    "duration": 74,
    "start_time": "2025-02-05T07:04:15.488Z"
   },
   {
    "duration": 1,
    "start_time": "2025-02-05T07:04:15.563Z"
   },
   {
    "duration": 23,
    "start_time": "2025-02-05T07:04:51.617Z"
   },
   {
    "duration": 12,
    "start_time": "2025-02-05T07:04:54.262Z"
   },
   {
    "duration": 22,
    "start_time": "2025-02-05T07:04:56.525Z"
   },
   {
    "duration": 16,
    "start_time": "2025-02-05T07:04:58.023Z"
   },
   {
    "duration": 3,
    "start_time": "2025-02-05T07:05:06.928Z"
   },
   {
    "duration": 145,
    "start_time": "2025-02-05T07:05:06.932Z"
   },
   {
    "duration": 15,
    "start_time": "2025-02-05T07:05:07.079Z"
   },
   {
    "duration": 37,
    "start_time": "2025-02-05T07:05:07.095Z"
   },
   {
    "duration": 39,
    "start_time": "2025-02-05T07:05:07.134Z"
   },
   {
    "duration": 49,
    "start_time": "2025-02-05T07:05:07.174Z"
   },
   {
    "duration": 43,
    "start_time": "2025-02-05T07:05:07.225Z"
   },
   {
    "duration": 46,
    "start_time": "2025-02-05T07:05:07.269Z"
   },
   {
    "duration": 39,
    "start_time": "2025-02-05T07:05:07.317Z"
   },
   {
    "duration": 32,
    "start_time": "2025-02-05T07:05:07.357Z"
   },
   {
    "duration": 36,
    "start_time": "2025-02-05T07:05:07.391Z"
   },
   {
    "duration": 42,
    "start_time": "2025-02-05T07:05:07.429Z"
   },
   {
    "duration": 69,
    "start_time": "2025-02-05T07:05:07.473Z"
   },
   {
    "duration": 37,
    "start_time": "2025-02-05T07:05:07.545Z"
   },
   {
    "duration": 54,
    "start_time": "2025-02-05T07:05:07.583Z"
   },
   {
    "duration": 11,
    "start_time": "2025-02-05T07:05:07.640Z"
   },
   {
    "duration": 21,
    "start_time": "2025-02-05T07:05:07.653Z"
   },
   {
    "duration": 21,
    "start_time": "2025-02-05T07:05:07.676Z"
   },
   {
    "duration": 12,
    "start_time": "2025-02-05T07:05:07.699Z"
   },
   {
    "duration": 9,
    "start_time": "2025-02-05T07:05:07.734Z"
   },
   {
    "duration": 16,
    "start_time": "2025-02-05T07:05:07.744Z"
   },
   {
    "duration": 34,
    "start_time": "2025-02-05T07:05:07.762Z"
   },
   {
    "duration": 16,
    "start_time": "2025-02-05T07:05:07.798Z"
   },
   {
    "duration": 112,
    "start_time": "2025-02-05T07:05:07.816Z"
   },
   {
    "duration": 16,
    "start_time": "2025-02-05T07:05:07.929Z"
   },
   {
    "duration": 32,
    "start_time": "2025-02-05T07:05:07.947Z"
   },
   {
    "duration": 14,
    "start_time": "2025-02-05T07:05:07.981Z"
   },
   {
    "duration": 81,
    "start_time": "2025-02-05T07:05:07.996Z"
   },
   {
    "duration": 0,
    "start_time": "2025-02-05T07:05:08.079Z"
   },
   {
    "duration": 52,
    "start_time": "2025-02-05T07:17:37.257Z"
   },
   {
    "duration": 59,
    "start_time": "2025-02-05T07:21:41.485Z"
   },
   {
    "duration": 57,
    "start_time": "2025-02-05T07:21:54.323Z"
   },
   {
    "duration": 58,
    "start_time": "2025-02-05T07:22:22.289Z"
   },
   {
    "duration": 57,
    "start_time": "2025-02-05T07:22:29.499Z"
   },
   {
    "duration": 61,
    "start_time": "2025-02-05T07:22:47.901Z"
   },
   {
    "duration": 57,
    "start_time": "2025-02-05T07:22:55.110Z"
   },
   {
    "duration": 67,
    "start_time": "2025-02-05T07:23:08.152Z"
   },
   {
    "duration": 60,
    "start_time": "2025-02-05T07:27:28.337Z"
   },
   {
    "duration": 3,
    "start_time": "2025-02-05T07:33:00.769Z"
   },
   {
    "duration": 141,
    "start_time": "2025-02-05T07:33:00.776Z"
   },
   {
    "duration": 14,
    "start_time": "2025-02-05T07:33:00.919Z"
   },
   {
    "duration": 30,
    "start_time": "2025-02-05T07:33:00.935Z"
   },
   {
    "duration": 12,
    "start_time": "2025-02-05T07:33:00.968Z"
   },
   {
    "duration": 12,
    "start_time": "2025-02-05T07:33:00.982Z"
   },
   {
    "duration": 14,
    "start_time": "2025-02-05T07:33:00.996Z"
   },
   {
    "duration": 11,
    "start_time": "2025-02-05T07:33:01.012Z"
   },
   {
    "duration": 22,
    "start_time": "2025-02-05T07:33:01.032Z"
   },
   {
    "duration": 11,
    "start_time": "2025-02-05T07:33:01.055Z"
   },
   {
    "duration": 21,
    "start_time": "2025-02-05T07:33:01.069Z"
   },
   {
    "duration": 2,
    "start_time": "2025-02-05T07:33:01.091Z"
   },
   {
    "duration": 33,
    "start_time": "2025-02-05T07:33:01.095Z"
   },
   {
    "duration": 30,
    "start_time": "2025-02-05T07:33:01.129Z"
   },
   {
    "duration": 42,
    "start_time": "2025-02-05T07:33:01.160Z"
   },
   {
    "duration": 7,
    "start_time": "2025-02-05T07:33:01.204Z"
   },
   {
    "duration": 25,
    "start_time": "2025-02-05T07:33:01.213Z"
   },
   {
    "duration": 12,
    "start_time": "2025-02-05T07:33:01.239Z"
   },
   {
    "duration": 19,
    "start_time": "2025-02-05T07:33:01.252Z"
   },
   {
    "duration": 20,
    "start_time": "2025-02-05T07:33:01.273Z"
   },
   {
    "duration": 19,
    "start_time": "2025-02-05T07:33:01.295Z"
   },
   {
    "duration": 45,
    "start_time": "2025-02-05T07:33:01.316Z"
   },
   {
    "duration": 46,
    "start_time": "2025-02-05T07:33:01.363Z"
   },
   {
    "duration": 45,
    "start_time": "2025-02-05T07:33:01.411Z"
   },
   {
    "duration": 17,
    "start_time": "2025-02-05T07:33:01.458Z"
   },
   {
    "duration": 15,
    "start_time": "2025-02-05T07:33:01.477Z"
   },
   {
    "duration": 21,
    "start_time": "2025-02-05T07:33:01.494Z"
   },
   {
    "duration": 87,
    "start_time": "2025-02-05T07:33:01.517Z"
   },
   {
    "duration": 8,
    "start_time": "2025-02-05T07:33:01.607Z"
   },
   {
    "duration": 7,
    "start_time": "2025-02-05T07:37:31.238Z"
   },
   {
    "duration": 25,
    "start_time": "2025-02-05T07:37:40.424Z"
   },
   {
    "duration": 25,
    "start_time": "2025-02-05T07:39:17.368Z"
   },
   {
    "duration": 9,
    "start_time": "2025-02-05T07:41:42.911Z"
   },
   {
    "duration": 9,
    "start_time": "2025-02-05T07:41:55.091Z"
   },
   {
    "duration": 8,
    "start_time": "2025-02-05T07:49:26.608Z"
   },
   {
    "duration": 10,
    "start_time": "2025-02-05T07:57:19.600Z"
   },
   {
    "duration": 16,
    "start_time": "2025-02-05T07:58:15.760Z"
   },
   {
    "duration": 13,
    "start_time": "2025-02-05T08:03:46.396Z"
   },
   {
    "duration": 18,
    "start_time": "2025-02-05T08:04:00.338Z"
   },
   {
    "duration": 11,
    "start_time": "2025-02-05T08:04:08.383Z"
   },
   {
    "duration": 11,
    "start_time": "2025-02-05T08:04:32.123Z"
   },
   {
    "duration": 13,
    "start_time": "2025-02-05T08:04:50.319Z"
   },
   {
    "duration": 13,
    "start_time": "2025-02-05T08:05:24.562Z"
   },
   {
    "duration": 3,
    "start_time": "2025-02-05T08:06:43.541Z"
   },
   {
    "duration": 123,
    "start_time": "2025-02-05T08:06:43.546Z"
   },
   {
    "duration": 18,
    "start_time": "2025-02-05T08:06:43.671Z"
   },
   {
    "duration": 16,
    "start_time": "2025-02-05T08:06:43.690Z"
   },
   {
    "duration": 29,
    "start_time": "2025-02-05T08:06:43.709Z"
   },
   {
    "duration": 12,
    "start_time": "2025-02-05T08:06:43.740Z"
   },
   {
    "duration": 11,
    "start_time": "2025-02-05T08:06:43.754Z"
   },
   {
    "duration": 5,
    "start_time": "2025-02-05T08:06:43.766Z"
   },
   {
    "duration": 9,
    "start_time": "2025-02-05T08:06:43.773Z"
   },
   {
    "duration": 67,
    "start_time": "2025-02-05T08:06:43.784Z"
   },
   {
    "duration": 20,
    "start_time": "2025-02-05T08:06:43.854Z"
   },
   {
    "duration": 16,
    "start_time": "2025-02-05T08:06:43.876Z"
   },
   {
    "duration": 28,
    "start_time": "2025-02-05T08:06:43.893Z"
   },
   {
    "duration": 22,
    "start_time": "2025-02-05T08:06:43.922Z"
   },
   {
    "duration": 24,
    "start_time": "2025-02-05T08:06:43.945Z"
   },
   {
    "duration": 6,
    "start_time": "2025-02-05T08:06:43.970Z"
   },
   {
    "duration": 9,
    "start_time": "2025-02-05T08:06:43.978Z"
   },
   {
    "duration": 10,
    "start_time": "2025-02-05T08:06:43.988Z"
   },
   {
    "duration": 44,
    "start_time": "2025-02-05T08:06:44.000Z"
   },
   {
    "duration": 5,
    "start_time": "2025-02-05T08:06:44.046Z"
   },
   {
    "duration": 14,
    "start_time": "2025-02-05T08:06:44.053Z"
   },
   {
    "duration": 21,
    "start_time": "2025-02-05T08:06:44.069Z"
   },
   {
    "duration": 11,
    "start_time": "2025-02-05T08:06:44.092Z"
   },
   {
    "duration": 42,
    "start_time": "2025-02-05T08:06:44.105Z"
   },
   {
    "duration": 35,
    "start_time": "2025-02-05T08:06:44.149Z"
   },
   {
    "duration": 30,
    "start_time": "2025-02-05T08:06:44.185Z"
   },
   {
    "duration": 14,
    "start_time": "2025-02-05T08:06:44.217Z"
   },
   {
    "duration": 62,
    "start_time": "2025-02-05T08:06:44.233Z"
   },
   {
    "duration": 36,
    "start_time": "2025-02-05T08:06:44.298Z"
   },
   {
    "duration": 10,
    "start_time": "2025-02-05T08:06:44.335Z"
   },
   {
    "duration": 9,
    "start_time": "2025-02-05T08:06:44.346Z"
   },
   {
    "duration": 13,
    "start_time": "2025-02-05T08:06:44.357Z"
   },
   {
    "duration": 9,
    "start_time": "2025-02-05T08:08:33.640Z"
   },
   {
    "duration": 11,
    "start_time": "2025-02-05T08:10:10.485Z"
   },
   {
    "duration": 10,
    "start_time": "2025-02-05T08:10:21.357Z"
   },
   {
    "duration": 16,
    "start_time": "2025-02-05T08:11:28.792Z"
   },
   {
    "duration": 11,
    "start_time": "2025-02-05T08:11:42.092Z"
   },
   {
    "duration": 9,
    "start_time": "2025-02-05T08:13:49.683Z"
   },
   {
    "duration": 11,
    "start_time": "2025-02-05T08:13:56.350Z"
   },
   {
    "duration": 3,
    "start_time": "2025-02-05T08:25:22.746Z"
   },
   {
    "duration": 149,
    "start_time": "2025-02-05T08:25:22.751Z"
   },
   {
    "duration": 17,
    "start_time": "2025-02-05T08:25:22.902Z"
   },
   {
    "duration": 17,
    "start_time": "2025-02-05T08:25:22.920Z"
   },
   {
    "duration": 11,
    "start_time": "2025-02-05T08:25:22.940Z"
   },
   {
    "duration": 13,
    "start_time": "2025-02-05T08:25:22.952Z"
   },
   {
    "duration": 17,
    "start_time": "2025-02-05T08:25:22.966Z"
   },
   {
    "duration": 11,
    "start_time": "2025-02-05T08:25:22.985Z"
   },
   {
    "duration": 13,
    "start_time": "2025-02-05T08:25:22.998Z"
   },
   {
    "duration": 6,
    "start_time": "2025-02-05T08:25:23.033Z"
   },
   {
    "duration": 55,
    "start_time": "2025-02-05T08:25:23.042Z"
   },
   {
    "duration": 54,
    "start_time": "2025-02-05T08:25:23.098Z"
   },
   {
    "duration": 23,
    "start_time": "2025-02-05T08:25:23.154Z"
   },
   {
    "duration": 21,
    "start_time": "2025-02-05T08:25:23.179Z"
   },
   {
    "duration": 23,
    "start_time": "2025-02-05T08:25:23.201Z"
   },
   {
    "duration": 6,
    "start_time": "2025-02-05T08:25:23.225Z"
   },
   {
    "duration": 65,
    "start_time": "2025-02-05T08:25:23.232Z"
   },
   {
    "duration": 28,
    "start_time": "2025-02-05T08:25:23.299Z"
   },
   {
    "duration": 30,
    "start_time": "2025-02-05T08:25:23.329Z"
   },
   {
    "duration": 6,
    "start_time": "2025-02-05T08:25:23.360Z"
   },
   {
    "duration": 41,
    "start_time": "2025-02-05T08:25:23.368Z"
   },
   {
    "duration": 16,
    "start_time": "2025-02-05T08:25:23.410Z"
   },
   {
    "duration": 12,
    "start_time": "2025-02-05T08:25:23.428Z"
   },
   {
    "duration": 33,
    "start_time": "2025-02-05T08:25:23.442Z"
   },
   {
    "duration": 16,
    "start_time": "2025-02-05T08:25:23.477Z"
   },
   {
    "duration": 16,
    "start_time": "2025-02-05T08:25:23.494Z"
   },
   {
    "duration": 22,
    "start_time": "2025-02-05T08:25:23.511Z"
   },
   {
    "duration": 61,
    "start_time": "2025-02-05T08:25:23.536Z"
   },
   {
    "duration": 39,
    "start_time": "2025-02-05T08:25:23.601Z"
   },
   {
    "duration": 9,
    "start_time": "2025-02-05T08:25:23.641Z"
   },
   {
    "duration": 18,
    "start_time": "2025-02-05T08:25:23.652Z"
   },
   {
    "duration": 19,
    "start_time": "2025-02-05T08:25:23.672Z"
   },
   {
    "duration": 24,
    "start_time": "2025-02-05T08:25:23.693Z"
   },
   {
    "duration": 24,
    "start_time": "2025-02-05T08:25:23.719Z"
   },
   {
    "duration": 6,
    "start_time": "2025-02-05T08:26:19.659Z"
   },
   {
    "duration": 6,
    "start_time": "2025-02-05T08:27:45.337Z"
   },
   {
    "duration": 16,
    "start_time": "2025-02-05T08:31:46.882Z"
   },
   {
    "duration": 829,
    "start_time": "2025-02-05T10:40:54.535Z"
   },
   {
    "duration": 121,
    "start_time": "2025-02-05T10:40:55.367Z"
   },
   {
    "duration": 19,
    "start_time": "2025-02-05T10:40:55.490Z"
   },
   {
    "duration": 29,
    "start_time": "2025-02-05T10:40:55.510Z"
   },
   {
    "duration": 13,
    "start_time": "2025-02-05T10:40:55.541Z"
   },
   {
    "duration": 28,
    "start_time": "2025-02-05T10:40:55.555Z"
   },
   {
    "duration": 13,
    "start_time": "2025-02-05T10:40:55.585Z"
   },
   {
    "duration": 21,
    "start_time": "2025-02-05T10:40:55.599Z"
   },
   {
    "duration": 14,
    "start_time": "2025-02-05T10:40:55.622Z"
   },
   {
    "duration": 6,
    "start_time": "2025-02-05T10:40:55.638Z"
   },
   {
    "duration": 39,
    "start_time": "2025-02-05T10:40:55.646Z"
   },
   {
    "duration": 3,
    "start_time": "2025-02-05T10:40:55.686Z"
   },
   {
    "duration": 65,
    "start_time": "2025-02-05T10:40:55.690Z"
   },
   {
    "duration": 30,
    "start_time": "2025-02-05T10:40:55.758Z"
   },
   {
    "duration": 26,
    "start_time": "2025-02-05T10:40:55.790Z"
   },
   {
    "duration": 16,
    "start_time": "2025-02-05T10:40:55.818Z"
   },
   {
    "duration": 10,
    "start_time": "2025-02-05T10:40:55.835Z"
   },
   {
    "duration": 32,
    "start_time": "2025-02-05T10:40:55.847Z"
   },
   {
    "duration": 17,
    "start_time": "2025-02-05T10:40:55.880Z"
   },
   {
    "duration": 40,
    "start_time": "2025-02-05T10:40:55.899Z"
   },
   {
    "duration": 12,
    "start_time": "2025-02-05T10:40:55.941Z"
   },
   {
    "duration": 18,
    "start_time": "2025-02-05T10:40:55.954Z"
   },
   {
    "duration": 13,
    "start_time": "2025-02-05T10:40:55.974Z"
   },
   {
    "duration": 25,
    "start_time": "2025-02-05T10:40:55.989Z"
   },
   {
    "duration": 19,
    "start_time": "2025-02-05T10:40:56.016Z"
   },
   {
    "duration": 41,
    "start_time": "2025-02-05T10:40:56.037Z"
   },
   {
    "duration": 17,
    "start_time": "2025-02-05T10:40:56.080Z"
   },
   {
    "duration": 92,
    "start_time": "2025-02-05T10:40:56.099Z"
   },
   {
    "duration": 24,
    "start_time": "2025-02-05T10:40:56.192Z"
   },
   {
    "duration": 34,
    "start_time": "2025-02-05T10:40:56.218Z"
   },
   {
    "duration": 15,
    "start_time": "2025-02-05T10:40:56.254Z"
   },
   {
    "duration": 10,
    "start_time": "2025-02-05T10:40:56.271Z"
   },
   {
    "duration": 81,
    "start_time": "2025-02-05T10:40:56.283Z"
   },
   {
    "duration": 18,
    "start_time": "2025-02-05T10:40:56.365Z"
   },
   {
    "duration": 14,
    "start_time": "2025-02-05T10:42:45.690Z"
   },
   {
    "duration": 81,
    "start_time": "2025-02-05T10:43:24.502Z"
   },
   {
    "duration": 19,
    "start_time": "2025-02-05T10:43:34.825Z"
   },
   {
    "duration": 11,
    "start_time": "2025-02-05T10:49:20.644Z"
   },
   {
    "duration": 11,
    "start_time": "2025-02-05T10:49:47.382Z"
   },
   {
    "duration": 17,
    "start_time": "2025-02-05T10:49:58.430Z"
   },
   {
    "duration": 8,
    "start_time": "2025-02-05T10:50:30.185Z"
   },
   {
    "duration": 12,
    "start_time": "2025-02-05T10:50:41.890Z"
   },
   {
    "duration": 8,
    "start_time": "2025-02-05T10:50:50.985Z"
   },
   {
    "duration": 10,
    "start_time": "2025-02-05T10:59:31.169Z"
   },
   {
    "duration": 22,
    "start_time": "2025-02-05T11:04:25.304Z"
   },
   {
    "duration": 11,
    "start_time": "2025-02-05T11:06:07.831Z"
   },
   {
    "duration": 20,
    "start_time": "2025-02-05T11:09:43.256Z"
   },
   {
    "duration": 21,
    "start_time": "2025-02-05T11:11:52.003Z"
   },
   {
    "duration": 24,
    "start_time": "2025-02-05T11:12:14.179Z"
   },
   {
    "duration": 24,
    "start_time": "2025-02-05T12:08:01.497Z"
   },
   {
    "duration": 76,
    "start_time": "2025-02-05T12:10:54.269Z"
   },
   {
    "duration": 21,
    "start_time": "2025-02-05T12:11:33.356Z"
   },
   {
    "duration": 18,
    "start_time": "2025-02-05T12:11:46.496Z"
   },
   {
    "duration": 26,
    "start_time": "2025-02-05T12:13:44.110Z"
   },
   {
    "duration": 37,
    "start_time": "2025-02-05T12:15:16.900Z"
   },
   {
    "duration": 9,
    "start_time": "2025-02-05T12:22:24.210Z"
   },
   {
    "duration": 17,
    "start_time": "2025-02-05T12:22:25.508Z"
   },
   {
    "duration": 14,
    "start_time": "2025-02-05T12:23:50.989Z"
   },
   {
    "duration": 20,
    "start_time": "2025-02-05T12:26:37.282Z"
   },
   {
    "duration": 3,
    "start_time": "2025-02-05T12:26:52.603Z"
   },
   {
    "duration": 136,
    "start_time": "2025-02-05T12:26:52.610Z"
   },
   {
    "duration": 17,
    "start_time": "2025-02-05T12:26:52.748Z"
   },
   {
    "duration": 22,
    "start_time": "2025-02-05T12:26:52.767Z"
   },
   {
    "duration": 16,
    "start_time": "2025-02-05T12:26:52.792Z"
   },
   {
    "duration": 22,
    "start_time": "2025-02-05T12:26:52.809Z"
   },
   {
    "duration": 11,
    "start_time": "2025-02-05T12:26:52.832Z"
   },
   {
    "duration": 7,
    "start_time": "2025-02-05T12:26:52.845Z"
   },
   {
    "duration": 31,
    "start_time": "2025-02-05T12:26:52.853Z"
   },
   {
    "duration": 7,
    "start_time": "2025-02-05T12:26:52.886Z"
   },
   {
    "duration": 21,
    "start_time": "2025-02-05T12:26:52.896Z"
   },
   {
    "duration": 3,
    "start_time": "2025-02-05T12:26:52.919Z"
   },
   {
    "duration": 54,
    "start_time": "2025-02-05T12:26:52.923Z"
   },
   {
    "duration": 28,
    "start_time": "2025-02-05T12:26:52.979Z"
   },
   {
    "duration": 55,
    "start_time": "2025-02-05T12:26:53.009Z"
   },
   {
    "duration": 6,
    "start_time": "2025-02-05T12:26:53.065Z"
   },
   {
    "duration": 33,
    "start_time": "2025-02-05T12:26:53.073Z"
   },
   {
    "duration": 13,
    "start_time": "2025-02-05T12:26:53.108Z"
   },
   {
    "duration": 16,
    "start_time": "2025-02-05T12:26:53.123Z"
   },
   {
    "duration": 7,
    "start_time": "2025-02-05T12:26:53.141Z"
   },
   {
    "duration": 7,
    "start_time": "2025-02-05T12:26:53.150Z"
   },
   {
    "duration": 29,
    "start_time": "2025-02-05T12:26:53.159Z"
   },
   {
    "duration": 20,
    "start_time": "2025-02-05T12:26:53.191Z"
   },
   {
    "duration": 25,
    "start_time": "2025-02-05T12:26:53.213Z"
   },
   {
    "duration": 53,
    "start_time": "2025-02-05T12:26:53.239Z"
   },
   {
    "duration": 15,
    "start_time": "2025-02-05T12:26:53.294Z"
   },
   {
    "duration": 16,
    "start_time": "2025-02-05T12:26:53.311Z"
   },
   {
    "duration": 88,
    "start_time": "2025-02-05T12:26:53.328Z"
   },
   {
    "duration": 24,
    "start_time": "2025-02-05T12:26:53.420Z"
   },
   {
    "duration": 8,
    "start_time": "2025-02-05T12:26:53.446Z"
   },
   {
    "duration": 12,
    "start_time": "2025-02-05T12:26:53.476Z"
   },
   {
    "duration": 40,
    "start_time": "2025-02-05T12:26:53.490Z"
   },
   {
    "duration": 9,
    "start_time": "2025-02-05T12:26:53.531Z"
   },
   {
    "duration": 84,
    "start_time": "2025-02-05T12:26:53.541Z"
   },
   {
    "duration": 13,
    "start_time": "2025-02-05T12:26:53.627Z"
   },
   {
    "duration": 23,
    "start_time": "2025-02-05T12:26:53.641Z"
   },
   {
    "duration": 19,
    "start_time": "2025-02-05T12:28:51.052Z"
   },
   {
    "duration": 23,
    "start_time": "2025-02-05T12:29:06.029Z"
   },
   {
    "duration": 19,
    "start_time": "2025-02-05T12:29:31.250Z"
   },
   {
    "duration": 22,
    "start_time": "2025-02-05T12:31:05.119Z"
   },
   {
    "duration": 40,
    "start_time": "2025-02-05T12:31:48.003Z"
   },
   {
    "duration": 17,
    "start_time": "2025-02-05T12:32:21.545Z"
   },
   {
    "duration": 24,
    "start_time": "2025-02-05T12:32:28.305Z"
   },
   {
    "duration": 43,
    "start_time": "2025-02-05T12:32:38.089Z"
   },
   {
    "duration": 3,
    "start_time": "2025-02-05T12:33:37.234Z"
   },
   {
    "duration": 116,
    "start_time": "2025-02-05T12:33:37.239Z"
   },
   {
    "duration": 15,
    "start_time": "2025-02-05T12:33:37.357Z"
   },
   {
    "duration": 22,
    "start_time": "2025-02-05T12:33:37.373Z"
   },
   {
    "duration": 12,
    "start_time": "2025-02-05T12:33:37.398Z"
   },
   {
    "duration": 48,
    "start_time": "2025-02-05T12:33:37.412Z"
   },
   {
    "duration": 17,
    "start_time": "2025-02-05T12:33:37.462Z"
   },
   {
    "duration": 16,
    "start_time": "2025-02-05T12:33:37.481Z"
   },
   {
    "duration": 11,
    "start_time": "2025-02-05T12:33:37.499Z"
   },
   {
    "duration": 24,
    "start_time": "2025-02-05T12:33:37.511Z"
   },
   {
    "duration": 136,
    "start_time": "2025-02-05T12:33:37.538Z"
   },
   {
    "duration": 29,
    "start_time": "2025-02-05T12:33:37.676Z"
   },
   {
    "duration": 32,
    "start_time": "2025-02-05T12:33:37.707Z"
   },
   {
    "duration": 19,
    "start_time": "2025-02-05T12:33:37.740Z"
   },
   {
    "duration": 26,
    "start_time": "2025-02-05T12:33:37.760Z"
   },
   {
    "duration": 6,
    "start_time": "2025-02-05T12:33:37.788Z"
   },
   {
    "duration": 11,
    "start_time": "2025-02-05T12:33:37.795Z"
   },
   {
    "duration": 13,
    "start_time": "2025-02-05T12:33:37.807Z"
   },
   {
    "duration": 17,
    "start_time": "2025-02-05T12:33:37.822Z"
   },
   {
    "duration": 34,
    "start_time": "2025-02-05T12:33:37.841Z"
   },
   {
    "duration": 10,
    "start_time": "2025-02-05T12:33:37.877Z"
   },
   {
    "duration": 27,
    "start_time": "2025-02-05T12:33:37.889Z"
   },
   {
    "duration": 27,
    "start_time": "2025-02-05T12:33:37.918Z"
   },
   {
    "duration": 111,
    "start_time": "2025-02-05T12:33:37.946Z"
   },
   {
    "duration": 28,
    "start_time": "2025-02-05T12:33:38.059Z"
   },
   {
    "duration": 26,
    "start_time": "2025-02-05T12:33:38.089Z"
   },
   {
    "duration": 15,
    "start_time": "2025-02-05T12:33:38.117Z"
   },
   {
    "duration": 83,
    "start_time": "2025-02-05T12:33:38.133Z"
   },
   {
    "duration": 25,
    "start_time": "2025-02-05T12:33:38.219Z"
   },
   {
    "duration": 10,
    "start_time": "2025-02-05T12:33:38.246Z"
   },
   {
    "duration": 12,
    "start_time": "2025-02-05T12:33:38.274Z"
   },
   {
    "duration": 39,
    "start_time": "2025-02-05T12:33:38.288Z"
   },
   {
    "duration": 4,
    "start_time": "2025-02-05T12:33:38.329Z"
   },
   {
    "duration": 5,
    "start_time": "2025-02-05T12:33:38.335Z"
   },
   {
    "duration": 54,
    "start_time": "2025-02-05T12:33:38.341Z"
   },
   {
    "duration": 18,
    "start_time": "2025-02-05T12:34:07.440Z"
   },
   {
    "duration": 23,
    "start_time": "2025-02-05T12:34:42.583Z"
   },
   {
    "duration": 9,
    "start_time": "2025-02-05T12:36:43.041Z"
   },
   {
    "duration": 13,
    "start_time": "2025-02-05T12:37:56.716Z"
   },
   {
    "duration": 16,
    "start_time": "2025-02-05T12:39:18.365Z"
   },
   {
    "duration": 16,
    "start_time": "2025-02-05T12:39:25.202Z"
   },
   {
    "duration": 12,
    "start_time": "2025-02-05T12:40:12.207Z"
   },
   {
    "duration": 79,
    "start_time": "2025-02-05T12:44:22.105Z"
   },
   {
    "duration": 18,
    "start_time": "2025-02-05T12:44:27.479Z"
   },
   {
    "duration": 14,
    "start_time": "2025-02-05T12:44:55.348Z"
   },
   {
    "duration": 13,
    "start_time": "2025-02-05T12:45:32.329Z"
   },
   {
    "duration": 14,
    "start_time": "2025-02-05T12:50:16.308Z"
   },
   {
    "duration": 15,
    "start_time": "2025-02-05T12:51:09.001Z"
   },
   {
    "duration": 12,
    "start_time": "2025-02-05T12:51:37.217Z"
   },
   {
    "duration": 3,
    "start_time": "2025-02-05T12:53:31.393Z"
   },
   {
    "duration": 195,
    "start_time": "2025-02-05T12:53:31.398Z"
   },
   {
    "duration": 20,
    "start_time": "2025-02-05T12:53:31.595Z"
   },
   {
    "duration": 51,
    "start_time": "2025-02-05T12:53:31.617Z"
   },
   {
    "duration": 76,
    "start_time": "2025-02-05T12:53:31.671Z"
   },
   {
    "duration": 19,
    "start_time": "2025-02-05T12:53:31.749Z"
   },
   {
    "duration": 14,
    "start_time": "2025-02-05T12:53:31.770Z"
   },
   {
    "duration": 5,
    "start_time": "2025-02-05T12:53:31.787Z"
   },
   {
    "duration": 19,
    "start_time": "2025-02-05T12:53:31.794Z"
   },
   {
    "duration": 9,
    "start_time": "2025-02-05T12:53:31.815Z"
   },
   {
    "duration": 48,
    "start_time": "2025-02-05T12:53:31.827Z"
   },
   {
    "duration": 3,
    "start_time": "2025-02-05T12:53:31.878Z"
   },
   {
    "duration": 44,
    "start_time": "2025-02-05T12:53:31.884Z"
   },
   {
    "duration": 21,
    "start_time": "2025-02-05T12:53:31.929Z"
   },
   {
    "duration": 31,
    "start_time": "2025-02-05T12:53:31.952Z"
   },
   {
    "duration": 7,
    "start_time": "2025-02-05T12:53:31.985Z"
   },
   {
    "duration": 41,
    "start_time": "2025-02-05T12:53:31.993Z"
   },
   {
    "duration": 78,
    "start_time": "2025-02-05T12:53:32.035Z"
   },
   {
    "duration": 15,
    "start_time": "2025-02-05T12:53:32.114Z"
   },
   {
    "duration": 6,
    "start_time": "2025-02-05T12:53:32.130Z"
   },
   {
    "duration": 28,
    "start_time": "2025-02-05T12:53:32.138Z"
   },
   {
    "duration": 44,
    "start_time": "2025-02-05T12:53:32.167Z"
   },
   {
    "duration": 38,
    "start_time": "2025-02-05T12:53:32.213Z"
   },
   {
    "duration": 36,
    "start_time": "2025-02-05T12:53:32.253Z"
   },
   {
    "duration": 21,
    "start_time": "2025-02-05T12:53:32.291Z"
   },
   {
    "duration": 18,
    "start_time": "2025-02-05T12:53:32.314Z"
   },
   {
    "duration": 15,
    "start_time": "2025-02-05T12:53:32.333Z"
   },
   {
    "duration": 87,
    "start_time": "2025-02-05T12:53:32.350Z"
   },
   {
    "duration": 22,
    "start_time": "2025-02-05T12:53:32.440Z"
   },
   {
    "duration": 16,
    "start_time": "2025-02-05T12:53:32.475Z"
   },
   {
    "duration": 12,
    "start_time": "2025-02-05T12:53:32.494Z"
   },
   {
    "duration": 76,
    "start_time": "2025-02-05T12:53:32.507Z"
   },
   {
    "duration": 9,
    "start_time": "2025-02-05T12:53:32.585Z"
   },
   {
    "duration": 18,
    "start_time": "2025-02-05T12:53:32.596Z"
   },
   {
    "duration": 26,
    "start_time": "2025-02-05T12:53:32.615Z"
   },
   {
    "duration": 14,
    "start_time": "2025-02-05T12:53:32.642Z"
   },
   {
    "duration": 27,
    "start_time": "2025-02-05T12:53:32.657Z"
   },
   {
    "duration": 14,
    "start_time": "2025-02-05T12:54:03.496Z"
   },
   {
    "duration": 17,
    "start_time": "2025-02-05T12:54:55.876Z"
   },
   {
    "duration": 18,
    "start_time": "2025-02-05T12:55:02.488Z"
   },
   {
    "duration": 20,
    "start_time": "2025-02-05T12:56:38.174Z"
   },
   {
    "duration": 37,
    "start_time": "2025-02-05T12:56:59.626Z"
   },
   {
    "duration": 7,
    "start_time": "2025-02-05T13:02:07.613Z"
   },
   {
    "duration": 6,
    "start_time": "2025-02-05T13:02:12.453Z"
   },
   {
    "duration": 46,
    "start_time": "2025-02-05T13:13:53.171Z"
   },
   {
    "duration": 44,
    "start_time": "2025-02-05T13:15:01.747Z"
   },
   {
    "duration": 47,
    "start_time": "2025-02-05T13:17:09.226Z"
   },
   {
    "duration": 27,
    "start_time": "2025-02-05T13:17:44.606Z"
   },
   {
    "duration": 20,
    "start_time": "2025-02-05T13:21:02.209Z"
   },
   {
    "duration": 10,
    "start_time": "2025-02-05T13:22:13.185Z"
   },
   {
    "duration": 75,
    "start_time": "2025-02-05T13:22:20.412Z"
   },
   {
    "duration": 3,
    "start_time": "2025-02-05T13:35:33.041Z"
   },
   {
    "duration": 19,
    "start_time": "2025-02-05T13:51:11.086Z"
   },
   {
    "duration": 3,
    "start_time": "2025-02-05T13:51:21.019Z"
   },
   {
    "duration": 163,
    "start_time": "2025-02-05T13:51:21.024Z"
   },
   {
    "duration": 17,
    "start_time": "2025-02-05T13:51:21.189Z"
   },
   {
    "duration": 26,
    "start_time": "2025-02-05T13:51:21.208Z"
   },
   {
    "duration": 40,
    "start_time": "2025-02-05T13:51:21.236Z"
   },
   {
    "duration": 13,
    "start_time": "2025-02-05T13:51:21.278Z"
   },
   {
    "duration": 17,
    "start_time": "2025-02-05T13:51:21.293Z"
   },
   {
    "duration": 17,
    "start_time": "2025-02-05T13:51:21.312Z"
   },
   {
    "duration": 11,
    "start_time": "2025-02-05T13:51:21.333Z"
   },
   {
    "duration": 33,
    "start_time": "2025-02-05T13:51:21.346Z"
   },
   {
    "duration": 21,
    "start_time": "2025-02-05T13:51:21.380Z"
   },
   {
    "duration": 2,
    "start_time": "2025-02-05T13:51:21.403Z"
   },
   {
    "duration": 26,
    "start_time": "2025-02-05T13:51:21.407Z"
   },
   {
    "duration": 49,
    "start_time": "2025-02-05T13:51:21.435Z"
   },
   {
    "duration": 60,
    "start_time": "2025-02-05T13:51:21.486Z"
   },
   {
    "duration": 29,
    "start_time": "2025-02-05T13:51:21.548Z"
   },
   {
    "duration": 10,
    "start_time": "2025-02-05T13:51:21.578Z"
   },
   {
    "duration": 28,
    "start_time": "2025-02-05T13:51:21.590Z"
   },
   {
    "duration": 17,
    "start_time": "2025-02-05T13:51:21.620Z"
   },
   {
    "duration": 7,
    "start_time": "2025-02-05T13:51:21.639Z"
   },
   {
    "duration": 8,
    "start_time": "2025-02-05T13:51:21.648Z"
   },
   {
    "duration": 30,
    "start_time": "2025-02-05T13:51:21.658Z"
   },
   {
    "duration": 13,
    "start_time": "2025-02-05T13:51:21.690Z"
   },
   {
    "duration": 24,
    "start_time": "2025-02-05T13:51:21.706Z"
   },
   {
    "duration": 44,
    "start_time": "2025-02-05T13:51:21.731Z"
   },
   {
    "duration": 12,
    "start_time": "2025-02-05T13:51:21.777Z"
   },
   {
    "duration": 88,
    "start_time": "2025-02-05T13:51:21.791Z"
   },
   {
    "duration": 68,
    "start_time": "2025-02-05T13:51:21.881Z"
   },
   {
    "duration": 36,
    "start_time": "2025-02-05T13:51:21.950Z"
   },
   {
    "duration": 7,
    "start_time": "2025-02-05T13:51:21.987Z"
   },
   {
    "duration": 6,
    "start_time": "2025-02-05T13:51:21.995Z"
   },
   {
    "duration": 109,
    "start_time": "2025-02-05T13:51:22.002Z"
   },
   {
    "duration": 19,
    "start_time": "2025-02-05T13:51:22.113Z"
   },
   {
    "duration": 13,
    "start_time": "2025-02-05T13:51:22.134Z"
   },
   {
    "duration": 102,
    "start_time": "2025-02-05T13:51:22.149Z"
   },
   {
    "duration": 28,
    "start_time": "2025-02-05T13:51:22.252Z"
   },
   {
    "duration": 7,
    "start_time": "2025-02-05T14:03:05.894Z"
   },
   {
    "duration": 14,
    "start_time": "2025-02-05T14:03:22.306Z"
   },
   {
    "duration": 3,
    "start_time": "2025-02-05T14:03:27.490Z"
   },
   {
    "duration": 136,
    "start_time": "2025-02-05T14:03:27.495Z"
   },
   {
    "duration": 17,
    "start_time": "2025-02-05T14:03:27.633Z"
   },
   {
    "duration": 15,
    "start_time": "2025-02-05T14:03:27.652Z"
   },
   {
    "duration": 29,
    "start_time": "2025-02-05T14:03:27.669Z"
   },
   {
    "duration": 14,
    "start_time": "2025-02-05T14:03:27.699Z"
   },
   {
    "duration": 11,
    "start_time": "2025-02-05T14:03:27.715Z"
   },
   {
    "duration": 5,
    "start_time": "2025-02-05T14:03:27.727Z"
   },
   {
    "duration": 9,
    "start_time": "2025-02-05T14:03:27.734Z"
   },
   {
    "duration": 6,
    "start_time": "2025-02-05T14:03:27.745Z"
   },
   {
    "duration": 21,
    "start_time": "2025-02-05T14:03:27.776Z"
   },
   {
    "duration": 20,
    "start_time": "2025-02-05T14:03:27.798Z"
   },
   {
    "duration": 26,
    "start_time": "2025-02-05T14:03:27.820Z"
   },
   {
    "duration": 31,
    "start_time": "2025-02-05T14:03:27.847Z"
   },
   {
    "duration": 36,
    "start_time": "2025-02-05T14:03:27.880Z"
   },
   {
    "duration": 16,
    "start_time": "2025-02-05T14:03:27.918Z"
   },
   {
    "duration": 28,
    "start_time": "2025-02-05T14:03:27.935Z"
   },
   {
    "duration": 14,
    "start_time": "2025-02-05T14:03:27.965Z"
   },
   {
    "duration": 8,
    "start_time": "2025-02-05T14:03:27.981Z"
   },
   {
    "duration": 19,
    "start_time": "2025-02-05T14:03:27.992Z"
   },
   {
    "duration": 20,
    "start_time": "2025-02-05T14:03:28.012Z"
   },
   {
    "duration": 23,
    "start_time": "2025-02-05T14:03:28.034Z"
   },
   {
    "duration": 17,
    "start_time": "2025-02-05T14:03:28.075Z"
   },
   {
    "duration": 61,
    "start_time": "2025-02-05T14:03:28.094Z"
   },
   {
    "duration": 16,
    "start_time": "2025-02-05T14:03:28.157Z"
   },
   {
    "duration": 135,
    "start_time": "2025-02-05T14:03:28.174Z"
   },
   {
    "duration": 23,
    "start_time": "2025-02-05T14:03:28.311Z"
   },
   {
    "duration": 6,
    "start_time": "2025-02-05T14:03:28.336Z"
   },
   {
    "duration": 30,
    "start_time": "2025-02-05T14:03:28.345Z"
   },
   {
    "duration": 18,
    "start_time": "2025-02-05T14:03:28.377Z"
   },
   {
    "duration": 18,
    "start_time": "2025-02-05T14:03:28.397Z"
   },
   {
    "duration": 11,
    "start_time": "2025-02-05T14:03:28.417Z"
   },
   {
    "duration": 13,
    "start_time": "2025-02-05T14:03:28.430Z"
   },
   {
    "duration": 29,
    "start_time": "2025-02-05T14:03:28.474Z"
   },
   {
    "duration": 10,
    "start_time": "2025-02-05T14:04:45.778Z"
   },
   {
    "duration": 2,
    "start_time": "2025-02-05T14:04:49.970Z"
   },
   {
    "duration": 136,
    "start_time": "2025-02-05T14:04:49.974Z"
   },
   {
    "duration": 16,
    "start_time": "2025-02-05T14:04:50.112Z"
   },
   {
    "duration": 78,
    "start_time": "2025-02-05T14:04:50.130Z"
   },
   {
    "duration": 50,
    "start_time": "2025-02-05T14:04:50.209Z"
   },
   {
    "duration": 13,
    "start_time": "2025-02-05T14:04:50.260Z"
   },
   {
    "duration": 15,
    "start_time": "2025-02-05T14:04:50.275Z"
   },
   {
    "duration": 4,
    "start_time": "2025-02-05T14:04:50.292Z"
   },
   {
    "duration": 6,
    "start_time": "2025-02-05T14:04:50.300Z"
   },
   {
    "duration": 6,
    "start_time": "2025-02-05T14:04:50.307Z"
   },
   {
    "duration": 21,
    "start_time": "2025-02-05T14:04:50.315Z"
   },
   {
    "duration": 53,
    "start_time": "2025-02-05T14:04:50.338Z"
   },
   {
    "duration": 60,
    "start_time": "2025-02-05T14:04:50.393Z"
   },
   {
    "duration": 10,
    "start_time": "2025-02-05T14:04:50.454Z"
   },
   {
    "duration": 6,
    "start_time": "2025-02-05T14:04:50.466Z"
   },
   {
    "duration": 10,
    "start_time": "2025-02-05T14:04:50.474Z"
   },
   {
    "duration": 14,
    "start_time": "2025-02-05T14:04:50.486Z"
   },
   {
    "duration": 23,
    "start_time": "2025-02-05T14:04:50.502Z"
   },
   {
    "duration": 6,
    "start_time": "2025-02-05T14:04:50.527Z"
   },
   {
    "duration": 21,
    "start_time": "2025-02-05T14:04:50.534Z"
   },
   {
    "duration": 26,
    "start_time": "2025-02-05T14:04:50.557Z"
   },
   {
    "duration": 31,
    "start_time": "2025-02-05T14:04:50.585Z"
   },
   {
    "duration": 35,
    "start_time": "2025-02-05T14:04:50.617Z"
   },
   {
    "duration": 17,
    "start_time": "2025-02-05T14:04:50.656Z"
   },
   {
    "duration": 14,
    "start_time": "2025-02-05T14:04:50.675Z"
   },
   {
    "duration": 21,
    "start_time": "2025-02-05T14:04:50.691Z"
   },
   {
    "duration": 95,
    "start_time": "2025-02-05T14:04:50.714Z"
   },
   {
    "duration": 27,
    "start_time": "2025-02-05T14:04:50.810Z"
   },
   {
    "duration": 7,
    "start_time": "2025-02-05T14:04:50.839Z"
   },
   {
    "duration": 31,
    "start_time": "2025-02-05T14:04:50.847Z"
   },
   {
    "duration": 19,
    "start_time": "2025-02-05T14:04:50.880Z"
   },
   {
    "duration": 18,
    "start_time": "2025-02-05T14:04:50.901Z"
   },
   {
    "duration": 13,
    "start_time": "2025-02-05T14:04:50.921Z"
   },
   {
    "duration": 43,
    "start_time": "2025-02-05T14:04:50.936Z"
   },
   {
    "duration": 31,
    "start_time": "2025-02-05T14:04:50.981Z"
   },
   {
    "duration": 12,
    "start_time": "2025-02-05T14:10:59.777Z"
   },
   {
    "duration": 9,
    "start_time": "2025-02-05T14:34:50.562Z"
   },
   {
    "duration": 86,
    "start_time": "2025-02-05T14:35:11.273Z"
   },
   {
    "duration": 63,
    "start_time": "2025-02-05T14:35:55.331Z"
   },
   {
    "duration": 17,
    "start_time": "2025-02-05T14:40:27.597Z"
   },
   {
    "duration": 13,
    "start_time": "2025-02-05T14:41:32.733Z"
   },
   {
    "duration": 2,
    "start_time": "2025-02-05T14:44:41.492Z"
   },
   {
    "duration": 208,
    "start_time": "2025-02-05T14:44:41.498Z"
   },
   {
    "duration": 16,
    "start_time": "2025-02-05T14:44:41.708Z"
   },
   {
    "duration": 17,
    "start_time": "2025-02-05T14:44:41.725Z"
   },
   {
    "duration": 69,
    "start_time": "2025-02-05T14:44:41.743Z"
   },
   {
    "duration": 25,
    "start_time": "2025-02-05T14:44:41.813Z"
   },
   {
    "duration": 11,
    "start_time": "2025-02-05T14:44:41.840Z"
   },
   {
    "duration": 5,
    "start_time": "2025-02-05T14:44:41.853Z"
   },
   {
    "duration": 8,
    "start_time": "2025-02-05T14:44:41.859Z"
   },
   {
    "duration": 6,
    "start_time": "2025-02-05T14:44:41.869Z"
   },
   {
    "duration": 21,
    "start_time": "2025-02-05T14:44:41.878Z"
   },
   {
    "duration": 21,
    "start_time": "2025-02-05T14:44:41.900Z"
   },
   {
    "duration": 25,
    "start_time": "2025-02-05T14:44:41.923Z"
   },
   {
    "duration": 10,
    "start_time": "2025-02-05T14:44:41.974Z"
   },
   {
    "duration": 8,
    "start_time": "2025-02-05T14:44:41.985Z"
   },
   {
    "duration": 9,
    "start_time": "2025-02-05T14:44:41.995Z"
   },
   {
    "duration": 14,
    "start_time": "2025-02-05T14:44:42.006Z"
   },
   {
    "duration": 25,
    "start_time": "2025-02-05T14:44:42.022Z"
   },
   {
    "duration": 29,
    "start_time": "2025-02-05T14:44:42.050Z"
   },
   {
    "duration": 53,
    "start_time": "2025-02-05T14:44:42.081Z"
   },
   {
    "duration": 15,
    "start_time": "2025-02-05T14:44:42.136Z"
   },
   {
    "duration": 14,
    "start_time": "2025-02-05T14:44:42.153Z"
   },
   {
    "duration": 23,
    "start_time": "2025-02-05T14:44:42.169Z"
   },
   {
    "duration": 13,
    "start_time": "2025-02-05T14:44:42.194Z"
   },
   {
    "duration": 29,
    "start_time": "2025-02-05T14:44:42.209Z"
   },
   {
    "duration": 78,
    "start_time": "2025-02-05T14:44:42.240Z"
   },
   {
    "duration": 23,
    "start_time": "2025-02-05T14:44:42.320Z"
   },
   {
    "duration": 7,
    "start_time": "2025-02-05T14:44:42.346Z"
   },
   {
    "duration": 39,
    "start_time": "2025-02-05T14:44:42.377Z"
   },
   {
    "duration": 19,
    "start_time": "2025-02-05T14:44:42.418Z"
   },
   {
    "duration": 21,
    "start_time": "2025-02-05T14:44:42.439Z"
   },
   {
    "duration": 14,
    "start_time": "2025-02-05T14:44:42.461Z"
   },
   {
    "duration": 15,
    "start_time": "2025-02-05T14:44:42.477Z"
   },
   {
    "duration": 29,
    "start_time": "2025-02-05T14:44:42.494Z"
   },
   {
    "duration": 17,
    "start_time": "2025-02-05T14:49:20.128Z"
   },
   {
    "duration": 20,
    "start_time": "2025-02-05T14:50:19.295Z"
   },
   {
    "duration": 3,
    "start_time": "2025-02-05T14:50:25.148Z"
   },
   {
    "duration": 116,
    "start_time": "2025-02-05T14:50:25.154Z"
   },
   {
    "duration": 16,
    "start_time": "2025-02-05T14:50:25.272Z"
   },
   {
    "duration": 16,
    "start_time": "2025-02-05T14:50:25.290Z"
   },
   {
    "duration": 16,
    "start_time": "2025-02-05T14:50:25.309Z"
   },
   {
    "duration": 16,
    "start_time": "2025-02-05T14:50:25.327Z"
   },
   {
    "duration": 36,
    "start_time": "2025-02-05T14:50:25.345Z"
   },
   {
    "duration": 6,
    "start_time": "2025-02-05T14:50:25.382Z"
   },
   {
    "duration": 7,
    "start_time": "2025-02-05T14:50:25.389Z"
   },
   {
    "duration": 6,
    "start_time": "2025-02-05T14:50:25.398Z"
   },
   {
    "duration": 21,
    "start_time": "2025-02-05T14:50:25.407Z"
   },
   {
    "duration": 60,
    "start_time": "2025-02-05T14:50:25.429Z"
   },
   {
    "duration": 44,
    "start_time": "2025-02-05T14:50:25.491Z"
   },
   {
    "duration": 10,
    "start_time": "2025-02-05T14:50:25.537Z"
   },
   {
    "duration": 5,
    "start_time": "2025-02-05T14:50:25.549Z"
   },
   {
    "duration": 23,
    "start_time": "2025-02-05T14:50:25.556Z"
   },
   {
    "duration": 10,
    "start_time": "2025-02-05T14:50:25.581Z"
   },
   {
    "duration": 17,
    "start_time": "2025-02-05T14:50:25.593Z"
   },
   {
    "duration": 6,
    "start_time": "2025-02-05T14:50:25.612Z"
   },
   {
    "duration": 7,
    "start_time": "2025-02-05T14:50:25.620Z"
   },
   {
    "duration": 48,
    "start_time": "2025-02-05T14:50:25.628Z"
   },
   {
    "duration": 13,
    "start_time": "2025-02-05T14:50:25.678Z"
   },
   {
    "duration": 23,
    "start_time": "2025-02-05T14:50:25.694Z"
   },
   {
    "duration": 14,
    "start_time": "2025-02-05T14:50:25.719Z"
   },
   {
    "duration": 41,
    "start_time": "2025-02-05T14:50:25.734Z"
   },
   {
    "duration": 65,
    "start_time": "2025-02-05T14:50:25.777Z"
   },
   {
    "duration": 42,
    "start_time": "2025-02-05T14:50:25.844Z"
   },
   {
    "duration": 7,
    "start_time": "2025-02-05T14:50:25.888Z"
   },
   {
    "duration": 7,
    "start_time": "2025-02-05T14:50:25.899Z"
   },
   {
    "duration": 20,
    "start_time": "2025-02-05T14:50:25.907Z"
   },
   {
    "duration": 49,
    "start_time": "2025-02-05T14:50:25.929Z"
   },
   {
    "duration": 16,
    "start_time": "2025-02-05T14:50:25.980Z"
   },
   {
    "duration": 31,
    "start_time": "2025-02-05T14:50:25.998Z"
   },
   {
    "duration": 54,
    "start_time": "2025-02-05T14:50:26.031Z"
   },
   {
    "duration": 91,
    "start_time": "2025-02-05T14:50:51.251Z"
   },
   {
    "duration": 92,
    "start_time": "2025-02-05T14:53:35.537Z"
   },
   {
    "duration": 115,
    "start_time": "2025-02-05T14:55:35.149Z"
   },
   {
    "duration": 8,
    "start_time": "2025-02-05T15:01:46.853Z"
   },
   {
    "duration": 16,
    "start_time": "2025-02-05T15:01:55.535Z"
   },
   {
    "duration": 14,
    "start_time": "2025-02-05T15:02:26.465Z"
   },
   {
    "duration": 4,
    "start_time": "2025-02-05T15:03:40.186Z"
   },
   {
    "duration": 15,
    "start_time": "2025-02-05T15:03:53.571Z"
   },
   {
    "duration": 21,
    "start_time": "2025-02-05T15:05:00.463Z"
   },
   {
    "duration": 236,
    "start_time": "2025-02-05T15:08:57.412Z"
   },
   {
    "duration": 218,
    "start_time": "2025-02-05T15:09:46.646Z"
   },
   {
    "duration": 3,
    "start_time": "2025-02-05T15:10:07.827Z"
   },
   {
    "duration": 177,
    "start_time": "2025-02-05T15:10:07.832Z"
   },
   {
    "duration": 20,
    "start_time": "2025-02-05T15:10:08.011Z"
   },
   {
    "duration": 17,
    "start_time": "2025-02-05T15:10:08.033Z"
   },
   {
    "duration": 14,
    "start_time": "2025-02-05T15:10:08.076Z"
   },
   {
    "duration": 14,
    "start_time": "2025-02-05T15:10:08.091Z"
   },
   {
    "duration": 13,
    "start_time": "2025-02-05T15:10:08.106Z"
   },
   {
    "duration": 5,
    "start_time": "2025-02-05T15:10:08.121Z"
   },
   {
    "duration": 48,
    "start_time": "2025-02-05T15:10:08.127Z"
   },
   {
    "duration": 6,
    "start_time": "2025-02-05T15:10:08.177Z"
   },
   {
    "duration": 51,
    "start_time": "2025-02-05T15:10:08.185Z"
   },
   {
    "duration": 20,
    "start_time": "2025-02-05T15:10:08.237Z"
   },
   {
    "duration": 27,
    "start_time": "2025-02-05T15:10:08.259Z"
   },
   {
    "duration": 9,
    "start_time": "2025-02-05T15:10:08.287Z"
   },
   {
    "duration": 5,
    "start_time": "2025-02-05T15:10:08.298Z"
   },
   {
    "duration": 10,
    "start_time": "2025-02-05T15:10:08.305Z"
   },
   {
    "duration": 10,
    "start_time": "2025-02-05T15:10:08.316Z"
   },
   {
    "duration": 109,
    "start_time": "2025-02-05T15:10:08.328Z"
   },
   {
    "duration": 6,
    "start_time": "2025-02-05T15:10:08.439Z"
   },
   {
    "duration": 9,
    "start_time": "2025-02-05T15:10:08.446Z"
   },
   {
    "duration": 20,
    "start_time": "2025-02-05T15:10:08.456Z"
   },
   {
    "duration": 93,
    "start_time": "2025-02-05T15:10:08.477Z"
   },
   {
    "duration": 24,
    "start_time": "2025-02-05T15:10:08.571Z"
   },
   {
    "duration": 11,
    "start_time": "2025-02-05T15:10:08.597Z"
   },
   {
    "duration": 16,
    "start_time": "2025-02-05T15:10:08.610Z"
   },
   {
    "duration": 83,
    "start_time": "2025-02-05T15:10:08.627Z"
   },
   {
    "duration": 22,
    "start_time": "2025-02-05T15:10:08.712Z"
   },
   {
    "duration": 6,
    "start_time": "2025-02-05T15:10:08.736Z"
   },
   {
    "duration": 30,
    "start_time": "2025-02-05T15:10:08.745Z"
   },
   {
    "duration": 18,
    "start_time": "2025-02-05T15:10:08.777Z"
   },
   {
    "duration": 28,
    "start_time": "2025-02-05T15:10:08.797Z"
   },
   {
    "duration": 15,
    "start_time": "2025-02-05T15:10:08.827Z"
   },
   {
    "duration": 44,
    "start_time": "2025-02-05T15:10:08.844Z"
   },
   {
    "duration": 76,
    "start_time": "2025-02-05T15:10:08.890Z"
   },
   {
    "duration": 0,
    "start_time": "2025-02-05T15:10:08.968Z"
   },
   {
    "duration": 3,
    "start_time": "2025-02-05T15:10:32.829Z"
   },
   {
    "duration": 256,
    "start_time": "2025-02-05T15:10:33.993Z"
   },
   {
    "duration": 216,
    "start_time": "2025-02-05T15:13:18.337Z"
   },
   {
    "duration": 14,
    "start_time": "2025-02-05T15:14:36.031Z"
   },
   {
    "duration": 2,
    "start_time": "2025-02-05T15:14:45.210Z"
   },
   {
    "duration": 158,
    "start_time": "2025-02-05T15:14:45.217Z"
   },
   {
    "duration": 18,
    "start_time": "2025-02-05T15:14:45.377Z"
   },
   {
    "duration": 34,
    "start_time": "2025-02-05T15:14:45.397Z"
   },
   {
    "duration": 14,
    "start_time": "2025-02-05T15:14:45.434Z"
   },
   {
    "duration": 34,
    "start_time": "2025-02-05T15:14:45.450Z"
   },
   {
    "duration": 12,
    "start_time": "2025-02-05T15:14:45.486Z"
   },
   {
    "duration": 11,
    "start_time": "2025-02-05T15:14:45.499Z"
   },
   {
    "duration": 11,
    "start_time": "2025-02-05T15:14:45.513Z"
   },
   {
    "duration": 6,
    "start_time": "2025-02-05T15:14:45.525Z"
   },
   {
    "duration": 55,
    "start_time": "2025-02-05T15:14:45.534Z"
   },
   {
    "duration": 21,
    "start_time": "2025-02-05T15:14:45.591Z"
   },
   {
    "duration": 31,
    "start_time": "2025-02-05T15:14:45.613Z"
   },
   {
    "duration": 31,
    "start_time": "2025-02-05T15:14:45.645Z"
   },
   {
    "duration": 6,
    "start_time": "2025-02-05T15:14:45.678Z"
   },
   {
    "duration": 23,
    "start_time": "2025-02-05T15:14:45.686Z"
   },
   {
    "duration": 12,
    "start_time": "2025-02-05T15:14:45.711Z"
   },
   {
    "duration": 16,
    "start_time": "2025-02-05T15:14:45.725Z"
   },
   {
    "duration": 6,
    "start_time": "2025-02-05T15:14:45.743Z"
   },
   {
    "duration": 27,
    "start_time": "2025-02-05T15:14:45.751Z"
   },
   {
    "duration": 14,
    "start_time": "2025-02-05T15:14:45.779Z"
   },
   {
    "duration": 13,
    "start_time": "2025-02-05T15:14:45.795Z"
   },
   {
    "duration": 23,
    "start_time": "2025-02-05T15:14:45.810Z"
   },
   {
    "duration": 44,
    "start_time": "2025-02-05T15:14:45.834Z"
   },
   {
    "duration": 16,
    "start_time": "2025-02-05T15:14:45.879Z"
   },
   {
    "duration": 79,
    "start_time": "2025-02-05T15:14:45.896Z"
   },
   {
    "duration": 23,
    "start_time": "2025-02-05T15:14:45.977Z"
   },
   {
    "duration": 7,
    "start_time": "2025-02-05T15:14:46.002Z"
   },
   {
    "duration": 9,
    "start_time": "2025-02-05T15:14:46.012Z"
   },
   {
    "duration": 18,
    "start_time": "2025-02-05T15:14:46.022Z"
   },
   {
    "duration": 20,
    "start_time": "2025-02-05T15:14:46.075Z"
   },
   {
    "duration": 13,
    "start_time": "2025-02-05T15:14:46.097Z"
   },
   {
    "duration": 29,
    "start_time": "2025-02-05T15:14:46.112Z"
   },
   {
    "duration": 33,
    "start_time": "2025-02-05T15:14:46.143Z"
   },
   {
    "duration": 70,
    "start_time": "2025-02-05T15:14:46.178Z"
   },
   {
    "duration": 280,
    "start_time": "2025-02-05T15:14:56.797Z"
   },
   {
    "duration": 22,
    "start_time": "2025-02-05T15:16:12.648Z"
   },
   {
    "duration": 12,
    "start_time": "2025-02-05T15:45:32.699Z"
   },
   {
    "duration": 19,
    "start_time": "2025-02-05T15:46:02.286Z"
   },
   {
    "duration": 12,
    "start_time": "2025-02-05T15:46:11.976Z"
   },
   {
    "duration": 3,
    "start_time": "2025-02-05T15:46:17.558Z"
   },
   {
    "duration": 105,
    "start_time": "2025-02-05T15:46:17.565Z"
   },
   {
    "duration": 17,
    "start_time": "2025-02-05T15:46:17.673Z"
   },
   {
    "duration": 17,
    "start_time": "2025-02-05T15:46:17.695Z"
   },
   {
    "duration": 19,
    "start_time": "2025-02-05T15:46:17.715Z"
   },
   {
    "duration": 12,
    "start_time": "2025-02-05T15:46:17.736Z"
   },
   {
    "duration": 11,
    "start_time": "2025-02-05T15:46:17.775Z"
   },
   {
    "duration": 5,
    "start_time": "2025-02-05T15:46:17.789Z"
   },
   {
    "duration": 12,
    "start_time": "2025-02-05T15:46:17.795Z"
   },
   {
    "duration": 7,
    "start_time": "2025-02-05T15:46:17.808Z"
   },
   {
    "duration": 71,
    "start_time": "2025-02-05T15:46:17.816Z"
   },
   {
    "duration": 22,
    "start_time": "2025-02-05T15:46:17.889Z"
   },
   {
    "duration": 44,
    "start_time": "2025-02-05T15:46:17.913Z"
   },
   {
    "duration": 27,
    "start_time": "2025-02-05T15:46:17.959Z"
   },
   {
    "duration": 8,
    "start_time": "2025-02-05T15:46:17.988Z"
   },
   {
    "duration": 21,
    "start_time": "2025-02-05T15:46:17.999Z"
   },
   {
    "duration": 17,
    "start_time": "2025-02-05T15:46:18.022Z"
   },
   {
    "duration": 58,
    "start_time": "2025-02-05T15:46:18.042Z"
   },
   {
    "duration": 9,
    "start_time": "2025-02-05T15:46:18.102Z"
   },
   {
    "duration": 62,
    "start_time": "2025-02-05T15:46:18.113Z"
   },
   {
    "duration": 22,
    "start_time": "2025-02-05T15:46:18.177Z"
   },
   {
    "duration": 12,
    "start_time": "2025-02-05T15:46:18.201Z"
   },
   {
    "duration": 26,
    "start_time": "2025-02-05T15:46:18.215Z"
   },
   {
    "duration": 37,
    "start_time": "2025-02-05T15:46:18.243Z"
   },
   {
    "duration": 15,
    "start_time": "2025-02-05T15:46:18.282Z"
   },
   {
    "duration": 108,
    "start_time": "2025-02-05T15:46:18.299Z"
   },
   {
    "duration": 24,
    "start_time": "2025-02-05T15:46:18.409Z"
   },
   {
    "duration": 79,
    "start_time": "2025-02-05T15:46:18.434Z"
   },
   {
    "duration": 7,
    "start_time": "2025-02-05T15:46:18.515Z"
   },
   {
    "duration": 21,
    "start_time": "2025-02-05T15:46:18.524Z"
   },
   {
    "duration": 20,
    "start_time": "2025-02-05T15:46:18.547Z"
   },
   {
    "duration": 13,
    "start_time": "2025-02-05T15:46:18.568Z"
   },
   {
    "duration": 28,
    "start_time": "2025-02-05T15:46:18.584Z"
   },
   {
    "duration": 22,
    "start_time": "2025-02-05T15:46:18.614Z"
   },
   {
    "duration": 3,
    "start_time": "2025-02-05T16:35:10.926Z"
   },
   {
    "duration": 182,
    "start_time": "2025-02-05T16:35:10.931Z"
   },
   {
    "duration": 14,
    "start_time": "2025-02-05T16:35:11.115Z"
   },
   {
    "duration": 16,
    "start_time": "2025-02-05T16:35:11.131Z"
   },
   {
    "duration": 28,
    "start_time": "2025-02-05T16:35:11.149Z"
   },
   {
    "duration": 13,
    "start_time": "2025-02-05T16:35:11.178Z"
   },
   {
    "duration": 10,
    "start_time": "2025-02-05T16:35:11.193Z"
   },
   {
    "duration": 7,
    "start_time": "2025-02-05T16:35:11.204Z"
   },
   {
    "duration": 19,
    "start_time": "2025-02-05T16:35:11.213Z"
   },
   {
    "duration": 6,
    "start_time": "2025-02-05T16:35:11.234Z"
   },
   {
    "duration": 47,
    "start_time": "2025-02-05T16:35:11.243Z"
   },
   {
    "duration": 33,
    "start_time": "2025-02-05T16:35:11.293Z"
   },
   {
    "duration": 56,
    "start_time": "2025-02-05T16:35:11.329Z"
   },
   {
    "duration": 10,
    "start_time": "2025-02-05T16:35:11.387Z"
   },
   {
    "duration": 14,
    "start_time": "2025-02-05T16:35:11.399Z"
   },
   {
    "duration": 10,
    "start_time": "2025-02-05T16:35:11.415Z"
   },
   {
    "duration": 10,
    "start_time": "2025-02-05T16:35:11.426Z"
   },
   {
    "duration": 39,
    "start_time": "2025-02-05T16:35:11.438Z"
   },
   {
    "duration": 6,
    "start_time": "2025-02-05T16:35:11.479Z"
   },
   {
    "duration": 6,
    "start_time": "2025-02-05T16:35:11.487Z"
   },
   {
    "duration": 14,
    "start_time": "2025-02-05T16:35:11.494Z"
   },
   {
    "duration": 11,
    "start_time": "2025-02-05T16:35:11.510Z"
   },
   {
    "duration": 57,
    "start_time": "2025-02-05T16:35:11.523Z"
   },
   {
    "duration": 11,
    "start_time": "2025-02-05T16:35:11.582Z"
   },
   {
    "duration": 15,
    "start_time": "2025-02-05T16:35:11.594Z"
   },
   {
    "duration": 88,
    "start_time": "2025-02-05T16:35:11.611Z"
   },
   {
    "duration": 22,
    "start_time": "2025-02-05T16:35:11.701Z"
   },
   {
    "duration": 6,
    "start_time": "2025-02-05T16:35:11.725Z"
   },
   {
    "duration": 7,
    "start_time": "2025-02-05T16:35:11.734Z"
   },
   {
    "duration": 46,
    "start_time": "2025-02-05T16:35:11.743Z"
   },
   {
    "duration": 22,
    "start_time": "2025-02-05T16:35:11.791Z"
   },
   {
    "duration": 14,
    "start_time": "2025-02-05T16:35:11.815Z"
   },
   {
    "duration": 62,
    "start_time": "2025-02-05T16:35:11.831Z"
   },
   {
    "duration": 25,
    "start_time": "2025-02-05T16:35:11.895Z"
   },
   {
    "duration": 3,
    "start_time": "2025-02-05T16:36:41.994Z"
   },
   {
    "duration": 101,
    "start_time": "2025-02-05T16:36:41.999Z"
   },
   {
    "duration": 18,
    "start_time": "2025-02-05T16:36:42.103Z"
   },
   {
    "duration": 16,
    "start_time": "2025-02-05T16:36:42.123Z"
   },
   {
    "duration": 42,
    "start_time": "2025-02-05T16:36:42.142Z"
   },
   {
    "duration": 14,
    "start_time": "2025-02-05T16:36:42.186Z"
   },
   {
    "duration": 12,
    "start_time": "2025-02-05T16:36:42.202Z"
   },
   {
    "duration": 5,
    "start_time": "2025-02-05T16:36:42.216Z"
   },
   {
    "duration": 19,
    "start_time": "2025-02-05T16:36:42.223Z"
   },
   {
    "duration": 8,
    "start_time": "2025-02-05T16:36:42.275Z"
   },
   {
    "duration": 24,
    "start_time": "2025-02-05T16:36:42.287Z"
   },
   {
    "duration": 21,
    "start_time": "2025-02-05T16:36:42.313Z"
   },
   {
    "duration": 59,
    "start_time": "2025-02-05T16:36:42.336Z"
   },
   {
    "duration": 24,
    "start_time": "2025-02-05T16:36:42.397Z"
   },
   {
    "duration": 6,
    "start_time": "2025-02-05T16:36:42.423Z"
   },
   {
    "duration": 9,
    "start_time": "2025-02-05T16:36:42.431Z"
   },
   {
    "duration": 12,
    "start_time": "2025-02-05T16:36:42.441Z"
   },
   {
    "duration": 81,
    "start_time": "2025-02-05T16:36:42.455Z"
   },
   {
    "duration": 6,
    "start_time": "2025-02-05T16:36:42.537Z"
   },
   {
    "duration": 86,
    "start_time": "2025-02-05T16:36:42.545Z"
   },
   {
    "duration": 15,
    "start_time": "2025-02-05T16:36:42.633Z"
   },
   {
    "duration": 13,
    "start_time": "2025-02-05T16:36:42.650Z"
   },
   {
    "duration": 23,
    "start_time": "2025-02-05T16:36:42.665Z"
   },
   {
    "duration": 13,
    "start_time": "2025-02-05T16:36:42.690Z"
   },
   {
    "duration": 16,
    "start_time": "2025-02-05T16:36:42.705Z"
   },
   {
    "duration": 81,
    "start_time": "2025-02-05T16:36:42.723Z"
   },
   {
    "duration": 23,
    "start_time": "2025-02-05T16:36:42.806Z"
   },
   {
    "duration": 6,
    "start_time": "2025-02-05T16:36:42.831Z"
   },
   {
    "duration": 6,
    "start_time": "2025-02-05T16:36:42.840Z"
   },
   {
    "duration": 19,
    "start_time": "2025-02-05T16:36:42.874Z"
   },
   {
    "duration": 72,
    "start_time": "2025-02-05T16:36:42.895Z"
   },
   {
    "duration": 13,
    "start_time": "2025-02-05T16:36:42.969Z"
   },
   {
    "duration": 29,
    "start_time": "2025-02-05T16:36:42.983Z"
   },
   {
    "duration": 22,
    "start_time": "2025-02-05T16:36:43.013Z"
   },
   {
    "duration": 883,
    "start_time": "2025-02-06T07:26:04.472Z"
   },
   {
    "duration": 148,
    "start_time": "2025-02-06T07:26:05.358Z"
   },
   {
    "duration": 19,
    "start_time": "2025-02-06T07:26:05.508Z"
   },
   {
    "duration": 28,
    "start_time": "2025-02-06T07:26:05.529Z"
   },
   {
    "duration": 13,
    "start_time": "2025-02-06T07:26:05.559Z"
   },
   {
    "duration": 24,
    "start_time": "2025-02-06T07:26:05.574Z"
   },
   {
    "duration": 13,
    "start_time": "2025-02-06T07:26:05.600Z"
   },
   {
    "duration": 6,
    "start_time": "2025-02-06T07:26:05.632Z"
   },
   {
    "duration": 33,
    "start_time": "2025-02-06T07:26:05.640Z"
   },
   {
    "duration": 10,
    "start_time": "2025-02-06T07:26:05.675Z"
   },
   {
    "duration": 33,
    "start_time": "2025-02-06T07:26:05.687Z"
   },
   {
    "duration": 30,
    "start_time": "2025-02-06T07:26:05.722Z"
   },
   {
    "duration": 30,
    "start_time": "2025-02-06T07:26:05.753Z"
   },
   {
    "duration": 11,
    "start_time": "2025-02-06T07:26:05.784Z"
   },
   {
    "duration": 34,
    "start_time": "2025-02-06T07:26:05.797Z"
   },
   {
    "duration": 43,
    "start_time": "2025-02-06T07:26:05.834Z"
   },
   {
    "duration": 18,
    "start_time": "2025-02-06T07:26:05.879Z"
   },
   {
    "duration": 35,
    "start_time": "2025-02-06T07:26:05.899Z"
   },
   {
    "duration": 30,
    "start_time": "2025-02-06T07:26:05.936Z"
   },
   {
    "duration": 8,
    "start_time": "2025-02-06T07:26:05.967Z"
   },
   {
    "duration": 23,
    "start_time": "2025-02-06T07:26:05.977Z"
   },
   {
    "duration": 37,
    "start_time": "2025-02-06T07:26:06.001Z"
   },
   {
    "duration": 28,
    "start_time": "2025-02-06T07:26:06.040Z"
   },
   {
    "duration": 45,
    "start_time": "2025-02-06T07:26:06.070Z"
   },
   {
    "duration": 34,
    "start_time": "2025-02-06T07:26:06.117Z"
   },
   {
    "duration": 65,
    "start_time": "2025-02-06T07:26:06.154Z"
   },
   {
    "duration": 29,
    "start_time": "2025-02-06T07:26:06.236Z"
   },
   {
    "duration": 20,
    "start_time": "2025-02-06T07:26:06.267Z"
   },
   {
    "duration": 727,
    "start_time": "2025-02-06T07:32:43.441Z"
   },
   {
    "duration": 119,
    "start_time": "2025-02-06T07:32:44.170Z"
   },
   {
    "duration": 17,
    "start_time": "2025-02-06T07:32:44.291Z"
   },
   {
    "duration": 49,
    "start_time": "2025-02-06T07:32:44.310Z"
   },
   {
    "duration": 28,
    "start_time": "2025-02-06T07:32:44.361Z"
   },
   {
    "duration": 34,
    "start_time": "2025-02-06T07:32:44.391Z"
   },
   {
    "duration": 20,
    "start_time": "2025-02-06T07:32:44.427Z"
   },
   {
    "duration": 4,
    "start_time": "2025-02-06T07:32:44.449Z"
   },
   {
    "duration": 7,
    "start_time": "2025-02-06T07:32:44.455Z"
   },
   {
    "duration": 8,
    "start_time": "2025-02-06T07:32:44.463Z"
   },
   {
    "duration": 21,
    "start_time": "2025-02-06T07:32:44.473Z"
   },
   {
    "duration": 55,
    "start_time": "2025-02-06T07:32:44.496Z"
   },
   {
    "duration": 25,
    "start_time": "2025-02-06T07:32:44.553Z"
   },
   {
    "duration": 10,
    "start_time": "2025-02-06T07:32:44.581Z"
   },
   {
    "duration": 40,
    "start_time": "2025-02-06T07:32:44.593Z"
   },
   {
    "duration": 19,
    "start_time": "2025-02-06T07:32:44.635Z"
   },
   {
    "duration": 51,
    "start_time": "2025-02-06T07:32:44.656Z"
   },
   {
    "duration": 20,
    "start_time": "2025-02-06T07:32:44.708Z"
   },
   {
    "duration": 12,
    "start_time": "2025-02-06T07:32:44.729Z"
   },
   {
    "duration": 9,
    "start_time": "2025-02-06T07:32:44.743Z"
   },
   {
    "duration": 15,
    "start_time": "2025-02-06T07:32:44.754Z"
   },
   {
    "duration": 14,
    "start_time": "2025-02-06T07:32:44.771Z"
   },
   {
    "duration": 50,
    "start_time": "2025-02-06T07:32:44.786Z"
   },
   {
    "duration": 16,
    "start_time": "2025-02-06T07:32:44.840Z"
   },
   {
    "duration": 17,
    "start_time": "2025-02-06T07:32:44.858Z"
   },
   {
    "duration": 107,
    "start_time": "2025-02-06T07:32:44.877Z"
   },
   {
    "duration": 24,
    "start_time": "2025-02-06T07:32:44.986Z"
   },
   {
    "duration": 22,
    "start_time": "2025-02-06T07:32:45.012Z"
   },
   {
    "duration": 38,
    "start_time": "2025-02-06T07:32:45.036Z"
   },
   {
    "duration": 33,
    "start_time": "2025-02-06T07:32:45.075Z"
   },
   {
    "duration": 78,
    "start_time": "2025-02-06T07:32:45.109Z"
   },
   {
    "duration": 55,
    "start_time": "2025-02-06T07:32:45.189Z"
   },
   {
    "duration": 29,
    "start_time": "2025-02-06T07:32:45.247Z"
   },
   {
    "duration": 37,
    "start_time": "2025-02-06T07:32:45.278Z"
   },
   {
    "duration": 35,
    "start_time": "2025-02-06T07:32:45.316Z"
   },
   {
    "duration": 836,
    "start_time": "2025-02-06T08:29:51.164Z"
   },
   {
    "duration": 125,
    "start_time": "2025-02-06T08:29:52.003Z"
   },
   {
    "duration": 18,
    "start_time": "2025-02-06T08:29:52.130Z"
   },
   {
    "duration": 34,
    "start_time": "2025-02-06T08:29:52.150Z"
   },
   {
    "duration": 15,
    "start_time": "2025-02-06T08:29:52.186Z"
   },
   {
    "duration": 33,
    "start_time": "2025-02-06T08:29:52.202Z"
   },
   {
    "duration": 25,
    "start_time": "2025-02-06T08:29:52.237Z"
   },
   {
    "duration": 19,
    "start_time": "2025-02-06T08:29:52.264Z"
   },
   {
    "duration": 88,
    "start_time": "2025-02-06T08:29:52.284Z"
   },
   {
    "duration": 25,
    "start_time": "2025-02-06T08:29:52.373Z"
   },
   {
    "duration": 45,
    "start_time": "2025-02-06T08:29:52.400Z"
   },
   {
    "duration": 24,
    "start_time": "2025-02-06T08:29:52.446Z"
   },
   {
    "duration": 117,
    "start_time": "2025-02-06T08:29:52.472Z"
   },
   {
    "duration": 20,
    "start_time": "2025-02-06T08:29:52.591Z"
   },
   {
    "duration": 20,
    "start_time": "2025-02-06T08:29:52.612Z"
   },
   {
    "duration": 61,
    "start_time": "2025-02-06T08:29:52.634Z"
   },
   {
    "duration": 0,
    "start_time": "2025-02-06T08:29:52.696Z"
   },
   {
    "duration": 0,
    "start_time": "2025-02-06T08:29:52.698Z"
   },
   {
    "duration": 0,
    "start_time": "2025-02-06T08:29:52.699Z"
   },
   {
    "duration": 0,
    "start_time": "2025-02-06T08:29:52.700Z"
   },
   {
    "duration": 0,
    "start_time": "2025-02-06T08:29:52.701Z"
   },
   {
    "duration": 0,
    "start_time": "2025-02-06T08:29:52.702Z"
   },
   {
    "duration": 0,
    "start_time": "2025-02-06T08:29:52.703Z"
   },
   {
    "duration": 0,
    "start_time": "2025-02-06T08:29:52.705Z"
   },
   {
    "duration": 0,
    "start_time": "2025-02-06T08:29:52.706Z"
   },
   {
    "duration": 0,
    "start_time": "2025-02-06T08:29:52.707Z"
   },
   {
    "duration": 0,
    "start_time": "2025-02-06T08:29:52.708Z"
   },
   {
    "duration": 0,
    "start_time": "2025-02-06T08:29:52.709Z"
   },
   {
    "duration": 0,
    "start_time": "2025-02-06T08:29:52.710Z"
   },
   {
    "duration": 0,
    "start_time": "2025-02-06T08:29:52.711Z"
   },
   {
    "duration": 0,
    "start_time": "2025-02-06T08:29:52.712Z"
   },
   {
    "duration": 0,
    "start_time": "2025-02-06T08:29:52.714Z"
   },
   {
    "duration": 1,
    "start_time": "2025-02-06T08:29:52.714Z"
   },
   {
    "duration": 0,
    "start_time": "2025-02-06T08:29:52.715Z"
   },
   {
    "duration": 0,
    "start_time": "2025-02-06T08:29:52.717Z"
   },
   {
    "duration": 0,
    "start_time": "2025-02-06T08:29:52.718Z"
   },
   {
    "duration": 59,
    "start_time": "2025-02-06T08:31:59.776Z"
   },
   {
    "duration": 10,
    "start_time": "2025-02-06T08:32:37.573Z"
   },
   {
    "duration": 9,
    "start_time": "2025-02-06T08:32:49.376Z"
   },
   {
    "duration": 9,
    "start_time": "2025-02-06T08:32:57.381Z"
   },
   {
    "duration": 11,
    "start_time": "2025-02-06T08:36:22.286Z"
   },
   {
    "duration": 15,
    "start_time": "2025-02-06T08:36:48.095Z"
   },
   {
    "duration": 6,
    "start_time": "2025-02-06T08:36:55.296Z"
   },
   {
    "duration": 2,
    "start_time": "2025-02-06T08:36:57.323Z"
   },
   {
    "duration": 109,
    "start_time": "2025-02-06T08:36:57.327Z"
   },
   {
    "duration": 15,
    "start_time": "2025-02-06T08:36:57.438Z"
   },
   {
    "duration": 25,
    "start_time": "2025-02-06T08:36:57.455Z"
   },
   {
    "duration": 27,
    "start_time": "2025-02-06T08:36:57.482Z"
   },
   {
    "duration": 18,
    "start_time": "2025-02-06T08:36:57.511Z"
   },
   {
    "duration": 15,
    "start_time": "2025-02-06T08:36:57.530Z"
   },
   {
    "duration": 7,
    "start_time": "2025-02-06T08:36:57.546Z"
   },
   {
    "duration": 6,
    "start_time": "2025-02-06T08:36:57.555Z"
   },
   {
    "duration": 6,
    "start_time": "2025-02-06T08:36:57.562Z"
   },
   {
    "duration": 24,
    "start_time": "2025-02-06T08:36:57.602Z"
   },
   {
    "duration": 19,
    "start_time": "2025-02-06T08:36:57.628Z"
   },
   {
    "duration": 22,
    "start_time": "2025-02-06T08:36:57.649Z"
   },
   {
    "duration": 36,
    "start_time": "2025-02-06T08:36:57.672Z"
   },
   {
    "duration": 2,
    "start_time": "2025-02-06T08:36:57.710Z"
   },
   {
    "duration": 12,
    "start_time": "2025-02-06T08:36:57.714Z"
   },
   {
    "duration": 8,
    "start_time": "2025-02-06T08:36:57.728Z"
   },
   {
    "duration": 10,
    "start_time": "2025-02-06T08:36:57.737Z"
   },
   {
    "duration": 16,
    "start_time": "2025-02-06T08:36:57.748Z"
   },
   {
    "duration": 39,
    "start_time": "2025-02-06T08:36:57.766Z"
   },
   {
    "duration": 8,
    "start_time": "2025-02-06T08:36:57.808Z"
   },
   {
    "duration": 13,
    "start_time": "2025-02-06T08:36:57.817Z"
   },
   {
    "duration": 11,
    "start_time": "2025-02-06T08:36:57.831Z"
   },
   {
    "duration": 20,
    "start_time": "2025-02-06T08:36:57.844Z"
   },
   {
    "duration": 50,
    "start_time": "2025-02-06T08:36:57.865Z"
   },
   {
    "duration": 39,
    "start_time": "2025-02-06T08:36:57.917Z"
   },
   {
    "duration": 79,
    "start_time": "2025-02-06T08:36:57.957Z"
   },
   {
    "duration": 19,
    "start_time": "2025-02-06T08:36:58.037Z"
   },
   {
    "duration": 6,
    "start_time": "2025-02-06T08:36:58.059Z"
   },
   {
    "duration": 5,
    "start_time": "2025-02-06T08:36:58.066Z"
   },
   {
    "duration": 8,
    "start_time": "2025-02-06T08:36:58.072Z"
   },
   {
    "duration": 23,
    "start_time": "2025-02-06T08:36:58.099Z"
   },
   {
    "duration": 18,
    "start_time": "2025-02-06T08:36:58.123Z"
   },
   {
    "duration": 13,
    "start_time": "2025-02-06T08:36:58.143Z"
   },
   {
    "duration": 44,
    "start_time": "2025-02-06T08:36:58.158Z"
   },
   {
    "duration": 20,
    "start_time": "2025-02-06T08:36:58.204Z"
   },
   {
    "duration": 50,
    "start_time": "2025-02-06T08:39:32.948Z"
   },
   {
    "duration": 5,
    "start_time": "2025-02-06T08:40:33.275Z"
   },
   {
    "duration": 51,
    "start_time": "2025-02-06T08:41:02.664Z"
   },
   {
    "duration": 61,
    "start_time": "2025-02-06T13:41:27.965Z"
   },
   {
    "duration": 947,
    "start_time": "2025-02-06T13:42:00.363Z"
   },
   {
    "duration": 121,
    "start_time": "2025-02-06T13:42:01.312Z"
   },
   {
    "duration": 21,
    "start_time": "2025-02-06T13:42:01.435Z"
   },
   {
    "duration": 58,
    "start_time": "2025-02-06T13:42:01.458Z"
   },
   {
    "duration": 13,
    "start_time": "2025-02-06T13:42:01.518Z"
   },
   {
    "duration": 14,
    "start_time": "2025-02-06T13:42:01.532Z"
   },
   {
    "duration": 33,
    "start_time": "2025-02-06T13:42:01.548Z"
   },
   {
    "duration": 11,
    "start_time": "2025-02-06T13:42:01.583Z"
   },
   {
    "duration": 26,
    "start_time": "2025-02-06T13:42:01.595Z"
   },
   {
    "duration": 17,
    "start_time": "2025-02-06T13:42:01.622Z"
   },
   {
    "duration": 43,
    "start_time": "2025-02-06T13:42:01.642Z"
   },
   {
    "duration": 46,
    "start_time": "2025-02-06T13:42:01.687Z"
   },
   {
    "duration": 73,
    "start_time": "2025-02-06T13:42:01.735Z"
   },
   {
    "duration": 20,
    "start_time": "2025-02-06T13:42:01.811Z"
   },
   {
    "duration": 85,
    "start_time": "2025-02-06T13:42:01.833Z"
   },
   {
    "duration": 13,
    "start_time": "2025-02-06T13:42:01.920Z"
   },
   {
    "duration": 11,
    "start_time": "2025-02-06T13:42:01.935Z"
   },
   {
    "duration": 33,
    "start_time": "2025-02-06T13:42:01.948Z"
   },
   {
    "duration": 110,
    "start_time": "2025-02-06T13:42:01.983Z"
   },
   {
    "duration": 8,
    "start_time": "2025-02-06T13:42:02.095Z"
   },
   {
    "duration": 20,
    "start_time": "2025-02-06T13:42:02.104Z"
   },
   {
    "duration": 32,
    "start_time": "2025-02-06T13:42:02.125Z"
   },
   {
    "duration": 31,
    "start_time": "2025-02-06T13:42:02.159Z"
   },
   {
    "duration": 51,
    "start_time": "2025-02-06T13:42:02.191Z"
   },
   {
    "duration": 38,
    "start_time": "2025-02-06T13:42:02.244Z"
   },
   {
    "duration": 16,
    "start_time": "2025-02-06T13:42:02.284Z"
   },
   {
    "duration": 71,
    "start_time": "2025-02-06T13:42:02.302Z"
   },
   {
    "duration": 24,
    "start_time": "2025-02-06T13:42:02.375Z"
   },
   {
    "duration": 25,
    "start_time": "2025-02-06T13:42:02.401Z"
   },
   {
    "duration": 8,
    "start_time": "2025-02-06T13:42:02.427Z"
   },
   {
    "duration": 56,
    "start_time": "2025-02-06T13:42:02.437Z"
   },
   {
    "duration": 55,
    "start_time": "2025-02-06T13:42:02.495Z"
   },
   {
    "duration": 49,
    "start_time": "2025-02-06T13:42:02.552Z"
   },
   {
    "duration": 34,
    "start_time": "2025-02-06T13:42:02.603Z"
   },
   {
    "duration": 31,
    "start_time": "2025-02-06T13:42:02.639Z"
   },
   {
    "duration": 26,
    "start_time": "2025-02-06T13:42:02.672Z"
   },
   {
    "duration": 7,
    "start_time": "2025-02-06T13:43:28.166Z"
   },
   {
    "duration": 11,
    "start_time": "2025-02-06T13:44:17.097Z"
   },
   {
    "duration": 11,
    "start_time": "2025-02-06T13:44:45.213Z"
   },
   {
    "duration": 6,
    "start_time": "2025-02-06T13:44:57.995Z"
   },
   {
    "duration": 6,
    "start_time": "2025-02-06T13:46:05.754Z"
   },
   {
    "duration": 1042,
    "start_time": "2025-02-06T13:46:46.785Z"
   },
   {
    "duration": 19,
    "start_time": "2025-02-06T14:25:19.914Z"
   },
   {
    "duration": 6,
    "start_time": "2025-02-06T14:25:36.887Z"
   },
   {
    "duration": 9,
    "start_time": "2025-02-06T14:27:58.578Z"
   },
   {
    "duration": 23,
    "start_time": "2025-02-06T14:28:05.618Z"
   },
   {
    "duration": 23,
    "start_time": "2025-02-06T14:29:15.026Z"
   },
   {
    "duration": 20,
    "start_time": "2025-02-06T14:31:04.720Z"
   },
   {
    "duration": 68,
    "start_time": "2025-02-06T14:31:18.325Z"
   },
   {
    "duration": 18,
    "start_time": "2025-02-06T14:31:29.703Z"
   },
   {
    "duration": 20,
    "start_time": "2025-02-06T14:34:03.088Z"
   },
   {
    "duration": 25,
    "start_time": "2025-02-06T14:34:05.742Z"
   },
   {
    "duration": 16,
    "start_time": "2025-02-06T14:36:35.577Z"
   },
   {
    "duration": 18,
    "start_time": "2025-02-06T14:36:48.385Z"
   },
   {
    "duration": 14,
    "start_time": "2025-02-06T14:37:54.657Z"
   },
   {
    "duration": 13,
    "start_time": "2025-02-06T14:38:01.549Z"
   },
   {
    "duration": 5,
    "start_time": "2025-02-06T14:38:14.749Z"
   },
   {
    "duration": 13,
    "start_time": "2025-02-06T14:39:04.970Z"
   },
   {
    "duration": 8,
    "start_time": "2025-02-06T14:39:11.242Z"
   },
   {
    "duration": 3,
    "start_time": "2025-02-06T14:39:20.301Z"
   },
   {
    "duration": 130,
    "start_time": "2025-02-06T14:39:20.306Z"
   },
   {
    "duration": 19,
    "start_time": "2025-02-06T14:39:20.439Z"
   },
   {
    "duration": 28,
    "start_time": "2025-02-06T14:39:20.460Z"
   },
   {
    "duration": 14,
    "start_time": "2025-02-06T14:39:20.491Z"
   },
   {
    "duration": 18,
    "start_time": "2025-02-06T14:39:20.507Z"
   },
   {
    "duration": 16,
    "start_time": "2025-02-06T14:39:20.527Z"
   },
   {
    "duration": 27,
    "start_time": "2025-02-06T14:39:20.546Z"
   },
   {
    "duration": 7,
    "start_time": "2025-02-06T14:39:20.575Z"
   },
   {
    "duration": 9,
    "start_time": "2025-02-06T14:39:20.584Z"
   },
   {
    "duration": 25,
    "start_time": "2025-02-06T14:39:20.596Z"
   },
   {
    "duration": 52,
    "start_time": "2025-02-06T14:39:20.622Z"
   },
   {
    "duration": 26,
    "start_time": "2025-02-06T14:39:20.676Z"
   },
   {
    "duration": 10,
    "start_time": "2025-02-06T14:39:20.704Z"
   },
   {
    "duration": 41,
    "start_time": "2025-02-06T14:39:20.716Z"
   },
   {
    "duration": 23,
    "start_time": "2025-02-06T14:39:20.759Z"
   },
   {
    "duration": 20,
    "start_time": "2025-02-06T14:39:20.784Z"
   },
   {
    "duration": 32,
    "start_time": "2025-02-06T14:39:20.805Z"
   },
   {
    "duration": 21,
    "start_time": "2025-02-06T14:39:20.838Z"
   },
   {
    "duration": 7,
    "start_time": "2025-02-06T14:39:20.861Z"
   },
   {
    "duration": 19,
    "start_time": "2025-02-06T14:39:20.870Z"
   },
   {
    "duration": 20,
    "start_time": "2025-02-06T14:39:20.891Z"
   },
   {
    "duration": 15,
    "start_time": "2025-02-06T14:39:20.913Z"
   },
   {
    "duration": 33,
    "start_time": "2025-02-06T14:39:20.929Z"
   },
   {
    "duration": 7,
    "start_time": "2025-02-06T14:39:20.971Z"
   },
   {
    "duration": 30,
    "start_time": "2025-02-06T14:39:20.980Z"
   },
   {
    "duration": 12,
    "start_time": "2025-02-06T14:39:21.012Z"
   },
   {
    "duration": 17,
    "start_time": "2025-02-06T14:39:21.026Z"
   },
   {
    "duration": 60,
    "start_time": "2025-02-06T14:39:21.071Z"
   },
   {
    "duration": 40,
    "start_time": "2025-02-06T14:39:21.133Z"
   },
   {
    "duration": 9,
    "start_time": "2025-02-06T14:39:21.175Z"
   },
   {
    "duration": 5,
    "start_time": "2025-02-06T14:39:21.186Z"
   },
   {
    "duration": 29,
    "start_time": "2025-02-06T14:39:21.193Z"
   },
   {
    "duration": 28,
    "start_time": "2025-02-06T14:39:21.224Z"
   },
   {
    "duration": 34,
    "start_time": "2025-02-06T14:39:21.254Z"
   },
   {
    "duration": 13,
    "start_time": "2025-02-06T14:39:21.290Z"
   },
   {
    "duration": 39,
    "start_time": "2025-02-06T14:39:21.305Z"
   },
   {
    "duration": 44,
    "start_time": "2025-02-06T14:39:21.345Z"
   },
   {
    "duration": 166,
    "start_time": "2025-02-06T14:42:41.008Z"
   },
   {
    "duration": 57,
    "start_time": "2025-02-06T14:43:06.930Z"
   },
   {
    "duration": 60,
    "start_time": "2025-02-06T14:45:38.005Z"
   },
   {
    "duration": 744,
    "start_time": "2025-02-06T14:47:13.352Z"
   },
   {
    "duration": 126,
    "start_time": "2025-02-06T14:47:14.099Z"
   },
   {
    "duration": 20,
    "start_time": "2025-02-06T14:47:14.227Z"
   },
   {
    "duration": 23,
    "start_time": "2025-02-06T14:47:14.249Z"
   },
   {
    "duration": 13,
    "start_time": "2025-02-06T14:47:14.274Z"
   },
   {
    "duration": 15,
    "start_time": "2025-02-06T14:47:14.290Z"
   },
   {
    "duration": 13,
    "start_time": "2025-02-06T14:47:14.306Z"
   },
   {
    "duration": 34,
    "start_time": "2025-02-06T14:47:14.321Z"
   },
   {
    "duration": 16,
    "start_time": "2025-02-06T14:47:14.357Z"
   },
   {
    "duration": 6,
    "start_time": "2025-02-06T14:47:14.376Z"
   },
   {
    "duration": 23,
    "start_time": "2025-02-06T14:47:14.384Z"
   },
   {
    "duration": 22,
    "start_time": "2025-02-06T14:47:14.409Z"
   },
   {
    "duration": 60,
    "start_time": "2025-02-06T14:47:14.433Z"
   },
   {
    "duration": 11,
    "start_time": "2025-02-06T14:47:14.495Z"
   },
   {
    "duration": 2,
    "start_time": "2025-02-06T14:47:14.508Z"
   },
   {
    "duration": 12,
    "start_time": "2025-02-06T14:47:14.512Z"
   },
   {
    "duration": 11,
    "start_time": "2025-02-06T14:47:14.526Z"
   },
   {
    "duration": 43,
    "start_time": "2025-02-06T14:47:14.539Z"
   },
   {
    "duration": 17,
    "start_time": "2025-02-06T14:47:14.584Z"
   },
   {
    "duration": 7,
    "start_time": "2025-02-06T14:47:14.603Z"
   },
   {
    "duration": 7,
    "start_time": "2025-02-06T14:47:14.612Z"
   },
   {
    "duration": 52,
    "start_time": "2025-02-06T14:47:14.621Z"
   },
   {
    "duration": 13,
    "start_time": "2025-02-06T14:47:14.675Z"
   },
   {
    "duration": 19,
    "start_time": "2025-02-06T14:47:14.690Z"
   },
   {
    "duration": 7,
    "start_time": "2025-02-06T14:47:14.710Z"
   },
   {
    "duration": 56,
    "start_time": "2025-02-06T14:47:14.719Z"
   },
   {
    "duration": 13,
    "start_time": "2025-02-06T14:47:14.777Z"
   },
   {
    "duration": 16,
    "start_time": "2025-02-06T14:47:14.794Z"
   },
   {
    "duration": 84,
    "start_time": "2025-02-06T14:47:14.812Z"
   },
   {
    "duration": 26,
    "start_time": "2025-02-06T14:47:14.898Z"
   },
   {
    "duration": 8,
    "start_time": "2025-02-06T14:47:14.926Z"
   },
   {
    "duration": 5,
    "start_time": "2025-02-06T14:47:14.936Z"
   },
   {
    "duration": 34,
    "start_time": "2025-02-06T14:47:14.943Z"
   },
   {
    "duration": 24,
    "start_time": "2025-02-06T14:47:14.979Z"
   },
   {
    "duration": 79,
    "start_time": "2025-02-06T14:47:15.005Z"
   },
   {
    "duration": 66,
    "start_time": "2025-02-06T14:47:15.085Z"
   },
   {
    "duration": 62,
    "start_time": "2025-02-06T14:47:15.153Z"
   },
   {
    "duration": 32,
    "start_time": "2025-02-06T14:47:15.216Z"
   },
   {
    "duration": 3,
    "start_time": "2025-02-06T14:56:26.744Z"
   },
   {
    "duration": 3,
    "start_time": "2025-02-06T15:03:18.013Z"
   },
   {
    "duration": 132,
    "start_time": "2025-02-06T15:03:18.018Z"
   },
   {
    "duration": 19,
    "start_time": "2025-02-06T15:03:18.153Z"
   },
   {
    "duration": 29,
    "start_time": "2025-02-06T15:03:18.175Z"
   },
   {
    "duration": 17,
    "start_time": "2025-02-06T15:03:18.207Z"
   },
   {
    "duration": 50,
    "start_time": "2025-02-06T15:03:18.226Z"
   },
   {
    "duration": 14,
    "start_time": "2025-02-06T15:03:18.278Z"
   },
   {
    "duration": 7,
    "start_time": "2025-02-06T15:03:18.295Z"
   },
   {
    "duration": 15,
    "start_time": "2025-02-06T15:03:18.305Z"
   },
   {
    "duration": 8,
    "start_time": "2025-02-06T15:03:18.323Z"
   },
   {
    "duration": 24,
    "start_time": "2025-02-06T15:03:18.372Z"
   },
   {
    "duration": 24,
    "start_time": "2025-02-06T15:03:18.399Z"
   },
   {
    "duration": 60,
    "start_time": "2025-02-06T15:03:18.425Z"
   },
   {
    "duration": 11,
    "start_time": "2025-02-06T15:03:18.487Z"
   },
   {
    "duration": 10,
    "start_time": "2025-02-06T15:03:18.500Z"
   },
   {
    "duration": 15,
    "start_time": "2025-02-06T15:03:18.512Z"
   },
   {
    "duration": 15,
    "start_time": "2025-02-06T15:03:18.529Z"
   },
   {
    "duration": 31,
    "start_time": "2025-02-06T15:03:18.546Z"
   },
   {
    "duration": 27,
    "start_time": "2025-02-06T15:03:18.579Z"
   },
   {
    "duration": 8,
    "start_time": "2025-02-06T15:03:18.608Z"
   },
   {
    "duration": 13,
    "start_time": "2025-02-06T15:03:18.617Z"
   },
   {
    "duration": 23,
    "start_time": "2025-02-06T15:03:18.632Z"
   },
   {
    "duration": 27,
    "start_time": "2025-02-06T15:03:18.657Z"
   },
   {
    "duration": 19,
    "start_time": "2025-02-06T15:03:18.686Z"
   },
   {
    "duration": 8,
    "start_time": "2025-02-06T15:03:18.706Z"
   },
   {
    "duration": 59,
    "start_time": "2025-02-06T15:03:18.716Z"
   },
   {
    "duration": 14,
    "start_time": "2025-02-06T15:03:18.777Z"
   },
   {
    "duration": 18,
    "start_time": "2025-02-06T15:03:18.793Z"
   },
   {
    "duration": 87,
    "start_time": "2025-02-06T15:03:18.814Z"
   },
   {
    "duration": 26,
    "start_time": "2025-02-06T15:03:18.903Z"
   },
   {
    "duration": 8,
    "start_time": "2025-02-06T15:03:18.930Z"
   },
   {
    "duration": 15,
    "start_time": "2025-02-06T15:03:18.940Z"
   },
   {
    "duration": 2,
    "start_time": "2025-02-06T15:03:18.973Z"
   },
   {
    "duration": 77,
    "start_time": "2025-02-06T15:03:18.977Z"
   },
   {
    "duration": 0,
    "start_time": "2025-02-06T15:03:19.056Z"
   },
   {
    "duration": 0,
    "start_time": "2025-02-06T15:03:19.057Z"
   },
   {
    "duration": 0,
    "start_time": "2025-02-06T15:03:19.058Z"
   },
   {
    "duration": 0,
    "start_time": "2025-02-06T15:03:19.060Z"
   },
   {
    "duration": 0,
    "start_time": "2025-02-06T15:03:19.061Z"
   },
   {
    "duration": 397,
    "start_time": "2025-02-06T15:04:10.119Z"
   },
   {
    "duration": 23,
    "start_time": "2025-02-06T15:06:47.137Z"
   },
   {
    "duration": 20,
    "start_time": "2025-02-06T15:07:10.526Z"
   },
   {
    "duration": 1002,
    "start_time": "2025-02-06T15:07:36.666Z"
   },
   {
    "duration": 242,
    "start_time": "2025-02-06T15:10:10.912Z"
   },
   {
    "duration": 53,
    "start_time": "2025-02-06T22:29:31.433Z"
   },
   {
    "duration": 6,
    "start_time": "2025-02-06T22:33:52.910Z"
   },
   {
    "duration": 7,
    "start_time": "2025-02-06T22:36:36.422Z"
   },
   {
    "duration": 6,
    "start_time": "2025-02-06T22:36:55.281Z"
   },
   {
    "duration": 7,
    "start_time": "2025-02-06T22:37:36.791Z"
   },
   {
    "duration": 7,
    "start_time": "2025-02-06T22:40:14.345Z"
   },
   {
    "duration": 6,
    "start_time": "2025-02-06T22:40:42.033Z"
   },
   {
    "duration": 809,
    "start_time": "2025-02-06T22:40:51.907Z"
   },
   {
    "duration": 143,
    "start_time": "2025-02-06T22:40:52.718Z"
   },
   {
    "duration": 18,
    "start_time": "2025-02-06T22:40:52.872Z"
   },
   {
    "duration": 19,
    "start_time": "2025-02-06T22:40:52.892Z"
   },
   {
    "duration": 12,
    "start_time": "2025-02-06T22:40:52.912Z"
   },
   {
    "duration": 14,
    "start_time": "2025-02-06T22:40:52.926Z"
   },
   {
    "duration": 30,
    "start_time": "2025-02-06T22:40:52.941Z"
   },
   {
    "duration": 5,
    "start_time": "2025-02-06T22:40:52.973Z"
   },
   {
    "duration": 10,
    "start_time": "2025-02-06T22:40:52.979Z"
   },
   {
    "duration": 5,
    "start_time": "2025-02-06T22:40:52.991Z"
   },
   {
    "duration": 19,
    "start_time": "2025-02-06T22:40:52.998Z"
   },
   {
    "duration": 47,
    "start_time": "2025-02-06T22:40:53.019Z"
   },
   {
    "duration": 30,
    "start_time": "2025-02-06T22:40:53.068Z"
   },
   {
    "duration": 8,
    "start_time": "2025-02-06T22:40:53.100Z"
   },
   {
    "duration": 3,
    "start_time": "2025-02-06T22:40:53.109Z"
   },
   {
    "duration": 11,
    "start_time": "2025-02-06T22:40:53.113Z"
   },
   {
    "duration": 41,
    "start_time": "2025-02-06T22:40:53.125Z"
   },
   {
    "duration": 10,
    "start_time": "2025-02-06T22:40:53.173Z"
   },
   {
    "duration": 15,
    "start_time": "2025-02-06T22:40:53.185Z"
   },
   {
    "duration": 6,
    "start_time": "2025-02-06T22:40:53.202Z"
   },
   {
    "duration": 17,
    "start_time": "2025-02-06T22:40:53.210Z"
   },
   {
    "duration": 33,
    "start_time": "2025-02-06T22:40:53.228Z"
   },
   {
    "duration": 16,
    "start_time": "2025-02-06T22:40:53.264Z"
   },
   {
    "duration": 15,
    "start_time": "2025-02-06T22:40:53.282Z"
   },
   {
    "duration": 5,
    "start_time": "2025-02-06T22:40:53.298Z"
   },
   {
    "duration": 23,
    "start_time": "2025-02-06T22:40:53.305Z"
   },
   {
    "duration": 35,
    "start_time": "2025-02-06T22:40:53.330Z"
   },
   {
    "duration": 19,
    "start_time": "2025-02-06T22:40:53.369Z"
   },
   {
    "duration": 47,
    "start_time": "2025-02-06T22:40:53.390Z"
   },
   {
    "duration": 24,
    "start_time": "2025-02-06T22:40:53.464Z"
   },
   {
    "duration": 18,
    "start_time": "2025-02-06T22:40:53.490Z"
   },
   {
    "duration": 4,
    "start_time": "2025-02-06T22:40:53.509Z"
   },
   {
    "duration": 10,
    "start_time": "2025-02-06T22:40:53.515Z"
   },
   {
    "duration": 290,
    "start_time": "2025-02-06T22:40:53.527Z"
   },
   {
    "duration": 0,
    "start_time": "2025-02-06T22:40:53.819Z"
   },
   {
    "duration": 0,
    "start_time": "2025-02-06T22:40:53.820Z"
   },
   {
    "duration": 0,
    "start_time": "2025-02-06T22:40:53.822Z"
   },
   {
    "duration": 0,
    "start_time": "2025-02-06T22:40:53.822Z"
   },
   {
    "duration": 0,
    "start_time": "2025-02-06T22:40:53.824Z"
   },
   {
    "duration": 12,
    "start_time": "2025-02-06T22:43:38.494Z"
   },
   {
    "duration": 16,
    "start_time": "2025-02-06T22:43:48.656Z"
   },
   {
    "duration": 12,
    "start_time": "2025-02-06T22:55:30.867Z"
   },
   {
    "duration": 664,
    "start_time": "2025-02-06T22:59:24.449Z"
   },
   {
    "duration": 131,
    "start_time": "2025-02-06T22:59:25.115Z"
   },
   {
    "duration": 17,
    "start_time": "2025-02-06T22:59:25.248Z"
   },
   {
    "duration": 23,
    "start_time": "2025-02-06T22:59:25.267Z"
   },
   {
    "duration": 10,
    "start_time": "2025-02-06T22:59:25.291Z"
   },
   {
    "duration": 11,
    "start_time": "2025-02-06T22:59:25.303Z"
   },
   {
    "duration": 9,
    "start_time": "2025-02-06T22:59:25.316Z"
   },
   {
    "duration": 5,
    "start_time": "2025-02-06T22:59:25.326Z"
   },
   {
    "duration": 33,
    "start_time": "2025-02-06T22:59:25.332Z"
   },
   {
    "duration": 8,
    "start_time": "2025-02-06T22:59:25.367Z"
   },
   {
    "duration": 22,
    "start_time": "2025-02-06T22:59:25.376Z"
   },
   {
    "duration": 18,
    "start_time": "2025-02-06T22:59:25.399Z"
   },
   {
    "duration": 57,
    "start_time": "2025-02-06T22:59:25.418Z"
   },
   {
    "duration": 9,
    "start_time": "2025-02-06T22:59:25.478Z"
   },
   {
    "duration": 32,
    "start_time": "2025-02-06T22:59:25.488Z"
   },
   {
    "duration": 12,
    "start_time": "2025-02-06T22:59:25.521Z"
   },
   {
    "duration": 9,
    "start_time": "2025-02-06T22:59:25.535Z"
   },
   {
    "duration": 16,
    "start_time": "2025-02-06T22:59:25.546Z"
   },
   {
    "duration": 34,
    "start_time": "2025-02-06T22:59:25.566Z"
   },
   {
    "duration": 39,
    "start_time": "2025-02-06T22:59:25.601Z"
   },
   {
    "duration": 8,
    "start_time": "2025-02-06T22:59:25.642Z"
   },
   {
    "duration": 19,
    "start_time": "2025-02-06T22:59:25.651Z"
   },
   {
    "duration": 13,
    "start_time": "2025-02-06T22:59:25.672Z"
   },
   {
    "duration": 15,
    "start_time": "2025-02-06T22:59:25.687Z"
   },
   {
    "duration": 6,
    "start_time": "2025-02-06T22:59:25.703Z"
   },
   {
    "duration": 22,
    "start_time": "2025-02-06T22:59:25.710Z"
   },
   {
    "duration": 17,
    "start_time": "2025-02-06T22:59:25.763Z"
   },
   {
    "duration": 15,
    "start_time": "2025-02-06T22:59:25.781Z"
   },
   {
    "duration": 63,
    "start_time": "2025-02-06T22:59:25.798Z"
   },
   {
    "duration": 26,
    "start_time": "2025-02-06T22:59:25.864Z"
   },
   {
    "duration": 6,
    "start_time": "2025-02-06T22:59:25.892Z"
   },
   {
    "duration": 5,
    "start_time": "2025-02-06T22:59:25.899Z"
   },
   {
    "duration": 10,
    "start_time": "2025-02-06T22:59:25.905Z"
   },
   {
    "duration": 314,
    "start_time": "2025-02-06T22:59:25.916Z"
   },
   {
    "duration": 0,
    "start_time": "2025-02-06T22:59:26.232Z"
   },
   {
    "duration": 0,
    "start_time": "2025-02-06T22:59:26.233Z"
   },
   {
    "duration": 0,
    "start_time": "2025-02-06T22:59:26.234Z"
   },
   {
    "duration": 0,
    "start_time": "2025-02-06T22:59:26.235Z"
   },
   {
    "duration": 0,
    "start_time": "2025-02-06T22:59:26.236Z"
   },
   {
    "duration": 33,
    "start_time": "2025-02-06T22:59:51.971Z"
   },
   {
    "duration": 29,
    "start_time": "2025-02-06T23:04:50.120Z"
   },
   {
    "duration": 31,
    "start_time": "2025-02-06T23:05:14.237Z"
   },
   {
    "duration": 228,
    "start_time": "2025-02-06T23:06:53.910Z"
   },
   {
    "duration": 7579,
    "start_time": "2025-02-06T23:08:17.482Z"
   },
   {
    "duration": 7920,
    "start_time": "2025-02-06T23:08:28.692Z"
   },
   {
    "duration": 7555,
    "start_time": "2025-02-06T23:11:03.282Z"
   },
   {
    "duration": 7634,
    "start_time": "2025-02-06T23:16:03.277Z"
   },
   {
    "duration": 49,
    "start_time": "2025-02-06T23:16:10.912Z"
   },
   {
    "duration": 7623,
    "start_time": "2025-02-06T23:16:11.547Z"
   },
   {
    "duration": 7667,
    "start_time": "2025-02-06T23:16:45.452Z"
   },
   {
    "duration": 31,
    "start_time": "2025-02-06T23:22:25.172Z"
   },
   {
    "duration": 62,
    "start_time": "2025-02-06T23:30:20.029Z"
   },
   {
    "duration": 66,
    "start_time": "2025-02-06T23:30:25.004Z"
   },
   {
    "duration": 73,
    "start_time": "2025-02-06T23:30:31.811Z"
   },
   {
    "duration": 80,
    "start_time": "2025-02-06T23:30:55.203Z"
   },
   {
    "duration": 59,
    "start_time": "2025-02-06T23:31:29.850Z"
   },
   {
    "duration": 81,
    "start_time": "2025-02-06T23:31:38.396Z"
   },
   {
    "duration": 148,
    "start_time": "2025-02-06T23:32:14.637Z"
   },
   {
    "duration": 62,
    "start_time": "2025-02-06T23:32:33.845Z"
   },
   {
    "duration": 61,
    "start_time": "2025-02-06T23:33:20.082Z"
   },
   {
    "duration": 704,
    "start_time": "2025-02-06T23:33:28.949Z"
   },
   {
    "duration": 125,
    "start_time": "2025-02-06T23:33:29.655Z"
   },
   {
    "duration": 18,
    "start_time": "2025-02-06T23:33:29.781Z"
   },
   {
    "duration": 19,
    "start_time": "2025-02-06T23:33:29.800Z"
   },
   {
    "duration": 10,
    "start_time": "2025-02-06T23:33:29.821Z"
   },
   {
    "duration": 30,
    "start_time": "2025-02-06T23:33:29.832Z"
   },
   {
    "duration": 17,
    "start_time": "2025-02-06T23:33:29.864Z"
   },
   {
    "duration": 4,
    "start_time": "2025-02-06T23:33:29.882Z"
   },
   {
    "duration": 7,
    "start_time": "2025-02-06T23:33:29.888Z"
   },
   {
    "duration": 6,
    "start_time": "2025-02-06T23:33:29.897Z"
   },
   {
    "duration": 69,
    "start_time": "2025-02-06T23:33:29.905Z"
   },
   {
    "duration": 19,
    "start_time": "2025-02-06T23:33:29.977Z"
   },
   {
    "duration": 25,
    "start_time": "2025-02-06T23:33:29.997Z"
   },
   {
    "duration": 35,
    "start_time": "2025-02-06T23:33:30.024Z"
   },
   {
    "duration": 25,
    "start_time": "2025-02-06T23:33:30.061Z"
   },
   {
    "duration": 44,
    "start_time": "2025-02-06T23:33:30.087Z"
   },
   {
    "duration": 10,
    "start_time": "2025-02-06T23:33:30.132Z"
   },
   {
    "duration": 29,
    "start_time": "2025-02-06T23:33:30.144Z"
   },
   {
    "duration": 25,
    "start_time": "2025-02-06T23:33:30.175Z"
   },
   {
    "duration": 6,
    "start_time": "2025-02-06T23:33:30.202Z"
   },
   {
    "duration": 18,
    "start_time": "2025-02-06T23:33:30.210Z"
   },
   {
    "duration": 17,
    "start_time": "2025-02-06T23:33:30.230Z"
   },
   {
    "duration": 32,
    "start_time": "2025-02-06T23:33:30.248Z"
   },
   {
    "duration": 30,
    "start_time": "2025-02-06T23:33:30.282Z"
   },
   {
    "duration": 15,
    "start_time": "2025-02-06T23:33:30.314Z"
   },
   {
    "duration": 25,
    "start_time": "2025-02-06T23:33:30.330Z"
   },
   {
    "duration": 19,
    "start_time": "2025-02-06T23:33:30.356Z"
   },
   {
    "duration": 14,
    "start_time": "2025-02-06T23:33:30.380Z"
   },
   {
    "duration": 49,
    "start_time": "2025-02-06T23:33:30.395Z"
   },
   {
    "duration": 65,
    "start_time": "2025-02-06T23:33:30.461Z"
   },
   {
    "duration": 0,
    "start_time": "2025-02-06T23:33:30.527Z"
   },
   {
    "duration": 1,
    "start_time": "2025-02-06T23:33:30.528Z"
   },
   {
    "duration": 0,
    "start_time": "2025-02-06T23:33:30.529Z"
   },
   {
    "duration": 0,
    "start_time": "2025-02-06T23:33:30.530Z"
   },
   {
    "duration": 0,
    "start_time": "2025-02-06T23:33:30.532Z"
   },
   {
    "duration": 0,
    "start_time": "2025-02-06T23:33:30.533Z"
   },
   {
    "duration": 0,
    "start_time": "2025-02-06T23:33:30.534Z"
   },
   {
    "duration": 0,
    "start_time": "2025-02-06T23:33:30.535Z"
   },
   {
    "duration": 0,
    "start_time": "2025-02-06T23:33:30.536Z"
   },
   {
    "duration": 0,
    "start_time": "2025-02-06T23:33:30.537Z"
   },
   {
    "duration": 0,
    "start_time": "2025-02-06T23:33:30.538Z"
   },
   {
    "duration": 24,
    "start_time": "2025-02-06T23:35:37.400Z"
   },
   {
    "duration": 7439,
    "start_time": "2025-02-06T23:38:08.947Z"
   },
   {
    "duration": 77,
    "start_time": "2025-02-06T23:39:00.390Z"
   },
   {
    "duration": 7582,
    "start_time": "2025-02-06T23:39:07.370Z"
   },
   {
    "duration": 37,
    "start_time": "2025-02-06T23:41:04.559Z"
   },
   {
    "duration": 205,
    "start_time": "2025-02-06T23:41:41.886Z"
   },
   {
    "duration": 36,
    "start_time": "2025-02-06T23:42:03.160Z"
   },
   {
    "duration": 612,
    "start_time": "2025-02-06T23:42:24.688Z"
   },
   {
    "duration": 99,
    "start_time": "2025-02-06T23:42:25.302Z"
   },
   {
    "duration": 16,
    "start_time": "2025-02-06T23:42:25.402Z"
   },
   {
    "duration": 21,
    "start_time": "2025-02-06T23:42:25.420Z"
   },
   {
    "duration": 18,
    "start_time": "2025-02-06T23:42:25.443Z"
   },
   {
    "duration": 13,
    "start_time": "2025-02-06T23:42:25.463Z"
   },
   {
    "duration": 10,
    "start_time": "2025-02-06T23:42:25.477Z"
   },
   {
    "duration": 5,
    "start_time": "2025-02-06T23:42:25.489Z"
   },
   {
    "duration": 28,
    "start_time": "2025-02-06T23:42:25.495Z"
   },
   {
    "duration": 34,
    "start_time": "2025-02-06T23:42:25.525Z"
   },
   {
    "duration": 21,
    "start_time": "2025-02-06T23:42:25.561Z"
   },
   {
    "duration": 19,
    "start_time": "2025-02-06T23:42:25.584Z"
   },
   {
    "duration": 33,
    "start_time": "2025-02-06T23:42:25.605Z"
   },
   {
    "duration": 21,
    "start_time": "2025-02-06T23:42:25.641Z"
   },
   {
    "duration": 2,
    "start_time": "2025-02-06T23:42:25.663Z"
   },
   {
    "duration": 19,
    "start_time": "2025-02-06T23:42:25.667Z"
   },
   {
    "duration": 60,
    "start_time": "2025-02-06T23:42:25.688Z"
   },
   {
    "duration": 20,
    "start_time": "2025-02-06T23:42:25.750Z"
   },
   {
    "duration": 14,
    "start_time": "2025-02-06T23:42:25.771Z"
   },
   {
    "duration": 17,
    "start_time": "2025-02-06T23:42:25.786Z"
   },
   {
    "duration": 49,
    "start_time": "2025-02-06T23:42:25.804Z"
   },
   {
    "duration": 21,
    "start_time": "2025-02-06T23:42:25.855Z"
   },
   {
    "duration": 12,
    "start_time": "2025-02-06T23:42:25.878Z"
   },
   {
    "duration": 18,
    "start_time": "2025-02-06T23:42:25.892Z"
   },
   {
    "duration": 6,
    "start_time": "2025-02-06T23:42:25.912Z"
   },
   {
    "duration": 50,
    "start_time": "2025-02-06T23:42:25.919Z"
   },
   {
    "duration": 10,
    "start_time": "2025-02-06T23:42:25.971Z"
   },
   {
    "duration": 14,
    "start_time": "2025-02-06T23:42:25.983Z"
   },
   {
    "duration": 81,
    "start_time": "2025-02-06T23:42:25.998Z"
   },
   {
    "duration": 26,
    "start_time": "2025-02-06T23:42:26.081Z"
   },
   {
    "duration": 2,
    "start_time": "2025-02-06T23:42:26.109Z"
   },
   {
    "duration": 8,
    "start_time": "2025-02-06T23:42:26.113Z"
   },
   {
    "duration": 14,
    "start_time": "2025-02-06T23:42:26.122Z"
   },
   {
    "duration": 7636,
    "start_time": "2025-02-06T23:42:26.137Z"
   },
   {
    "duration": 29,
    "start_time": "2025-02-06T23:42:33.775Z"
   },
   {
    "duration": 24,
    "start_time": "2025-02-06T23:42:33.807Z"
   },
   {
    "duration": 42,
    "start_time": "2025-02-06T23:42:33.833Z"
   },
   {
    "duration": 18,
    "start_time": "2025-02-06T23:42:33.877Z"
   },
   {
    "duration": 50,
    "start_time": "2025-02-06T23:42:33.898Z"
   },
   {
    "duration": 25,
    "start_time": "2025-02-06T23:42:33.951Z"
   },
   {
    "duration": 30,
    "start_time": "2025-02-06T23:44:33.439Z"
   },
   {
    "duration": 688,
    "start_time": "2025-02-06T23:45:24.335Z"
   },
   {
    "duration": 93,
    "start_time": "2025-02-06T23:45:25.025Z"
   },
   {
    "duration": 16,
    "start_time": "2025-02-06T23:45:25.120Z"
   },
   {
    "duration": 18,
    "start_time": "2025-02-06T23:45:25.138Z"
   },
   {
    "duration": 10,
    "start_time": "2025-02-06T23:45:25.158Z"
   },
   {
    "duration": 12,
    "start_time": "2025-02-06T23:45:25.170Z"
   },
   {
    "duration": 10,
    "start_time": "2025-02-06T23:45:25.183Z"
   },
   {
    "duration": 4,
    "start_time": "2025-02-06T23:45:25.194Z"
   },
   {
    "duration": 10,
    "start_time": "2025-02-06T23:45:25.200Z"
   },
   {
    "duration": 6,
    "start_time": "2025-02-06T23:45:25.211Z"
   },
   {
    "duration": 54,
    "start_time": "2025-02-06T23:45:25.218Z"
   },
   {
    "duration": 19,
    "start_time": "2025-02-06T23:45:25.273Z"
   },
   {
    "duration": 23,
    "start_time": "2025-02-06T23:45:25.293Z"
   },
   {
    "duration": 10,
    "start_time": "2025-02-06T23:45:25.319Z"
   },
   {
    "duration": 3,
    "start_time": "2025-02-06T23:45:25.330Z"
   },
   {
    "duration": 11,
    "start_time": "2025-02-06T23:45:25.362Z"
   },
   {
    "duration": 8,
    "start_time": "2025-02-06T23:45:25.374Z"
   },
   {
    "duration": 9,
    "start_time": "2025-02-06T23:45:25.384Z"
   },
   {
    "duration": 14,
    "start_time": "2025-02-06T23:45:25.395Z"
   },
   {
    "duration": 6,
    "start_time": "2025-02-06T23:45:25.411Z"
   },
   {
    "duration": 5,
    "start_time": "2025-02-06T23:45:25.419Z"
   },
   {
    "duration": 16,
    "start_time": "2025-02-06T23:45:25.462Z"
   },
   {
    "duration": 30,
    "start_time": "2025-02-06T23:45:25.480Z"
   },
   {
    "duration": 17,
    "start_time": "2025-02-06T23:45:25.511Z"
   },
   {
    "duration": 5,
    "start_time": "2025-02-06T23:45:25.530Z"
   },
   {
    "duration": 32,
    "start_time": "2025-02-06T23:45:25.537Z"
   },
   {
    "duration": 11,
    "start_time": "2025-02-06T23:45:25.571Z"
   },
   {
    "duration": 18,
    "start_time": "2025-02-06T23:45:25.583Z"
   },
   {
    "duration": 77,
    "start_time": "2025-02-06T23:45:25.603Z"
   },
   {
    "duration": 21,
    "start_time": "2025-02-06T23:45:25.682Z"
   },
   {
    "duration": 40,
    "start_time": "2025-02-06T23:45:25.705Z"
   },
   {
    "duration": 23,
    "start_time": "2025-02-06T23:45:25.747Z"
   },
   {
    "duration": 3,
    "start_time": "2025-02-06T23:45:25.771Z"
   },
   {
    "duration": 7559,
    "start_time": "2025-02-06T23:45:25.775Z"
   },
   {
    "duration": 8,
    "start_time": "2025-02-06T23:45:33.335Z"
   },
   {
    "duration": 28,
    "start_time": "2025-02-06T23:45:33.345Z"
   },
   {
    "duration": 17,
    "start_time": "2025-02-06T23:45:33.375Z"
   },
   {
    "duration": 10,
    "start_time": "2025-02-06T23:45:33.394Z"
   },
   {
    "duration": 25,
    "start_time": "2025-02-06T23:45:33.406Z"
   },
   {
    "duration": 40,
    "start_time": "2025-02-06T23:45:33.433Z"
   },
   {
    "duration": 7360,
    "start_time": "2025-02-06T23:47:14.876Z"
   },
   {
    "duration": 8,
    "start_time": "2025-02-06T23:47:24.139Z"
   },
   {
    "duration": 17,
    "start_time": "2025-02-06T23:47:28.541Z"
   },
   {
    "duration": 613,
    "start_time": "2025-02-06T23:49:33.507Z"
   },
   {
    "duration": 117,
    "start_time": "2025-02-06T23:49:34.121Z"
   },
   {
    "duration": 16,
    "start_time": "2025-02-06T23:49:34.240Z"
   },
   {
    "duration": 21,
    "start_time": "2025-02-06T23:49:34.257Z"
   },
   {
    "duration": 19,
    "start_time": "2025-02-06T23:49:34.280Z"
   },
   {
    "duration": 22,
    "start_time": "2025-02-06T23:49:34.301Z"
   },
   {
    "duration": 11,
    "start_time": "2025-02-06T23:49:34.324Z"
   },
   {
    "duration": 23,
    "start_time": "2025-02-06T23:49:34.336Z"
   },
   {
    "duration": 10,
    "start_time": "2025-02-06T23:49:34.360Z"
   },
   {
    "duration": 32,
    "start_time": "2025-02-06T23:49:34.371Z"
   },
   {
    "duration": 45,
    "start_time": "2025-02-06T23:49:34.405Z"
   },
   {
    "duration": 20,
    "start_time": "2025-02-06T23:49:34.452Z"
   },
   {
    "duration": 25,
    "start_time": "2025-02-06T23:49:34.473Z"
   },
   {
    "duration": 21,
    "start_time": "2025-02-06T23:49:34.501Z"
   },
   {
    "duration": 9,
    "start_time": "2025-02-06T23:49:34.523Z"
   },
   {
    "duration": 24,
    "start_time": "2025-02-06T23:49:34.533Z"
   },
   {
    "duration": 29,
    "start_time": "2025-02-06T23:49:34.559Z"
   },
   {
    "duration": 10,
    "start_time": "2025-02-06T23:49:34.590Z"
   },
   {
    "duration": 35,
    "start_time": "2025-02-06T23:49:34.601Z"
   },
   {
    "duration": 7,
    "start_time": "2025-02-06T23:49:34.637Z"
   },
   {
    "duration": 25,
    "start_time": "2025-02-06T23:49:34.645Z"
   },
   {
    "duration": 29,
    "start_time": "2025-02-06T23:49:34.673Z"
   },
   {
    "duration": 27,
    "start_time": "2025-02-06T23:49:34.704Z"
   },
   {
    "duration": 37,
    "start_time": "2025-02-06T23:49:34.733Z"
   },
   {
    "duration": 14,
    "start_time": "2025-02-06T23:49:34.772Z"
   },
   {
    "duration": 35,
    "start_time": "2025-02-06T23:49:34.788Z"
   },
   {
    "duration": 23,
    "start_time": "2025-02-06T23:49:34.824Z"
   },
   {
    "duration": 27,
    "start_time": "2025-02-06T23:49:34.849Z"
   },
   {
    "duration": 47,
    "start_time": "2025-02-06T23:49:34.877Z"
   },
   {
    "duration": 23,
    "start_time": "2025-02-06T23:49:34.925Z"
   },
   {
    "duration": 3,
    "start_time": "2025-02-06T23:49:34.960Z"
   },
   {
    "duration": 30,
    "start_time": "2025-02-06T23:49:34.965Z"
   },
   {
    "duration": 42,
    "start_time": "2025-02-06T23:49:34.997Z"
   },
   {
    "duration": 7796,
    "start_time": "2025-02-06T23:49:35.040Z"
   },
   {
    "duration": 23,
    "start_time": "2025-02-06T23:49:42.838Z"
   },
   {
    "duration": 20,
    "start_time": "2025-02-06T23:49:42.862Z"
   },
   {
    "duration": 18,
    "start_time": "2025-02-06T23:49:42.884Z"
   },
   {
    "duration": 15,
    "start_time": "2025-02-06T23:49:42.904Z"
   },
   {
    "duration": 66,
    "start_time": "2025-02-06T23:49:42.921Z"
   },
   {
    "duration": 20,
    "start_time": "2025-02-06T23:49:42.989Z"
   },
   {
    "duration": 613,
    "start_time": "2025-02-07T00:24:08.912Z"
   },
   {
    "duration": 113,
    "start_time": "2025-02-07T00:24:09.527Z"
   },
   {
    "duration": 15,
    "start_time": "2025-02-07T00:24:09.642Z"
   },
   {
    "duration": 20,
    "start_time": "2025-02-07T00:24:09.659Z"
   },
   {
    "duration": 10,
    "start_time": "2025-02-07T00:24:09.681Z"
   },
   {
    "duration": 12,
    "start_time": "2025-02-07T00:24:09.693Z"
   },
   {
    "duration": 12,
    "start_time": "2025-02-07T00:24:09.707Z"
   },
   {
    "duration": 4,
    "start_time": "2025-02-07T00:24:09.721Z"
   },
   {
    "duration": 36,
    "start_time": "2025-02-07T00:24:09.727Z"
   },
   {
    "duration": 6,
    "start_time": "2025-02-07T00:24:09.765Z"
   },
   {
    "duration": 21,
    "start_time": "2025-02-07T00:24:09.772Z"
   },
   {
    "duration": 18,
    "start_time": "2025-02-07T00:24:09.795Z"
   },
   {
    "duration": 59,
    "start_time": "2025-02-07T00:24:09.815Z"
   },
   {
    "duration": 10,
    "start_time": "2025-02-07T00:24:09.876Z"
   },
   {
    "duration": 52,
    "start_time": "2025-02-07T00:24:09.887Z"
   },
   {
    "duration": 11,
    "start_time": "2025-02-07T00:24:09.940Z"
   },
   {
    "duration": 8,
    "start_time": "2025-02-07T00:24:09.952Z"
   },
   {
    "duration": 10,
    "start_time": "2025-02-07T00:24:09.961Z"
   },
   {
    "duration": 14,
    "start_time": "2025-02-07T00:24:09.972Z"
   },
   {
    "duration": 5,
    "start_time": "2025-02-07T00:24:09.988Z"
   },
   {
    "duration": 6,
    "start_time": "2025-02-07T00:24:09.994Z"
   },
   {
    "duration": 15,
    "start_time": "2025-02-07T00:24:10.001Z"
   },
   {
    "duration": 15,
    "start_time": "2025-02-07T00:24:10.018Z"
   },
   {
    "duration": 42,
    "start_time": "2025-02-07T00:24:10.034Z"
   },
   {
    "duration": 6,
    "start_time": "2025-02-07T00:24:10.077Z"
   },
   {
    "duration": 22,
    "start_time": "2025-02-07T00:24:10.084Z"
   },
   {
    "duration": 21,
    "start_time": "2025-02-07T00:24:10.107Z"
   },
   {
    "duration": 31,
    "start_time": "2025-02-07T00:24:10.131Z"
   },
   {
    "duration": 47,
    "start_time": "2025-02-07T00:24:10.163Z"
   },
   {
    "duration": 24,
    "start_time": "2025-02-07T00:24:10.212Z"
   },
   {
    "duration": 23,
    "start_time": "2025-02-07T00:24:10.238Z"
   },
   {
    "duration": 4,
    "start_time": "2025-02-07T00:24:10.263Z"
   },
   {
    "duration": 4,
    "start_time": "2025-02-07T00:24:10.269Z"
   },
   {
    "duration": 7461,
    "start_time": "2025-02-07T00:24:10.274Z"
   },
   {
    "duration": 8,
    "start_time": "2025-02-07T00:24:17.737Z"
   },
   {
    "duration": 23,
    "start_time": "2025-02-07T00:24:17.746Z"
   },
   {
    "duration": 16,
    "start_time": "2025-02-07T00:24:17.771Z"
   },
   {
    "duration": 14,
    "start_time": "2025-02-07T00:24:17.789Z"
   },
   {
    "duration": 25,
    "start_time": "2025-02-07T00:24:17.804Z"
   },
   {
    "duration": 44,
    "start_time": "2025-02-07T00:24:17.830Z"
   },
   {
    "duration": 6,
    "start_time": "2025-02-07T00:43:30.221Z"
   },
   {
    "duration": 6,
    "start_time": "2025-02-07T00:43:39.871Z"
   },
   {
    "duration": 616,
    "start_time": "2025-02-07T00:44:01.513Z"
   },
   {
    "duration": 196,
    "start_time": "2025-02-07T00:44:02.131Z"
   },
   {
    "duration": 15,
    "start_time": "2025-02-07T00:44:02.328Z"
   },
   {
    "duration": 17,
    "start_time": "2025-02-07T00:44:02.345Z"
   },
   {
    "duration": 10,
    "start_time": "2025-02-07T00:44:02.365Z"
   },
   {
    "duration": 28,
    "start_time": "2025-02-07T00:44:02.377Z"
   },
   {
    "duration": 13,
    "start_time": "2025-02-07T00:44:02.406Z"
   },
   {
    "duration": 4,
    "start_time": "2025-02-07T00:44:02.420Z"
   },
   {
    "duration": 25,
    "start_time": "2025-02-07T00:44:02.425Z"
   },
   {
    "duration": 14,
    "start_time": "2025-02-07T00:44:02.452Z"
   },
   {
    "duration": 37,
    "start_time": "2025-02-07T00:44:02.468Z"
   },
   {
    "duration": 18,
    "start_time": "2025-02-07T00:44:02.506Z"
   },
   {
    "duration": 33,
    "start_time": "2025-02-07T00:44:02.526Z"
   },
   {
    "duration": 35,
    "start_time": "2025-02-07T00:44:02.562Z"
   },
   {
    "duration": 18,
    "start_time": "2025-02-07T00:44:02.599Z"
   },
   {
    "duration": 16,
    "start_time": "2025-02-07T00:44:02.618Z"
   },
   {
    "duration": 16,
    "start_time": "2025-02-07T00:44:02.635Z"
   },
   {
    "duration": 32,
    "start_time": "2025-02-07T00:44:02.652Z"
   },
   {
    "duration": 18,
    "start_time": "2025-02-07T00:44:02.686Z"
   },
   {
    "duration": 10,
    "start_time": "2025-02-07T00:44:02.706Z"
   },
   {
    "duration": 8,
    "start_time": "2025-02-07T00:44:02.718Z"
   },
   {
    "duration": 22,
    "start_time": "2025-02-07T00:44:02.728Z"
   },
   {
    "duration": 16,
    "start_time": "2025-02-07T00:44:02.752Z"
   },
   {
    "duration": 30,
    "start_time": "2025-02-07T00:44:02.769Z"
   },
   {
    "duration": 6,
    "start_time": "2025-02-07T00:44:02.801Z"
   },
   {
    "duration": 40,
    "start_time": "2025-02-07T00:44:02.808Z"
   },
   {
    "duration": 22,
    "start_time": "2025-02-07T00:44:02.849Z"
   },
   {
    "duration": 57,
    "start_time": "2025-02-07T00:44:02.872Z"
   },
   {
    "duration": 44,
    "start_time": "2025-02-07T00:44:02.931Z"
   },
   {
    "duration": 22,
    "start_time": "2025-02-07T00:44:02.976Z"
   },
   {
    "duration": 2,
    "start_time": "2025-02-07T00:44:03.000Z"
   },
   {
    "duration": 35,
    "start_time": "2025-02-07T00:44:03.003Z"
   },
   {
    "duration": 5,
    "start_time": "2025-02-07T00:44:03.039Z"
   },
   {
    "duration": 7239,
    "start_time": "2025-02-07T00:44:03.045Z"
   },
   {
    "duration": 8,
    "start_time": "2025-02-07T00:44:10.285Z"
   },
   {
    "duration": 18,
    "start_time": "2025-02-07T00:44:10.294Z"
   },
   {
    "duration": 21,
    "start_time": "2025-02-07T00:44:10.314Z"
   },
   {
    "duration": 26,
    "start_time": "2025-02-07T00:44:10.336Z"
   },
   {
    "duration": 24,
    "start_time": "2025-02-07T00:44:10.363Z"
   },
   {
    "duration": 19,
    "start_time": "2025-02-07T00:44:10.389Z"
   },
   {
    "duration": 593,
    "start_time": "2025-02-07T00:46:12.416Z"
   },
   {
    "duration": 93,
    "start_time": "2025-02-07T00:46:13.011Z"
   },
   {
    "duration": 15,
    "start_time": "2025-02-07T00:46:13.106Z"
   },
   {
    "duration": 18,
    "start_time": "2025-02-07T00:46:13.123Z"
   },
   {
    "duration": 18,
    "start_time": "2025-02-07T00:46:13.143Z"
   },
   {
    "duration": 12,
    "start_time": "2025-02-07T00:46:13.163Z"
   },
   {
    "duration": 25,
    "start_time": "2025-02-07T00:46:13.176Z"
   },
   {
    "duration": 10,
    "start_time": "2025-02-07T00:46:13.202Z"
   },
   {
    "duration": 6,
    "start_time": "2025-02-07T00:46:13.213Z"
   },
   {
    "duration": 6,
    "start_time": "2025-02-07T00:46:13.221Z"
   },
   {
    "duration": 34,
    "start_time": "2025-02-07T00:46:13.228Z"
   },
   {
    "duration": 19,
    "start_time": "2025-02-07T00:46:13.263Z"
   },
   {
    "duration": 23,
    "start_time": "2025-02-07T00:46:13.283Z"
   },
   {
    "duration": 8,
    "start_time": "2025-02-07T00:46:13.308Z"
   },
   {
    "duration": 2,
    "start_time": "2025-02-07T00:46:13.318Z"
   },
   {
    "duration": 40,
    "start_time": "2025-02-07T00:46:13.321Z"
   },
   {
    "duration": 8,
    "start_time": "2025-02-07T00:46:13.363Z"
   },
   {
    "duration": 9,
    "start_time": "2025-02-07T00:46:13.373Z"
   },
   {
    "duration": 14,
    "start_time": "2025-02-07T00:46:13.384Z"
   },
   {
    "duration": 5,
    "start_time": "2025-02-07T00:46:13.400Z"
   },
   {
    "duration": 5,
    "start_time": "2025-02-07T00:46:13.406Z"
   },
   {
    "duration": 13,
    "start_time": "2025-02-07T00:46:13.413Z"
   },
   {
    "duration": 11,
    "start_time": "2025-02-07T00:46:13.462Z"
   },
   {
    "duration": 15,
    "start_time": "2025-02-07T00:46:13.474Z"
   },
   {
    "duration": 5,
    "start_time": "2025-02-07T00:46:13.491Z"
   },
   {
    "duration": 24,
    "start_time": "2025-02-07T00:46:13.498Z"
   },
   {
    "duration": 37,
    "start_time": "2025-02-07T00:46:13.524Z"
   },
   {
    "duration": 13,
    "start_time": "2025-02-07T00:46:13.563Z"
   },
   {
    "duration": 50,
    "start_time": "2025-02-07T00:46:13.578Z"
   },
   {
    "duration": 47,
    "start_time": "2025-02-07T00:46:13.630Z"
   },
   {
    "duration": 2,
    "start_time": "2025-02-07T00:46:13.678Z"
   },
   {
    "duration": 8,
    "start_time": "2025-02-07T00:46:13.682Z"
   },
   {
    "duration": 20,
    "start_time": "2025-02-07T00:46:13.691Z"
   },
   {
    "duration": 7310,
    "start_time": "2025-02-07T00:46:13.713Z"
   },
   {
    "duration": 8,
    "start_time": "2025-02-07T00:46:21.025Z"
   },
   {
    "duration": 46,
    "start_time": "2025-02-07T00:46:21.035Z"
   },
   {
    "duration": 27,
    "start_time": "2025-02-07T00:46:21.083Z"
   },
   {
    "duration": 10,
    "start_time": "2025-02-07T00:46:21.111Z"
   },
   {
    "duration": 24,
    "start_time": "2025-02-07T00:46:21.122Z"
   },
   {
    "duration": 21,
    "start_time": "2025-02-07T00:46:21.148Z"
   },
   {
    "duration": 49,
    "start_time": "2025-06-22T09:41:23.055Z"
   },
   {
    "duration": 765,
    "start_time": "2025-06-22T09:46:51.592Z"
   },
   {
    "duration": 74,
    "start_time": "2025-06-22T09:46:52.359Z"
   },
   {
    "duration": 17,
    "start_time": "2025-06-22T09:46:52.435Z"
   },
   {
    "duration": 23,
    "start_time": "2025-06-22T09:46:52.455Z"
   },
   {
    "duration": 11,
    "start_time": "2025-06-22T09:46:52.480Z"
   },
   {
    "duration": 49,
    "start_time": "2025-06-22T09:46:52.492Z"
   },
   {
    "duration": 10,
    "start_time": "2025-06-22T09:46:52.543Z"
   },
   {
    "duration": 6,
    "start_time": "2025-06-22T09:46:52.555Z"
   },
   {
    "duration": 53,
    "start_time": "2025-06-22T09:46:52.562Z"
   },
   {
    "duration": 23,
    "start_time": "2025-06-22T09:46:52.618Z"
   },
   {
    "duration": 25,
    "start_time": "2025-06-22T09:46:52.643Z"
   },
   {
    "duration": 19,
    "start_time": "2025-06-22T09:46:52.669Z"
   },
   {
    "duration": 45,
    "start_time": "2025-06-22T09:46:52.690Z"
   },
   {
    "duration": 74,
    "start_time": "2025-06-22T09:46:52.736Z"
   },
   {
    "duration": 23,
    "start_time": "2025-06-22T09:46:52.812Z"
   },
   {
    "duration": 12,
    "start_time": "2025-06-22T09:46:52.836Z"
   },
   {
    "duration": 20,
    "start_time": "2025-06-22T09:46:52.849Z"
   },
   {
    "duration": 137,
    "start_time": "2025-06-22T09:46:52.870Z"
   },
   {
    "duration": 11,
    "start_time": "2025-06-22T09:46:53.008Z"
   },
   {
    "duration": 6,
    "start_time": "2025-06-22T09:46:53.021Z"
   },
   {
    "duration": 18,
    "start_time": "2025-06-22T09:46:53.028Z"
   },
   {
    "duration": 13,
    "start_time": "2025-06-22T09:46:53.047Z"
   },
   {
    "duration": 18,
    "start_time": "2025-06-22T09:46:53.063Z"
   },
   {
    "duration": 7,
    "start_time": "2025-06-22T09:46:53.083Z"
   },
   {
    "duration": 115,
    "start_time": "2025-06-22T09:46:53.092Z"
   },
   {
    "duration": 53,
    "start_time": "2025-06-22T09:46:53.209Z"
   },
   {
    "duration": 13,
    "start_time": "2025-06-22T09:46:53.264Z"
   },
   {
    "duration": 51,
    "start_time": "2025-06-22T09:46:53.280Z"
   },
   {
    "duration": 25,
    "start_time": "2025-06-22T09:46:53.332Z"
   },
   {
    "duration": 7634,
    "start_time": "2025-06-22T09:46:53.358Z"
   },
   {
    "duration": 8,
    "start_time": "2025-06-22T09:47:00.993Z"
   },
   {
    "duration": 32,
    "start_time": "2025-06-22T09:47:01.003Z"
   },
   {
    "duration": 19,
    "start_time": "2025-06-22T09:47:01.037Z"
   },
   {
    "duration": 12,
    "start_time": "2025-06-22T09:47:01.058Z"
   },
   {
    "duration": 42,
    "start_time": "2025-06-22T09:47:01.071Z"
   },
   {
    "duration": 124,
    "start_time": "2025-06-22T09:47:01.115Z"
   }
  ],
  "colab": {
   "provenance": []
  },
  "kernelspec": {
   "display_name": "Python 3 (ipykernel)",
   "language": "python",
   "name": "python3"
  },
  "language_info": {
   "codemirror_mode": {
    "name": "ipython",
    "version": 3
   },
   "file_extension": ".py",
   "mimetype": "text/x-python",
   "name": "python",
   "nbconvert_exporter": "python",
   "pygments_lexer": "ipython3",
   "version": "3.9.5"
  },
  "toc": {
   "base_numbering": 1,
   "nav_menu": {
    "height": "161px",
    "width": "167px"
   },
   "number_sections": true,
   "sideBar": true,
   "skip_h1_title": true,
   "title_cell": "Table of Contents",
   "title_sidebar": "Contents",
   "toc_cell": false,
   "toc_position": {
    "height": "calc(100% - 180px)",
    "left": "10px",
    "top": "150px",
    "width": "308.047px"
   },
   "toc_section_display": true,
   "toc_window_display": false
  }
 },
 "nbformat": 4,
 "nbformat_minor": 5
}
